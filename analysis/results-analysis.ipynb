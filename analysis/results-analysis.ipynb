{
 "cells": [
  {
   "cell_type": "code",
   "execution_count": 1,
   "id": "8f1aefcc",
   "metadata": {},
   "outputs": [],
   "source": [
    "import pandas as pd\n",
    "import plotly.express as px\n",
    "import plotly.graph_objects as go\n",
    "from plotly.subplots import make_subplots\n",
    "import os\n",
    "import numpy as np\n",
    "import re"
   ]
  },
  {
   "cell_type": "code",
   "execution_count": 2,
   "id": "bd5269fc",
   "metadata": {},
   "outputs": [],
   "source": [
    "txt_file = '/Users/elisanobile/Documents/IIASA/disruptsc_v1/output/interacting-hazards_v2.txt'\n",
    "results_folder = '/Users/elisanobile/Documents/IIASA/disruptsc_v1/output/Cambodia/'"
   ]
  },
  {
   "cell_type": "code",
   "execution_count": 3,
   "id": "10e7f6c2",
   "metadata": {},
   "outputs": [
    {
     "data": {
      "text/plain": [
       "['# BASELINE\\n',\n",
       " '\\n',\n",
       " 'events:\\n',\n",
       " '  - type: transport_disruption\\n',\n",
       " '    description_type: edge_attributes\\n',\n",
       " '    attribute: flood_disruption\\n',\n",
       " '    values: [\"Saigon\"]\\n',\n",
       " '    start_time: 1\\n',\n",
       " '    duration: 1\\n',\n",
       " '  - type: transport_disruption\\n',\n",
       " '    description_type: edge_attributes\\n',\n",
       " '    attribute: flood_disruption\\n',\n",
       " '    values: [\"Siem Bok (Mekong)\"]\\n',\n",
       " '    start_time: 1\\n',\n",
       " '    duration: 1\\n',\n",
       " '  - type: transport_disruption\\n',\n",
       " '    description_type: edge_attributes\\n',\n",
       " '    attribute: flood_disruption\\n',\n",
       " '    values: [\"St. Sen (Tonlè Sap)\"]\\n',\n",
       " '    start_time: 1\\n',\n",
       " '    duration: 1\\n',\n",
       " '\\n',\n",
       " 'Exporting loss time series of households per region sector to /Users/elisanobile/Documents/IIASA/disruptsc_v1/output/Cambodia/20250616_110722\\n',\n",
       " 'Exporting loss time series of countries to /Users/elisanobile/Documents/IIASA/disruptsc_v1/output/Cambodia/20250616_110722\\n',\n",
       " 'Cumulated household loss: 29.67 mUSD\\n',\n",
       " 'Cumulated country loss: 5.01 mUSD\\n',\n",
       " 'End of simulation\\n',\n",
       " '\\n',\n",
       " '# SAIGON ONLY\\n',\n",
       " 'events:\\n',\n",
       " '  - type: transport_disruption\\n',\n",
       " '    description_type: edge_attributes\\n',\n",
       " '    attribute: flood_disruption\\n',\n",
       " '    values: [\"Saigon\"]\\n',\n",
       " '    start_time: 1\\n',\n",
       " '    duration: 1\\n',\n",
       " '\\n',\n",
       " 'Exporting loss time series of households per region sector to /Users/elisanobile/Documents/IIASA/disruptsc_v1/output/Cambodia/20250616_100610\\n',\n",
       " 'Exporting loss time series of countries to /Users/elisanobile/Documents/IIASA/disruptsc_v1/output/Cambodia/20250616_100610\\n',\n",
       " 'Cumulated household loss: 4.81 mUSD\\n',\n",
       " 'Cumulated country loss: 0.87 mUSD\\n',\n",
       " 'End of simulation\\n',\n",
       " '\\n',\n",
       " '# MEKONG ONLY\\n',\n",
       " 'events:\\n',\n",
       " '  - type: transport_disruption\\n',\n",
       " '    description_type: edge_attributes\\n',\n",
       " '    attribute: flood_disruption\\n',\n",
       " '    values: [\"Siem Bok (Mekong)\"]\\n',\n",
       " '    start_time: 1\\n',\n",
       " '    duration: 1\\n',\n",
       " '\\n',\n",
       " 'Exporting loss time series of households per region sector to /Users/elisanobile/Documents/IIASA/disruptsc_v1/output/Cambodia/20250616_102153\\n',\n",
       " 'Exporting loss time series of countries to /Users/elisanobile/Documents/IIASA/disruptsc_v1/output/Cambodia/20250616_102153\\n',\n",
       " 'Cumulated household loss: 22.47 mUSD\\n',\n",
       " 'Cumulated country loss: 7.80 mUSD\\n',\n",
       " 'End of simulation\\n',\n",
       " '\\n',\n",
       " \"# TONLE' SAP\\n\",\n",
       " 'events:\\n',\n",
       " '  - type: transport_disruption\\n',\n",
       " '    description_type: edge_attributes\\n',\n",
       " '    attribute: flood_disruption\\n',\n",
       " '    values: [\"St. Sen (Tonlè Sap)\"]\\n',\n",
       " '    start_time: 1\\n',\n",
       " '    duration: 1\\n',\n",
       " '\\n',\n",
       " 'Exporting loss time series of households per region sector to /Users/elisanobile/Documents/IIASA/disruptsc_v1/output/Cambodia/20250616_105406\\n',\n",
       " 'Exporting loss time series of countries to /Users/elisanobile/Documents/IIASA/disruptsc_v1/output/Cambodia/20250616_105406\\n',\n",
       " 'Cumulated household loss: 3.65 mUSD\\n',\n",
       " 'Cumulated country loss: 0.79 mUSD\\n',\n",
       " 'End of simulation\\n',\n",
       " '\\n',\n",
       " '# CASCADING AND COMPOUND HAZARDS\\n',\n",
       " 'events:\\n',\n",
       " '  - type: transport_disruption\\n',\n",
       " '    description_type: edge_attributes\\n',\n",
       " '    attribute: flood_disruption\\n',\n",
       " '    values: [\"Saigon\"]\\n',\n",
       " '    start_time: 1\\n',\n",
       " '    duration: 1\\n',\n",
       " '  - type: transport_disruption\\n',\n",
       " '    description_type: edge_attributes\\n',\n",
       " '    attribute: flood_disruption\\n',\n",
       " '    values: [\"Siem Bok (Mekong)\"]\\n',\n",
       " '    start_time: 2\\n',\n",
       " '    duration: 1\\n',\n",
       " '  - type: transport_disruption\\n',\n",
       " '    description_type: edge_attributes\\n',\n",
       " '    attribute: flood_disruption\\n',\n",
       " '    values: [\"St. Sen (Tonlè Sap)\"]\\n',\n",
       " '    start_time: 2\\n',\n",
       " '    duration: 1\\n',\n",
       " '\\n',\n",
       " 'Exporting loss time series of households per region sector to /Users/elisanobile/Documents/IIASA/disruptsc_v1/output/Cambodia/20250616_114510\\n',\n",
       " 'Exporting loss time series of countries to /Users/elisanobile/Documents/IIASA/disruptsc_v1/output/Cambodia/20250616_114510\\n',\n",
       " 'Cumulated household loss: 29.50 mUSD\\n',\n",
       " 'Cumulated country loss: 6.83 mUSD\\n',\n",
       " 'End of simulation\\n',\n",
       " '\\n',\n",
       " '# CASCADING HAZARDS\\n',\n",
       " 'events:\\n',\n",
       " '  - type: transport_disruption\\n',\n",
       " '    description_type: edge_attributes\\n',\n",
       " '    attribute: flood_disruption\\n',\n",
       " '    values: [\"Saigon\"]\\n',\n",
       " '    start_time: 1\\n',\n",
       " '    duration: 1\\n',\n",
       " '  - type: transport_disruption\\n',\n",
       " '    description_type: edge_attributes\\n',\n",
       " '    attribute: flood_disruption\\n',\n",
       " '    values: [\"Siem Bok (Mekong)\"]\\n',\n",
       " '    start_time: 2\\n',\n",
       " '    duration: 1\\n',\n",
       " '  - type: transport_disruption\\n',\n",
       " '    description_type: edge_attributes\\n',\n",
       " '    attribute: flood_disruption\\n',\n",
       " '    values: [\"St. Sen (Tonlè Sap)\"]\\n',\n",
       " '    start_time: 3\\n',\n",
       " '    duration: 1\\n',\n",
       " '\\n',\n",
       " 'Exporting loss time series of households per region sector to /Users/elisanobile/Documents/IIASA/disruptsc_v1/output/Cambodia/20250616_124445\\n',\n",
       " 'Exporting loss time series of countries to /Users/elisanobile/Documents/IIASA/disruptsc_v1/output/Cambodia/20250616_124445\\n',\n",
       " 'Cumulated household loss: 31.25 mUSD\\n',\n",
       " 'Cumulated country loss: 10.32 mUSD\\n',\n",
       " 'End of simulation']"
      ]
     },
     "execution_count": 3,
     "metadata": {},
     "output_type": "execute_result"
    }
   ],
   "source": [
    "# Read the text file\n",
    "with open(txt_file, 'r') as file:\n",
    "    lines = file.readlines()\n",
    "\n",
    "lines"
   ]
  },
  {
   "cell_type": "code",
   "execution_count": 70,
   "id": "fa9897a7",
   "metadata": {},
   "outputs": [],
   "source": [
    "scenarios = [\n",
    "    {\"name\": \"Simultaneous\", \"folder\": \"20250616_110722\"}, # 3 basins\n",
    "    {\"name\": \"Saigon only\", \"folder\": \"20250616_100610\"}, # 1 basin\n",
    "    {\"name\": \"Mekong only\", \"folder\": \"20250616_102153\"}, # 1 basin\n",
    "    {\"name\": \"Tonlè Sap only\", \"folder\": \"20250616_105406\"}, # 1 basin\n",
    "    {\"name\": \"Cascading\", \"folder\": \"20250616_124445\"}, # Saigon first + Mekong second + Tonlè Sap third (3 basins)\n",
    "    {\"name\": \"Mixed\", \"folder\": \"20250616_114510\"}, # Saigon first then (Mekong + Tonlè Sap) (3 basins)\n",
    "]"
   ]
  },
  {
   "cell_type": "code",
   "execution_count": 71,
   "id": "b20e92af",
   "metadata": {},
   "outputs": [
    {
     "name": "stdout",
     "output_type": "stream",
     "text": [
      "\n",
      "Loaded 6 scenarios\n"
     ]
    },
    {
     "data": {
      "application/vnd.microsoft.datawrangler.viewer.v0+json": {
       "columns": [
        {
         "name": "index",
         "rawType": "int64",
         "type": "integer"
        },
        {
         "name": "scenario",
         "rawType": "object",
         "type": "string"
        },
        {
         "name": "folder",
         "rawType": "object",
         "type": "string"
        },
        {
         "name": "household_loss",
         "rawType": "float64",
         "type": "float"
        },
        {
         "name": "country_loss",
         "rawType": "float64",
         "type": "float"
        },
        {
         "name": "total_loss",
         "rawType": "float64",
         "type": "float"
        }
       ],
       "ref": "efc5b92c-539a-4b9e-a29f-23fca34b288a",
       "rows": [
        [
         "0",
         "Simultaneous",
         "20250616_110722",
         "29.67081748719457",
         "5.006258378902368",
         "34.677075866096935"
        ],
        [
         "1",
         "Saigon only",
         "20250616_100610",
         "4.812270654003423",
         "0.8736805678866747",
         "5.685951221890098"
        ],
        [
         "2",
         "Mekong only",
         "20250616_102153",
         "22.467926522525083",
         "7.802255183439103",
         "30.270181705964184"
        ],
        [
         "3",
         "Tonlè Sap only",
         "20250616_105406",
         "3.645359881671129",
         "0.786769042502698",
         "4.432128924173827"
        ],
        [
         "4",
         "Cascading",
         "20250616_124445",
         "31.247357575557604",
         "10.31910915142944",
         "41.566466726987045"
        ],
        [
         "5",
         "Mixed",
         "20250616_114510",
         "29.504713505922783",
         "6.828499424652207",
         "36.33321293057499"
        ]
       ],
       "shape": {
        "columns": 5,
        "rows": 6
       }
      },
      "text/html": [
       "<div>\n",
       "<style scoped>\n",
       "    .dataframe tbody tr th:only-of-type {\n",
       "        vertical-align: middle;\n",
       "    }\n",
       "\n",
       "    .dataframe tbody tr th {\n",
       "        vertical-align: top;\n",
       "    }\n",
       "\n",
       "    .dataframe thead th {\n",
       "        text-align: right;\n",
       "    }\n",
       "</style>\n",
       "<table border=\"1\" class=\"dataframe\">\n",
       "  <thead>\n",
       "    <tr style=\"text-align: right;\">\n",
       "      <th></th>\n",
       "      <th>scenario</th>\n",
       "      <th>folder</th>\n",
       "      <th>household_loss</th>\n",
       "      <th>country_loss</th>\n",
       "      <th>total_loss</th>\n",
       "    </tr>\n",
       "  </thead>\n",
       "  <tbody>\n",
       "    <tr>\n",
       "      <th>0</th>\n",
       "      <td>Simultaneous</td>\n",
       "      <td>20250616_110722</td>\n",
       "      <td>29.670817</td>\n",
       "      <td>5.006258</td>\n",
       "      <td>34.677076</td>\n",
       "    </tr>\n",
       "    <tr>\n",
       "      <th>1</th>\n",
       "      <td>Saigon only</td>\n",
       "      <td>20250616_100610</td>\n",
       "      <td>4.812271</td>\n",
       "      <td>0.873681</td>\n",
       "      <td>5.685951</td>\n",
       "    </tr>\n",
       "    <tr>\n",
       "      <th>2</th>\n",
       "      <td>Mekong only</td>\n",
       "      <td>20250616_102153</td>\n",
       "      <td>22.467927</td>\n",
       "      <td>7.802255</td>\n",
       "      <td>30.270182</td>\n",
       "    </tr>\n",
       "    <tr>\n",
       "      <th>3</th>\n",
       "      <td>Tonlè Sap only</td>\n",
       "      <td>20250616_105406</td>\n",
       "      <td>3.645360</td>\n",
       "      <td>0.786769</td>\n",
       "      <td>4.432129</td>\n",
       "    </tr>\n",
       "    <tr>\n",
       "      <th>4</th>\n",
       "      <td>Cascading</td>\n",
       "      <td>20250616_124445</td>\n",
       "      <td>31.247358</td>\n",
       "      <td>10.319109</td>\n",
       "      <td>41.566467</td>\n",
       "    </tr>\n",
       "    <tr>\n",
       "      <th>5</th>\n",
       "      <td>Mixed</td>\n",
       "      <td>20250616_114510</td>\n",
       "      <td>29.504714</td>\n",
       "      <td>6.828499</td>\n",
       "      <td>36.333213</td>\n",
       "    </tr>\n",
       "  </tbody>\n",
       "</table>\n",
       "</div>"
      ],
      "text/plain": [
       "         scenario           folder  household_loss  country_loss  total_loss\n",
       "0    Simultaneous  20250616_110722       29.670817      5.006258   34.677076\n",
       "1     Saigon only  20250616_100610        4.812271      0.873681    5.685951\n",
       "2     Mekong only  20250616_102153       22.467927      7.802255   30.270182\n",
       "3  Tonlè Sap only  20250616_105406        3.645360      0.786769    4.432129\n",
       "4       Cascading  20250616_124445       31.247358     10.319109   41.566467\n",
       "5           Mixed  20250616_114510       29.504714      6.828499   36.333213"
      ]
     },
     "execution_count": 71,
     "metadata": {},
     "output_type": "execute_result"
    }
   ],
   "source": [
    "summary_data = []\n",
    "\n",
    "for scenario in scenarios:\n",
    "    folder_path = os.path.join(results_folder, scenario[\"folder\"])\n",
    "    summary_file = os.path.join(folder_path, \"loss_summary.csv\")\n",
    "    \n",
    "    if os.path.exists(summary_file):\n",
    "        df = pd.read_csv(summary_file)\n",
    "        summary_data.append({\n",
    "            \"scenario\": scenario[\"name\"],\n",
    "            \"folder\": scenario[\"folder\"],\n",
    "            \"household_loss\": df[\"households\"].iloc[0],\n",
    "            \"country_loss\": df[\"countries\"].iloc[0],\n",
    "            \"total_loss\": df[\"households\"].iloc[0] + df[\"countries\"].iloc[0]\n",
    "        })\n",
    "\n",
    "# Create summary DataFrame\n",
    "summary_df = pd.DataFrame(summary_data)\n",
    "print(f\"\\nLoaded {len(summary_df)} scenarios\")\n",
    "summary_df"
   ]
  },
  {
   "cell_type": "code",
   "execution_count": 72,
   "id": "5636bc12",
   "metadata": {},
   "outputs": [
    {
     "data": {
      "application/vnd.microsoft.datawrangler.viewer.v0+json": {
       "columns": [
        {
         "name": "index",
         "rawType": "int64",
         "type": "integer"
        },
        {
         "name": "time_step",
         "rawType": "int64",
         "type": "integer"
        },
        {
         "name": "country",
         "rawType": "object",
         "type": "string"
        },
        {
         "name": "loss",
         "rawType": "float64",
         "type": "float"
        },
        {
         "name": "scenario",
         "rawType": "object",
         "type": "string"
        },
        {
         "name": "folder",
         "rawType": "object",
         "type": "string"
        }
       ],
       "ref": "6025b75d-8379-439c-b05a-39c586b20fcc",
       "rows": [
        [
         "0",
         "0",
         "AFR",
         "0.0",
         "Simultaneous",
         "20250616_110722"
        ],
        [
         "1",
         "0",
         "AME",
         "0.0",
         "Simultaneous",
         "20250616_110722"
        ],
        [
         "2",
         "0",
         "ASI",
         "0.0",
         "Simultaneous",
         "20250616_110722"
        ],
        [
         "3",
         "0",
         "EUR",
         "0.0",
         "Simultaneous",
         "20250616_110722"
        ],
        [
         "4",
         "0",
         "OCE",
         "0.0",
         "Simultaneous",
         "20250616_110722"
        ],
        [
         "5",
         "0",
         "THA",
         "0.0",
         "Simultaneous",
         "20250616_110722"
        ],
        [
         "6",
         "0",
         "VNM",
         "0.0",
         "Simultaneous",
         "20250616_110722"
        ],
        [
         "7",
         "1",
         "AFR",
         "0.0",
         "Simultaneous",
         "20250616_110722"
        ],
        [
         "8",
         "1",
         "AME",
         "0.004577840550374",
         "Simultaneous",
         "20250616_110722"
        ],
        [
         "9",
         "1",
         "ASI",
         "0.0",
         "Simultaneous",
         "20250616_110722"
        ],
        [
         "10",
         "1",
         "EUR",
         "0.004912333729095",
         "Simultaneous",
         "20250616_110722"
        ],
        [
         "11",
         "1",
         "OCE",
         "0.0",
         "Simultaneous",
         "20250616_110722"
        ],
        [
         "12",
         "1",
         "THA",
         "0.2645686456241337",
         "Simultaneous",
         "20250616_110722"
        ],
        [
         "13",
         "1",
         "VNM",
         "4.376890990407199e-05",
         "Simultaneous",
         "20250616_110722"
        ],
        [
         "14",
         "2",
         "AFR",
         "0.0083052611794974",
         "Simultaneous",
         "20250616_110722"
        ],
        [
         "15",
         "2",
         "AME",
         "1.4325344151415054",
         "Simultaneous",
         "20250616_110722"
        ],
        [
         "16",
         "2",
         "ASI",
         "0.8311914871404928",
         "Simultaneous",
         "20250616_110722"
        ],
        [
         "17",
         "2",
         "EUR",
         "1.2750069492997764",
         "Simultaneous",
         "20250616_110722"
        ],
        [
         "18",
         "2",
         "OCE",
         "0.049722272821724",
         "Simultaneous",
         "20250616_110722"
        ],
        [
         "19",
         "2",
         "THA",
         "0.0986567297072613",
         "Simultaneous",
         "20250616_110722"
        ],
        [
         "20",
         "2",
         "VNM",
         "0.2720387218411407",
         "Simultaneous",
         "20250616_110722"
        ],
        [
         "21",
         "3",
         "AFR",
         "0.0015172092792302",
         "Simultaneous",
         "20250616_110722"
        ],
        [
         "22",
         "3",
         "AME",
         "0.2094615176021066",
         "Simultaneous",
         "20250616_110722"
        ],
        [
         "23",
         "3",
         "ASI",
         "0.1017077024288136",
         "Simultaneous",
         "20250616_110722"
        ],
        [
         "24",
         "3",
         "EUR",
         "0.2451076936156408",
         "Simultaneous",
         "20250616_110722"
        ],
        [
         "25",
         "3",
         "OCE",
         "0.0076054492097839",
         "Simultaneous",
         "20250616_110722"
        ],
        [
         "26",
         "3",
         "THA",
         "0.0225539927521222",
         "Simultaneous",
         "20250616_110722"
        ],
        [
         "27",
         "3",
         "VNM",
         "0.0275871905149241",
         "Simultaneous",
         "20250616_110722"
        ],
        [
         "28",
         "4",
         "AFR",
         "0.0002690254429597",
         "Simultaneous",
         "20250616_110722"
        ],
        [
         "29",
         "4",
         "AME",
         "0.0365783906008125",
         "Simultaneous",
         "20250616_110722"
        ],
        [
         "30",
         "4",
         "ASI",
         "0.019629698352649",
         "Simultaneous",
         "20250616_110722"
        ],
        [
         "31",
         "4",
         "EUR",
         "0.0523679672264004",
         "Simultaneous",
         "20250616_110722"
        ],
        [
         "32",
         "4",
         "OCE",
         "0.0010974031511844",
         "Simultaneous",
         "20250616_110722"
        ],
        [
         "33",
         "4",
         "THA",
         "0.0032685646387325",
         "Simultaneous",
         "20250616_110722"
        ],
        [
         "34",
         "4",
         "VNM",
         "0.0041732399615744",
         "Simultaneous",
         "20250616_110722"
        ],
        [
         "35",
         "5",
         "AFR",
         "4.1148289961012035e-05",
         "Simultaneous",
         "20250616_110722"
        ],
        [
         "36",
         "5",
         "AME",
         "0.0093285740223889",
         "Simultaneous",
         "20250616_110722"
        ],
        [
         "37",
         "5",
         "ASI",
         "0.0046467215999035",
         "Simultaneous",
         "20250616_110722"
        ],
        [
         "38",
         "5",
         "EUR",
         "0.0118784477373358",
         "Simultaneous",
         "20250616_110722"
        ],
        [
         "39",
         "5",
         "OCE",
         "0.0002717886643609",
         "Simultaneous",
         "20250616_110722"
        ],
        [
         "40",
         "5",
         "THA",
         "0.0003351144772733",
         "Simultaneous",
         "20250616_110722"
        ],
        [
         "41",
         "5",
         "VNM",
         "0.0003814621891224",
         "Simultaneous",
         "20250616_110722"
        ],
        [
         "42",
         "6",
         "AFR",
         "5.0799834500886805e-06",
         "Simultaneous",
         "20250616_110722"
        ],
        [
         "43",
         "6",
         "AME",
         "0.001625720918172",
         "Simultaneous",
         "20250616_110722"
        ],
        [
         "44",
         "6",
         "ASI",
         "0.0008864683524052",
         "Simultaneous",
         "20250616_110722"
        ],
        [
         "45",
         "6",
         "EUR",
         "0.0019302614257075",
         "Simultaneous",
         "20250616_110722"
        ],
        [
         "46",
         "6",
         "OCE",
         "4.8187891450285014e-05",
         "Simultaneous",
         "20250616_110722"
        ],
        [
         "47",
         "6",
         "THA",
         "3.593780907318497e-05",
         "Simultaneous",
         "20250616_110722"
        ],
        [
         "48",
         "6",
         "VNM",
         "4.687697673754135e-05",
         "Simultaneous",
         "20250616_110722"
        ],
        [
         "49",
         "7",
         "AFR",
         "1.000264139435034e-06",
         "Simultaneous",
         "20250616_110722"
        ]
       ],
       "shape": {
        "columns": 5,
        "rows": 385
       }
      },
      "text/html": [
       "<div>\n",
       "<style scoped>\n",
       "    .dataframe tbody tr th:only-of-type {\n",
       "        vertical-align: middle;\n",
       "    }\n",
       "\n",
       "    .dataframe tbody tr th {\n",
       "        vertical-align: top;\n",
       "    }\n",
       "\n",
       "    .dataframe thead th {\n",
       "        text-align: right;\n",
       "    }\n",
       "</style>\n",
       "<table border=\"1\" class=\"dataframe\">\n",
       "  <thead>\n",
       "    <tr style=\"text-align: right;\">\n",
       "      <th></th>\n",
       "      <th>time_step</th>\n",
       "      <th>country</th>\n",
       "      <th>loss</th>\n",
       "      <th>scenario</th>\n",
       "      <th>folder</th>\n",
       "    </tr>\n",
       "  </thead>\n",
       "  <tbody>\n",
       "    <tr>\n",
       "      <th>0</th>\n",
       "      <td>0</td>\n",
       "      <td>AFR</td>\n",
       "      <td>0.000000</td>\n",
       "      <td>Simultaneous</td>\n",
       "      <td>20250616_110722</td>\n",
       "    </tr>\n",
       "    <tr>\n",
       "      <th>1</th>\n",
       "      <td>0</td>\n",
       "      <td>AME</td>\n",
       "      <td>0.000000</td>\n",
       "      <td>Simultaneous</td>\n",
       "      <td>20250616_110722</td>\n",
       "    </tr>\n",
       "    <tr>\n",
       "      <th>2</th>\n",
       "      <td>0</td>\n",
       "      <td>ASI</td>\n",
       "      <td>0.000000</td>\n",
       "      <td>Simultaneous</td>\n",
       "      <td>20250616_110722</td>\n",
       "    </tr>\n",
       "    <tr>\n",
       "      <th>3</th>\n",
       "      <td>0</td>\n",
       "      <td>EUR</td>\n",
       "      <td>0.000000</td>\n",
       "      <td>Simultaneous</td>\n",
       "      <td>20250616_110722</td>\n",
       "    </tr>\n",
       "    <tr>\n",
       "      <th>4</th>\n",
       "      <td>0</td>\n",
       "      <td>OCE</td>\n",
       "      <td>0.000000</td>\n",
       "      <td>Simultaneous</td>\n",
       "      <td>20250616_110722</td>\n",
       "    </tr>\n",
       "    <tr>\n",
       "      <th>...</th>\n",
       "      <td>...</td>\n",
       "      <td>...</td>\n",
       "      <td>...</td>\n",
       "      <td>...</td>\n",
       "      <td>...</td>\n",
       "    </tr>\n",
       "    <tr>\n",
       "      <th>380</th>\n",
       "      <td>10</td>\n",
       "      <td>ASI</td>\n",
       "      <td>0.000446</td>\n",
       "      <td>Mixed</td>\n",
       "      <td>20250616_114510</td>\n",
       "    </tr>\n",
       "    <tr>\n",
       "      <th>381</th>\n",
       "      <td>10</td>\n",
       "      <td>EUR</td>\n",
       "      <td>0.001196</td>\n",
       "      <td>Mixed</td>\n",
       "      <td>20250616_114510</td>\n",
       "    </tr>\n",
       "    <tr>\n",
       "      <th>382</th>\n",
       "      <td>10</td>\n",
       "      <td>OCE</td>\n",
       "      <td>0.000030</td>\n",
       "      <td>Mixed</td>\n",
       "      <td>20250616_114510</td>\n",
       "    </tr>\n",
       "    <tr>\n",
       "      <th>383</th>\n",
       "      <td>10</td>\n",
       "      <td>THA</td>\n",
       "      <td>0.000011</td>\n",
       "      <td>Mixed</td>\n",
       "      <td>20250616_114510</td>\n",
       "    </tr>\n",
       "    <tr>\n",
       "      <th>384</th>\n",
       "      <td>10</td>\n",
       "      <td>VNM</td>\n",
       "      <td>0.000006</td>\n",
       "      <td>Mixed</td>\n",
       "      <td>20250616_114510</td>\n",
       "    </tr>\n",
       "  </tbody>\n",
       "</table>\n",
       "<p>385 rows × 5 columns</p>\n",
       "</div>"
      ],
      "text/plain": [
       "     time_step country      loss      scenario           folder\n",
       "0            0     AFR  0.000000  Simultaneous  20250616_110722\n",
       "1            0     AME  0.000000  Simultaneous  20250616_110722\n",
       "2            0     ASI  0.000000  Simultaneous  20250616_110722\n",
       "3            0     EUR  0.000000  Simultaneous  20250616_110722\n",
       "4            0     OCE  0.000000  Simultaneous  20250616_110722\n",
       "..         ...     ...       ...           ...              ...\n",
       "380         10     ASI  0.000446         Mixed  20250616_114510\n",
       "381         10     EUR  0.001196         Mixed  20250616_114510\n",
       "382         10     OCE  0.000030         Mixed  20250616_114510\n",
       "383         10     THA  0.000011         Mixed  20250616_114510\n",
       "384         10     VNM  0.000006         Mixed  20250616_114510\n",
       "\n",
       "[385 rows x 5 columns]"
      ]
     },
     "execution_count": 72,
     "metadata": {},
     "output_type": "execute_result"
    }
   ],
   "source": [
    "time_series_data = []\n",
    "\n",
    "for scenario in scenarios:\n",
    "    folder_path = os.path.join(results_folder, scenario[\"folder\"])\n",
    "    ts_file = os.path.join(folder_path, \"loss_per_country.csv\")\n",
    "    \n",
    "    if os.path.exists(ts_file):\n",
    "        df = pd.read_csv(ts_file)\n",
    "        df[\"scenario\"] = scenario[\"name\"]\n",
    "        df[\"folder\"] = scenario[\"folder\"]\n",
    "        time_series_data.append(df)\n",
    "\n",
    "\n",
    "ts_df = pd.concat(time_series_data, ignore_index=True)\n",
    "ts_df"
   ]
  },
  {
   "cell_type": "code",
   "execution_count": 86,
   "id": "0a0398c6",
   "metadata": {},
   "outputs": [
    {
     "data": {
      "application/vnd.plotly.v1+json": {
       "config": {
        "plotlyServerURL": "https://plot.ly"
       },
       "data": [
        {
         "marker": {
          "color": "lightcoral"
         },
         "name": "Household loss",
         "text": {
          "bdata": "MzMzMzOzPUAzMzMzMzMTQAAAAAAAgDZAzczMzMzMDEAzMzMzMzM/QAAAAAAAgD1A",
          "dtype": "f8"
         },
         "textposition": "inside",
         "type": "bar",
         "x": [
          "Simultaneous",
          "Saigon only",
          "Mekong only",
          "Tonlè Sap only",
          "Cascading",
          "Mixed"
         ],
         "y": {
          "bdata": "6BXhsbqrPUDrx9ngwz8TQB4tVwjKdzZAZmwPcbIpDUARcHnTUj8/QLHJgec0gT1A",
          "dtype": "f8"
         }
        },
        {
         "marker": {
          "color": "steelblue"
         },
         "name": "Country loss",
         "text": {
          "bdata": "AAAAAAAAFEDNzMzMzMzsPzMzMzMzMx9AmpmZmZmZ6T+amZmZmZkkQDMzMzMzMxtA",
          "dtype": "f8"
         },
         "textposition": "inside",
         "type": "bar",
         "x": [
          "Simultaneous",
          "Saigon only",
          "Mekong only",
          "Tonlè Sap only",
          "Cascading",
          "Mixed"
         ],
         "y": {
          "bdata": "utiymGgGFEDPKkfzMPXrP3Kr/2GCNR9AAb1hRTYt6T/OfFJGYqMkQE+LNidiUBtA",
          "dtype": "f8"
         }
        }
       ],
       "layout": {
        "barmode": "stack",
        "font": {
         "size": 16
        },
        "height": 500,
        "showlegend": true,
        "template": {
         "data": {
          "bar": [
           {
            "error_x": {
             "color": "#2a3f5f"
            },
            "error_y": {
             "color": "#2a3f5f"
            },
            "marker": {
             "line": {
              "color": "#E5ECF6",
              "width": 0.5
             },
             "pattern": {
              "fillmode": "overlay",
              "size": 10,
              "solidity": 0.2
             }
            },
            "type": "bar"
           }
          ],
          "barpolar": [
           {
            "marker": {
             "line": {
              "color": "#E5ECF6",
              "width": 0.5
             },
             "pattern": {
              "fillmode": "overlay",
              "size": 10,
              "solidity": 0.2
             }
            },
            "type": "barpolar"
           }
          ],
          "carpet": [
           {
            "aaxis": {
             "endlinecolor": "#2a3f5f",
             "gridcolor": "white",
             "linecolor": "white",
             "minorgridcolor": "white",
             "startlinecolor": "#2a3f5f"
            },
            "baxis": {
             "endlinecolor": "#2a3f5f",
             "gridcolor": "white",
             "linecolor": "white",
             "minorgridcolor": "white",
             "startlinecolor": "#2a3f5f"
            },
            "type": "carpet"
           }
          ],
          "choropleth": [
           {
            "colorbar": {
             "outlinewidth": 0,
             "ticks": ""
            },
            "type": "choropleth"
           }
          ],
          "contour": [
           {
            "colorbar": {
             "outlinewidth": 0,
             "ticks": ""
            },
            "colorscale": [
             [
              0,
              "#0d0887"
             ],
             [
              0.1111111111111111,
              "#46039f"
             ],
             [
              0.2222222222222222,
              "#7201a8"
             ],
             [
              0.3333333333333333,
              "#9c179e"
             ],
             [
              0.4444444444444444,
              "#bd3786"
             ],
             [
              0.5555555555555556,
              "#d8576b"
             ],
             [
              0.6666666666666666,
              "#ed7953"
             ],
             [
              0.7777777777777778,
              "#fb9f3a"
             ],
             [
              0.8888888888888888,
              "#fdca26"
             ],
             [
              1,
              "#f0f921"
             ]
            ],
            "type": "contour"
           }
          ],
          "contourcarpet": [
           {
            "colorbar": {
             "outlinewidth": 0,
             "ticks": ""
            },
            "type": "contourcarpet"
           }
          ],
          "heatmap": [
           {
            "colorbar": {
             "outlinewidth": 0,
             "ticks": ""
            },
            "colorscale": [
             [
              0,
              "#0d0887"
             ],
             [
              0.1111111111111111,
              "#46039f"
             ],
             [
              0.2222222222222222,
              "#7201a8"
             ],
             [
              0.3333333333333333,
              "#9c179e"
             ],
             [
              0.4444444444444444,
              "#bd3786"
             ],
             [
              0.5555555555555556,
              "#d8576b"
             ],
             [
              0.6666666666666666,
              "#ed7953"
             ],
             [
              0.7777777777777778,
              "#fb9f3a"
             ],
             [
              0.8888888888888888,
              "#fdca26"
             ],
             [
              1,
              "#f0f921"
             ]
            ],
            "type": "heatmap"
           }
          ],
          "histogram": [
           {
            "marker": {
             "pattern": {
              "fillmode": "overlay",
              "size": 10,
              "solidity": 0.2
             }
            },
            "type": "histogram"
           }
          ],
          "histogram2d": [
           {
            "colorbar": {
             "outlinewidth": 0,
             "ticks": ""
            },
            "colorscale": [
             [
              0,
              "#0d0887"
             ],
             [
              0.1111111111111111,
              "#46039f"
             ],
             [
              0.2222222222222222,
              "#7201a8"
             ],
             [
              0.3333333333333333,
              "#9c179e"
             ],
             [
              0.4444444444444444,
              "#bd3786"
             ],
             [
              0.5555555555555556,
              "#d8576b"
             ],
             [
              0.6666666666666666,
              "#ed7953"
             ],
             [
              0.7777777777777778,
              "#fb9f3a"
             ],
             [
              0.8888888888888888,
              "#fdca26"
             ],
             [
              1,
              "#f0f921"
             ]
            ],
            "type": "histogram2d"
           }
          ],
          "histogram2dcontour": [
           {
            "colorbar": {
             "outlinewidth": 0,
             "ticks": ""
            },
            "colorscale": [
             [
              0,
              "#0d0887"
             ],
             [
              0.1111111111111111,
              "#46039f"
             ],
             [
              0.2222222222222222,
              "#7201a8"
             ],
             [
              0.3333333333333333,
              "#9c179e"
             ],
             [
              0.4444444444444444,
              "#bd3786"
             ],
             [
              0.5555555555555556,
              "#d8576b"
             ],
             [
              0.6666666666666666,
              "#ed7953"
             ],
             [
              0.7777777777777778,
              "#fb9f3a"
             ],
             [
              0.8888888888888888,
              "#fdca26"
             ],
             [
              1,
              "#f0f921"
             ]
            ],
            "type": "histogram2dcontour"
           }
          ],
          "mesh3d": [
           {
            "colorbar": {
             "outlinewidth": 0,
             "ticks": ""
            },
            "type": "mesh3d"
           }
          ],
          "parcoords": [
           {
            "line": {
             "colorbar": {
              "outlinewidth": 0,
              "ticks": ""
             }
            },
            "type": "parcoords"
           }
          ],
          "pie": [
           {
            "automargin": true,
            "type": "pie"
           }
          ],
          "scatter": [
           {
            "fillpattern": {
             "fillmode": "overlay",
             "size": 10,
             "solidity": 0.2
            },
            "type": "scatter"
           }
          ],
          "scatter3d": [
           {
            "line": {
             "colorbar": {
              "outlinewidth": 0,
              "ticks": ""
             }
            },
            "marker": {
             "colorbar": {
              "outlinewidth": 0,
              "ticks": ""
             }
            },
            "type": "scatter3d"
           }
          ],
          "scattercarpet": [
           {
            "marker": {
             "colorbar": {
              "outlinewidth": 0,
              "ticks": ""
             }
            },
            "type": "scattercarpet"
           }
          ],
          "scattergeo": [
           {
            "marker": {
             "colorbar": {
              "outlinewidth": 0,
              "ticks": ""
             }
            },
            "type": "scattergeo"
           }
          ],
          "scattergl": [
           {
            "marker": {
             "colorbar": {
              "outlinewidth": 0,
              "ticks": ""
             }
            },
            "type": "scattergl"
           }
          ],
          "scattermap": [
           {
            "marker": {
             "colorbar": {
              "outlinewidth": 0,
              "ticks": ""
             }
            },
            "type": "scattermap"
           }
          ],
          "scattermapbox": [
           {
            "marker": {
             "colorbar": {
              "outlinewidth": 0,
              "ticks": ""
             }
            },
            "type": "scattermapbox"
           }
          ],
          "scatterpolar": [
           {
            "marker": {
             "colorbar": {
              "outlinewidth": 0,
              "ticks": ""
             }
            },
            "type": "scatterpolar"
           }
          ],
          "scatterpolargl": [
           {
            "marker": {
             "colorbar": {
              "outlinewidth": 0,
              "ticks": ""
             }
            },
            "type": "scatterpolargl"
           }
          ],
          "scatterternary": [
           {
            "marker": {
             "colorbar": {
              "outlinewidth": 0,
              "ticks": ""
             }
            },
            "type": "scatterternary"
           }
          ],
          "surface": [
           {
            "colorbar": {
             "outlinewidth": 0,
             "ticks": ""
            },
            "colorscale": [
             [
              0,
              "#0d0887"
             ],
             [
              0.1111111111111111,
              "#46039f"
             ],
             [
              0.2222222222222222,
              "#7201a8"
             ],
             [
              0.3333333333333333,
              "#9c179e"
             ],
             [
              0.4444444444444444,
              "#bd3786"
             ],
             [
              0.5555555555555556,
              "#d8576b"
             ],
             [
              0.6666666666666666,
              "#ed7953"
             ],
             [
              0.7777777777777778,
              "#fb9f3a"
             ],
             [
              0.8888888888888888,
              "#fdca26"
             ],
             [
              1,
              "#f0f921"
             ]
            ],
            "type": "surface"
           }
          ],
          "table": [
           {
            "cells": {
             "fill": {
              "color": "#EBF0F8"
             },
             "line": {
              "color": "white"
             }
            },
            "header": {
             "fill": {
              "color": "#C8D4E3"
             },
             "line": {
              "color": "white"
             }
            },
            "type": "table"
           }
          ]
         },
         "layout": {
          "annotationdefaults": {
           "arrowcolor": "#2a3f5f",
           "arrowhead": 0,
           "arrowwidth": 1
          },
          "autotypenumbers": "strict",
          "coloraxis": {
           "colorbar": {
            "outlinewidth": 0,
            "ticks": ""
           }
          },
          "colorscale": {
           "diverging": [
            [
             0,
             "#8e0152"
            ],
            [
             0.1,
             "#c51b7d"
            ],
            [
             0.2,
             "#de77ae"
            ],
            [
             0.3,
             "#f1b6da"
            ],
            [
             0.4,
             "#fde0ef"
            ],
            [
             0.5,
             "#f7f7f7"
            ],
            [
             0.6,
             "#e6f5d0"
            ],
            [
             0.7,
             "#b8e186"
            ],
            [
             0.8,
             "#7fbc41"
            ],
            [
             0.9,
             "#4d9221"
            ],
            [
             1,
             "#276419"
            ]
           ],
           "sequential": [
            [
             0,
             "#0d0887"
            ],
            [
             0.1111111111111111,
             "#46039f"
            ],
            [
             0.2222222222222222,
             "#7201a8"
            ],
            [
             0.3333333333333333,
             "#9c179e"
            ],
            [
             0.4444444444444444,
             "#bd3786"
            ],
            [
             0.5555555555555556,
             "#d8576b"
            ],
            [
             0.6666666666666666,
             "#ed7953"
            ],
            [
             0.7777777777777778,
             "#fb9f3a"
            ],
            [
             0.8888888888888888,
             "#fdca26"
            ],
            [
             1,
             "#f0f921"
            ]
           ],
           "sequentialminus": [
            [
             0,
             "#0d0887"
            ],
            [
             0.1111111111111111,
             "#46039f"
            ],
            [
             0.2222222222222222,
             "#7201a8"
            ],
            [
             0.3333333333333333,
             "#9c179e"
            ],
            [
             0.4444444444444444,
             "#bd3786"
            ],
            [
             0.5555555555555556,
             "#d8576b"
            ],
            [
             0.6666666666666666,
             "#ed7953"
            ],
            [
             0.7777777777777778,
             "#fb9f3a"
            ],
            [
             0.8888888888888888,
             "#fdca26"
            ],
            [
             1,
             "#f0f921"
            ]
           ]
          },
          "colorway": [
           "#636efa",
           "#EF553B",
           "#00cc96",
           "#ab63fa",
           "#FFA15A",
           "#19d3f3",
           "#FF6692",
           "#B6E880",
           "#FF97FF",
           "#FECB52"
          ],
          "font": {
           "color": "#2a3f5f"
          },
          "geo": {
           "bgcolor": "white",
           "lakecolor": "white",
           "landcolor": "#E5ECF6",
           "showlakes": true,
           "showland": true,
           "subunitcolor": "white"
          },
          "hoverlabel": {
           "align": "left"
          },
          "hovermode": "closest",
          "mapbox": {
           "style": "light"
          },
          "paper_bgcolor": "white",
          "plot_bgcolor": "#E5ECF6",
          "polar": {
           "angularaxis": {
            "gridcolor": "white",
            "linecolor": "white",
            "ticks": ""
           },
           "bgcolor": "#E5ECF6",
           "radialaxis": {
            "gridcolor": "white",
            "linecolor": "white",
            "ticks": ""
           }
          },
          "scene": {
           "xaxis": {
            "backgroundcolor": "#E5ECF6",
            "gridcolor": "white",
            "gridwidth": 2,
            "linecolor": "white",
            "showbackground": true,
            "ticks": "",
            "zerolinecolor": "white"
           },
           "yaxis": {
            "backgroundcolor": "#E5ECF6",
            "gridcolor": "white",
            "gridwidth": 2,
            "linecolor": "white",
            "showbackground": true,
            "ticks": "",
            "zerolinecolor": "white"
           },
           "zaxis": {
            "backgroundcolor": "#E5ECF6",
            "gridcolor": "white",
            "gridwidth": 2,
            "linecolor": "white",
            "showbackground": true,
            "ticks": "",
            "zerolinecolor": "white"
           }
          },
          "shapedefaults": {
           "line": {
            "color": "#2a3f5f"
           }
          },
          "ternary": {
           "aaxis": {
            "gridcolor": "white",
            "linecolor": "white",
            "ticks": ""
           },
           "baxis": {
            "gridcolor": "white",
            "linecolor": "white",
            "ticks": ""
           },
           "bgcolor": "#E5ECF6",
           "caxis": {
            "gridcolor": "white",
            "linecolor": "white",
            "ticks": ""
           }
          },
          "title": {
           "x": 0.05
          },
          "xaxis": {
           "automargin": true,
           "gridcolor": "white",
           "linecolor": "white",
           "ticks": "",
           "title": {
            "standoff": 15
           },
           "zerolinecolor": "white",
           "zerolinewidth": 2
          },
          "yaxis": {
           "automargin": true,
           "gridcolor": "white",
           "linecolor": "white",
           "ticks": "",
           "title": {
            "standoff": 15
           },
           "zerolinecolor": "white",
           "zerolinewidth": 2
          }
         }
        },
        "xaxis": {
         "tickangle": -45,
         "title": {
          "text": "Scenario"
         }
        },
        "yaxis": {
         "title": {
          "text": "Cumulative loss (million USD)"
         }
        }
       }
      }
     },
     "metadata": {},
     "output_type": "display_data"
    }
   ],
   "source": [
    "fig1 = go.Figure()\n",
    "\n",
    "fig1.add_trace(go.Bar(\n",
    "    name='Household loss',\n",
    "    x=summary_df['scenario'],\n",
    "    y=summary_df['household_loss'],\n",
    "    marker_color='lightcoral',\n",
    "    text=summary_df['household_loss'].round(1),\n",
    "    textposition='inside'\n",
    "))\n",
    "\n",
    "fig1.add_trace(go.Bar(\n",
    "    name='Country loss',\n",
    "    x=summary_df['scenario'], \n",
    "    y=summary_df['country_loss'],\n",
    "    marker_color='steelblue',\n",
    "    text=summary_df['country_loss'].round(1),\n",
    "    textposition='inside'\n",
    "))\n",
    "\n",
    "fig1.update_layout(\n",
    "    xaxis_title='Scenario',\n",
    "    yaxis_title='Cumulative loss (million USD)',\n",
    "    barmode='stack',\n",
    "    height=500,\n",
    "    xaxis_tickangle=-45,\n",
    "    showlegend=True,\n",
    "    font=dict(size=16)\n",
    ")\n",
    "\n",
    "fig1.show()"
   ]
  },
  {
   "cell_type": "code",
   "execution_count": 74,
   "id": "ed4b490f",
   "metadata": {},
   "outputs": [
    {
     "data": {
      "application/vnd.plotly.v1+json": {
       "config": {
        "plotlyServerURL": "https://plot.ly"
       },
       "data": [
        {
         "hovertemplate": "scenario=Cascading<br>Weeks=%{x}<br>Total loss (million USD)=%{y}<extra></extra>",
         "legendgroup": "Cascading",
         "line": {
          "color": "#636efa",
          "dash": "solid"
         },
         "marker": {
          "symbol": "circle"
         },
         "mode": "lines+markers",
         "name": "Cascading",
         "orientation": "v",
         "showlegend": true,
         "type": "scatter",
         "x": {
          "bdata": "AAECAwQFBgcICQo=",
          "dtype": "i1"
         },
         "xaxis": "x",
         "y": {
          "bdata": "AAAAAAAAAADUZaCG8yyOPzkz1PzsA/o/ag2Qsqb5FECCKWTcbxf8PxiL0JH1TPI/iiuub9tt2T9xM9is+Qa+Pzp9psnhf4c/gs7f8O48gD+BuLU9+KtRPw==",
          "dtype": "f8"
         },
         "yaxis": "y"
        },
        {
         "hovertemplate": "scenario=Mekong only<br>Weeks=%{x}<br>Total loss (million USD)=%{y}<extra></extra>",
         "legendgroup": "Mekong only",
         "line": {
          "color": "#EF553B",
          "dash": "solid"
         },
         "marker": {
          "symbol": "circle"
         },
         "mode": "lines+markers",
         "name": "Mekong only",
         "orientation": "v",
         "showlegend": true,
         "type": "scatter",
         "x": {
          "bdata": "AAECAwQFBgcICQ==",
          "dtype": "i1"
         },
         "xaxis": "x",
         "y": {
          "bdata": "AAAAAAAAAACneSAn8qoRQMpFEvmhgwRAZ4il0BJh4T8zPqoreinGP5yKIzcrLrU/w+y5cjp/jz+q4NbGZvt0PyJclrRMwlI/FVppSJRyOz8=",
          "dtype": "f8"
         },
         "yaxis": "y"
        },
        {
         "hovertemplate": "scenario=Mixed<br>Weeks=%{x}<br>Total loss (million USD)=%{y}<extra></extra>",
         "legendgroup": "Mixed",
         "line": {
          "color": "#00cc96",
          "dash": "solid"
         },
         "marker": {
          "symbol": "circle"
         },
         "mode": "lines+markers",
         "name": "Mixed",
         "orientation": "v",
         "showlegend": true,
         "type": "scatter",
         "x": {
          "bdata": "AAECAwQFBgcICQo=",
          "dtype": "i1"
         },
         "xaxis": "x",
         "y": {
          "bdata": "AAAAAAAAAADV5yPTCzZiP2SLAGBpNv0/28zZd74vDEBkmDg5ooHhP6wyUy1rxuQ/5mY72Wsfxj96cQr3beuyP2P2EKiWdZU/Wt8heyKkhT/DIOqPM3tlPw==",
          "dtype": "f8"
         },
         "yaxis": "y"
        },
        {
         "hovertemplate": "scenario=Saigon only<br>Weeks=%{x}<br>Total loss (million USD)=%{y}<extra></extra>",
         "legendgroup": "Saigon only",
         "line": {
          "color": "#ab63fa",
          "dash": "solid"
         },
         "marker": {
          "symbol": "circle"
         },
         "mode": "lines+markers",
         "name": "Saigon only",
         "orientation": "v",
         "showlegend": true,
         "type": "scatter",
         "x": {
          "bdata": "AAECAwQF",
          "dtype": "i1"
         },
         "xaxis": "x",
         "y": {
          "bdata": "AAAAAAAAAADZlNvGqz11P6snZ9+cTOs/pDy+9/4ajj9sKCZnadlFPzPgucQMM/s+",
          "dtype": "f8"
         },
         "yaxis": "y"
        },
        {
         "hovertemplate": "scenario=Simultaneous<br>Weeks=%{x}<br>Total loss (million USD)=%{y}<extra></extra>",
         "legendgroup": "Simultaneous",
         "line": {
          "color": "#FFA15A",
          "dash": "solid"
         },
         "marker": {
          "symbol": "circle"
         },
         "mode": "lines+markers",
         "name": "Simultaneous",
         "orientation": "v",
         "showlegend": true,
         "type": "scatter",
         "x": {
          "bdata": "AAECAwQFBgc=",
          "dtype": "i1"
         },
         "xaxis": "x",
         "y": {
          "bdata": "AAAAAAAAAAAW/ayV5YrRP+RtZnxZvQ9Aj+a5hoKy4z+hR+2T5Qy+P6yFKdZIh5s/rNWCsPDAcj98S3LlPoU0Pw==",
          "dtype": "f8"
         },
         "yaxis": "y"
        },
        {
         "hovertemplate": "scenario=Tonlè Sap only<br>Weeks=%{x}<br>Total loss (million USD)=%{y}<extra></extra>",
         "legendgroup": "Tonlè Sap only",
         "line": {
          "color": "#19d3f3",
          "dash": "solid"
         },
         "marker": {
          "symbol": "circle"
         },
         "mode": "lines+markers",
         "name": "Tonlè Sap only",
         "orientation": "v",
         "showlegend": true,
         "type": "scatter",
         "x": {
          "bdata": "AAECAwQFBgcI",
          "dtype": "i1"
         },
         "xaxis": "x",
         "y": {
          "bdata": "AAAAAAAAAADywjPdkpXQP0oDPaxSqdk/dYBW+wsqtz+M7piKQJCWP6ME+e4fO4Q/wZ0ndfEGaD9YVtMtasRQP4+2Zw61UjU/",
          "dtype": "f8"
         },
         "yaxis": "y"
        }
       ],
       "layout": {
        "height": 500,
        "legend": {
         "orientation": "v",
         "title": {
          "text": "scenario"
         },
         "tracegroupgap": 0,
         "x": 1.02,
         "xanchor": "left",
         "y": 1,
         "yanchor": "top"
        },
        "margin": {
         "t": 60
        },
        "template": {
         "data": {
          "bar": [
           {
            "error_x": {
             "color": "#2a3f5f"
            },
            "error_y": {
             "color": "#2a3f5f"
            },
            "marker": {
             "line": {
              "color": "#E5ECF6",
              "width": 0.5
             },
             "pattern": {
              "fillmode": "overlay",
              "size": 10,
              "solidity": 0.2
             }
            },
            "type": "bar"
           }
          ],
          "barpolar": [
           {
            "marker": {
             "line": {
              "color": "#E5ECF6",
              "width": 0.5
             },
             "pattern": {
              "fillmode": "overlay",
              "size": 10,
              "solidity": 0.2
             }
            },
            "type": "barpolar"
           }
          ],
          "carpet": [
           {
            "aaxis": {
             "endlinecolor": "#2a3f5f",
             "gridcolor": "white",
             "linecolor": "white",
             "minorgridcolor": "white",
             "startlinecolor": "#2a3f5f"
            },
            "baxis": {
             "endlinecolor": "#2a3f5f",
             "gridcolor": "white",
             "linecolor": "white",
             "minorgridcolor": "white",
             "startlinecolor": "#2a3f5f"
            },
            "type": "carpet"
           }
          ],
          "choropleth": [
           {
            "colorbar": {
             "outlinewidth": 0,
             "ticks": ""
            },
            "type": "choropleth"
           }
          ],
          "contour": [
           {
            "colorbar": {
             "outlinewidth": 0,
             "ticks": ""
            },
            "colorscale": [
             [
              0,
              "#0d0887"
             ],
             [
              0.1111111111111111,
              "#46039f"
             ],
             [
              0.2222222222222222,
              "#7201a8"
             ],
             [
              0.3333333333333333,
              "#9c179e"
             ],
             [
              0.4444444444444444,
              "#bd3786"
             ],
             [
              0.5555555555555556,
              "#d8576b"
             ],
             [
              0.6666666666666666,
              "#ed7953"
             ],
             [
              0.7777777777777778,
              "#fb9f3a"
             ],
             [
              0.8888888888888888,
              "#fdca26"
             ],
             [
              1,
              "#f0f921"
             ]
            ],
            "type": "contour"
           }
          ],
          "contourcarpet": [
           {
            "colorbar": {
             "outlinewidth": 0,
             "ticks": ""
            },
            "type": "contourcarpet"
           }
          ],
          "heatmap": [
           {
            "colorbar": {
             "outlinewidth": 0,
             "ticks": ""
            },
            "colorscale": [
             [
              0,
              "#0d0887"
             ],
             [
              0.1111111111111111,
              "#46039f"
             ],
             [
              0.2222222222222222,
              "#7201a8"
             ],
             [
              0.3333333333333333,
              "#9c179e"
             ],
             [
              0.4444444444444444,
              "#bd3786"
             ],
             [
              0.5555555555555556,
              "#d8576b"
             ],
             [
              0.6666666666666666,
              "#ed7953"
             ],
             [
              0.7777777777777778,
              "#fb9f3a"
             ],
             [
              0.8888888888888888,
              "#fdca26"
             ],
             [
              1,
              "#f0f921"
             ]
            ],
            "type": "heatmap"
           }
          ],
          "histogram": [
           {
            "marker": {
             "pattern": {
              "fillmode": "overlay",
              "size": 10,
              "solidity": 0.2
             }
            },
            "type": "histogram"
           }
          ],
          "histogram2d": [
           {
            "colorbar": {
             "outlinewidth": 0,
             "ticks": ""
            },
            "colorscale": [
             [
              0,
              "#0d0887"
             ],
             [
              0.1111111111111111,
              "#46039f"
             ],
             [
              0.2222222222222222,
              "#7201a8"
             ],
             [
              0.3333333333333333,
              "#9c179e"
             ],
             [
              0.4444444444444444,
              "#bd3786"
             ],
             [
              0.5555555555555556,
              "#d8576b"
             ],
             [
              0.6666666666666666,
              "#ed7953"
             ],
             [
              0.7777777777777778,
              "#fb9f3a"
             ],
             [
              0.8888888888888888,
              "#fdca26"
             ],
             [
              1,
              "#f0f921"
             ]
            ],
            "type": "histogram2d"
           }
          ],
          "histogram2dcontour": [
           {
            "colorbar": {
             "outlinewidth": 0,
             "ticks": ""
            },
            "colorscale": [
             [
              0,
              "#0d0887"
             ],
             [
              0.1111111111111111,
              "#46039f"
             ],
             [
              0.2222222222222222,
              "#7201a8"
             ],
             [
              0.3333333333333333,
              "#9c179e"
             ],
             [
              0.4444444444444444,
              "#bd3786"
             ],
             [
              0.5555555555555556,
              "#d8576b"
             ],
             [
              0.6666666666666666,
              "#ed7953"
             ],
             [
              0.7777777777777778,
              "#fb9f3a"
             ],
             [
              0.8888888888888888,
              "#fdca26"
             ],
             [
              1,
              "#f0f921"
             ]
            ],
            "type": "histogram2dcontour"
           }
          ],
          "mesh3d": [
           {
            "colorbar": {
             "outlinewidth": 0,
             "ticks": ""
            },
            "type": "mesh3d"
           }
          ],
          "parcoords": [
           {
            "line": {
             "colorbar": {
              "outlinewidth": 0,
              "ticks": ""
             }
            },
            "type": "parcoords"
           }
          ],
          "pie": [
           {
            "automargin": true,
            "type": "pie"
           }
          ],
          "scatter": [
           {
            "fillpattern": {
             "fillmode": "overlay",
             "size": 10,
             "solidity": 0.2
            },
            "type": "scatter"
           }
          ],
          "scatter3d": [
           {
            "line": {
             "colorbar": {
              "outlinewidth": 0,
              "ticks": ""
             }
            },
            "marker": {
             "colorbar": {
              "outlinewidth": 0,
              "ticks": ""
             }
            },
            "type": "scatter3d"
           }
          ],
          "scattercarpet": [
           {
            "marker": {
             "colorbar": {
              "outlinewidth": 0,
              "ticks": ""
             }
            },
            "type": "scattercarpet"
           }
          ],
          "scattergeo": [
           {
            "marker": {
             "colorbar": {
              "outlinewidth": 0,
              "ticks": ""
             }
            },
            "type": "scattergeo"
           }
          ],
          "scattergl": [
           {
            "marker": {
             "colorbar": {
              "outlinewidth": 0,
              "ticks": ""
             }
            },
            "type": "scattergl"
           }
          ],
          "scattermap": [
           {
            "marker": {
             "colorbar": {
              "outlinewidth": 0,
              "ticks": ""
             }
            },
            "type": "scattermap"
           }
          ],
          "scattermapbox": [
           {
            "marker": {
             "colorbar": {
              "outlinewidth": 0,
              "ticks": ""
             }
            },
            "type": "scattermapbox"
           }
          ],
          "scatterpolar": [
           {
            "marker": {
             "colorbar": {
              "outlinewidth": 0,
              "ticks": ""
             }
            },
            "type": "scatterpolar"
           }
          ],
          "scatterpolargl": [
           {
            "marker": {
             "colorbar": {
              "outlinewidth": 0,
              "ticks": ""
             }
            },
            "type": "scatterpolargl"
           }
          ],
          "scatterternary": [
           {
            "marker": {
             "colorbar": {
              "outlinewidth": 0,
              "ticks": ""
             }
            },
            "type": "scatterternary"
           }
          ],
          "surface": [
           {
            "colorbar": {
             "outlinewidth": 0,
             "ticks": ""
            },
            "colorscale": [
             [
              0,
              "#0d0887"
             ],
             [
              0.1111111111111111,
              "#46039f"
             ],
             [
              0.2222222222222222,
              "#7201a8"
             ],
             [
              0.3333333333333333,
              "#9c179e"
             ],
             [
              0.4444444444444444,
              "#bd3786"
             ],
             [
              0.5555555555555556,
              "#d8576b"
             ],
             [
              0.6666666666666666,
              "#ed7953"
             ],
             [
              0.7777777777777778,
              "#fb9f3a"
             ],
             [
              0.8888888888888888,
              "#fdca26"
             ],
             [
              1,
              "#f0f921"
             ]
            ],
            "type": "surface"
           }
          ],
          "table": [
           {
            "cells": {
             "fill": {
              "color": "#EBF0F8"
             },
             "line": {
              "color": "white"
             }
            },
            "header": {
             "fill": {
              "color": "#C8D4E3"
             },
             "line": {
              "color": "white"
             }
            },
            "type": "table"
           }
          ]
         },
         "layout": {
          "annotationdefaults": {
           "arrowcolor": "#2a3f5f",
           "arrowhead": 0,
           "arrowwidth": 1
          },
          "autotypenumbers": "strict",
          "coloraxis": {
           "colorbar": {
            "outlinewidth": 0,
            "ticks": ""
           }
          },
          "colorscale": {
           "diverging": [
            [
             0,
             "#8e0152"
            ],
            [
             0.1,
             "#c51b7d"
            ],
            [
             0.2,
             "#de77ae"
            ],
            [
             0.3,
             "#f1b6da"
            ],
            [
             0.4,
             "#fde0ef"
            ],
            [
             0.5,
             "#f7f7f7"
            ],
            [
             0.6,
             "#e6f5d0"
            ],
            [
             0.7,
             "#b8e186"
            ],
            [
             0.8,
             "#7fbc41"
            ],
            [
             0.9,
             "#4d9221"
            ],
            [
             1,
             "#276419"
            ]
           ],
           "sequential": [
            [
             0,
             "#0d0887"
            ],
            [
             0.1111111111111111,
             "#46039f"
            ],
            [
             0.2222222222222222,
             "#7201a8"
            ],
            [
             0.3333333333333333,
             "#9c179e"
            ],
            [
             0.4444444444444444,
             "#bd3786"
            ],
            [
             0.5555555555555556,
             "#d8576b"
            ],
            [
             0.6666666666666666,
             "#ed7953"
            ],
            [
             0.7777777777777778,
             "#fb9f3a"
            ],
            [
             0.8888888888888888,
             "#fdca26"
            ],
            [
             1,
             "#f0f921"
            ]
           ],
           "sequentialminus": [
            [
             0,
             "#0d0887"
            ],
            [
             0.1111111111111111,
             "#46039f"
            ],
            [
             0.2222222222222222,
             "#7201a8"
            ],
            [
             0.3333333333333333,
             "#9c179e"
            ],
            [
             0.4444444444444444,
             "#bd3786"
            ],
            [
             0.5555555555555556,
             "#d8576b"
            ],
            [
             0.6666666666666666,
             "#ed7953"
            ],
            [
             0.7777777777777778,
             "#fb9f3a"
            ],
            [
             0.8888888888888888,
             "#fdca26"
            ],
            [
             1,
             "#f0f921"
            ]
           ]
          },
          "colorway": [
           "#636efa",
           "#EF553B",
           "#00cc96",
           "#ab63fa",
           "#FFA15A",
           "#19d3f3",
           "#FF6692",
           "#B6E880",
           "#FF97FF",
           "#FECB52"
          ],
          "font": {
           "color": "#2a3f5f"
          },
          "geo": {
           "bgcolor": "white",
           "lakecolor": "white",
           "landcolor": "#E5ECF6",
           "showlakes": true,
           "showland": true,
           "subunitcolor": "white"
          },
          "hoverlabel": {
           "align": "left"
          },
          "hovermode": "closest",
          "mapbox": {
           "style": "light"
          },
          "paper_bgcolor": "white",
          "plot_bgcolor": "#E5ECF6",
          "polar": {
           "angularaxis": {
            "gridcolor": "white",
            "linecolor": "white",
            "ticks": ""
           },
           "bgcolor": "#E5ECF6",
           "radialaxis": {
            "gridcolor": "white",
            "linecolor": "white",
            "ticks": ""
           }
          },
          "scene": {
           "xaxis": {
            "backgroundcolor": "#E5ECF6",
            "gridcolor": "white",
            "gridwidth": 2,
            "linecolor": "white",
            "showbackground": true,
            "ticks": "",
            "zerolinecolor": "white"
           },
           "yaxis": {
            "backgroundcolor": "#E5ECF6",
            "gridcolor": "white",
            "gridwidth": 2,
            "linecolor": "white",
            "showbackground": true,
            "ticks": "",
            "zerolinecolor": "white"
           },
           "zaxis": {
            "backgroundcolor": "#E5ECF6",
            "gridcolor": "white",
            "gridwidth": 2,
            "linecolor": "white",
            "showbackground": true,
            "ticks": "",
            "zerolinecolor": "white"
           }
          },
          "shapedefaults": {
           "line": {
            "color": "#2a3f5f"
           }
          },
          "ternary": {
           "aaxis": {
            "gridcolor": "white",
            "linecolor": "white",
            "ticks": ""
           },
           "baxis": {
            "gridcolor": "white",
            "linecolor": "white",
            "ticks": ""
           },
           "bgcolor": "#E5ECF6",
           "caxis": {
            "gridcolor": "white",
            "linecolor": "white",
            "ticks": ""
           }
          },
          "title": {
           "x": 0.05
          },
          "xaxis": {
           "automargin": true,
           "gridcolor": "white",
           "linecolor": "white",
           "ticks": "",
           "title": {
            "standoff": 15
           },
           "zerolinecolor": "white",
           "zerolinewidth": 2
          },
          "yaxis": {
           "automargin": true,
           "gridcolor": "white",
           "linecolor": "white",
           "ticks": "",
           "title": {
            "standoff": 15
           },
           "zerolinecolor": "white",
           "zerolinewidth": 2
          }
         }
        },
        "xaxis": {
         "anchor": "y",
         "domain": [
          0,
          1
         ],
         "title": {
          "text": "Weeks"
         }
        },
        "yaxis": {
         "anchor": "x",
         "domain": [
          0,
          1
         ],
         "title": {
          "text": "Total loss (million USD)"
         }
        }
       }
      }
     },
     "metadata": {},
     "output_type": "display_data"
    }
   ],
   "source": [
    "if 'ts_df' in locals():\n",
    "    total_by_time = ts_df.groupby(['scenario', 'time_step'])['loss'].sum().reset_index()\n",
    "    \n",
    "    fig2 = px.line(\n",
    "        total_by_time,\n",
    "        x='time_step',\n",
    "        y='loss', \n",
    "        color='scenario',\n",
    "        labels={'time_step': 'Weeks', 'loss': 'Total loss (million USD)'},\n",
    "        markers=True,\n",
    "        height=500\n",
    "    )\n",
    "    \n",
    "    fig2.update_layout(\n",
    "        legend=dict(orientation=\"v\", yanchor=\"top\", y=1, xanchor=\"left\", x=1.02)\n",
    "    )\n",
    "    \n",
    "    fig2.show()"
   ]
  },
  {
   "cell_type": "code",
   "execution_count": 75,
   "id": "32b484c6",
   "metadata": {},
   "outputs": [
    {
     "data": {
      "application/vnd.plotly.v1+json": {
       "config": {
        "plotlyServerURL": "https://plot.ly"
       },
       "data": [
        {
         "alignmentgroup": "True",
         "hovertemplate": "scenario=Cascading<br>Countries=%{x}<br>Trade loss (million USD)=%{y}<extra></extra>",
         "legendgroup": "Cascading",
         "marker": {
          "color": "#636efa",
          "pattern": {
           "shape": ""
          }
         },
         "name": "Cascading",
         "offsetgroup": "Cascading",
         "orientation": "v",
         "showlegend": true,
         "textposition": "auto",
         "type": "bar",
         "x": [
          "AFR",
          "AME",
          "ASI",
          "EUR",
          "OCE",
          "THA",
          "VNM"
         ],
         "xaxis": "x",
         "y": {
          "bdata": "lmgo1ePlmz895cr2dS8IQDImu4O/DP8/p76Nz2gHEUDr3n79PdK3P37Y7Zhci98/utWPtsMI3z8=",
          "dtype": "f8"
         },
         "yaxis": "y"
        },
        {
         "alignmentgroup": "True",
         "hovertemplate": "scenario=Mekong only<br>Countries=%{x}<br>Trade loss (million USD)=%{y}<extra></extra>",
         "legendgroup": "Mekong only",
         "marker": {
          "color": "#EF553B",
          "pattern": {
           "shape": ""
          }
         },
         "name": "Mekong only",
         "offsetgroup": "Mekong only",
         "orientation": "v",
         "showlegend": true,
         "textposition": "auto",
         "type": "bar",
         "x": [
          "AFR",
          "AME",
          "ASI",
          "EUR",
          "OCE",
          "THA",
          "VNM"
         ],
         "xaxis": "x",
         "y": {
          "bdata": "C9cXWkOUmj/kkLraZAYCQDTZEczsrP4/YCXfr5v5CECthhSp3GW3P9V/cAX/K8I/+MBGuLML0D8=",
          "dtype": "f8"
         },
         "yaxis": "y"
        },
        {
         "alignmentgroup": "True",
         "hovertemplate": "scenario=Mixed<br>Countries=%{x}<br>Trade loss (million USD)=%{y}<extra></extra>",
         "legendgroup": "Mixed",
         "marker": {
          "color": "#00cc96",
          "pattern": {
           "shape": ""
          }
         },
         "name": "Mixed",
         "offsetgroup": "Mixed",
         "orientation": "v",
         "showlegend": true,
         "textposition": "auto",
         "type": "bar",
         "x": [
          "AFR",
          "AME",
          "ASI",
          "EUR",
          "OCE",
          "THA",
          "VNM"
         ],
         "xaxis": "x",
         "y": {
          "bdata": "mUMJO1/qjz+HeRq4aYECQBzpcHLgwfM/eCGtlrg+A0DHaDDsXhmxPzzHlDc4N8s/PLhcsSOO4j8=",
          "dtype": "f8"
         },
         "yaxis": "y"
        },
        {
         "alignmentgroup": "True",
         "hovertemplate": "scenario=Saigon only<br>Countries=%{x}<br>Trade loss (million USD)=%{y}<extra></extra>",
         "legendgroup": "Saigon only",
         "marker": {
          "color": "#ab63fa",
          "pattern": {
           "shape": ""
          }
         },
         "name": "Saigon only",
         "offsetgroup": "Saigon only",
         "orientation": "v",
         "showlegend": true,
         "textposition": "auto",
         "type": "bar",
         "x": [
          "AFR",
          "AME",
          "ASI",
          "EUR",
          "OCE",
          "THA",
          "VNM"
         ],
         "xaxis": "x",
         "y": {
          "bdata": "pxhxuX3bXD+ssH0LRyLaP5rwRGg8VsE/Dg0OUytM0D9Fz+f2MqiCP3QR7UsTzqA/Em6Op44noD8=",
          "dtype": "f8"
         },
         "yaxis": "y"
        },
        {
         "alignmentgroup": "True",
         "hovertemplate": "scenario=Simultaneous<br>Countries=%{x}<br>Trade loss (million USD)=%{y}<extra></extra>",
         "legendgroup": "Simultaneous",
         "marker": {
          "color": "#FFA15A",
          "pattern": {
           "shape": ""
          }
         },
         "name": "Simultaneous",
         "offsetgroup": "Simultaneous",
         "orientation": "v",
         "showlegend": true,
         "textposition": "auto",
         "type": "bar",
         "x": [
          "AFR",
          "AME",
          "ASI",
          "EUR",
          "OCE",
          "THA",
          "VNM"
         ],
         "xaxis": "x",
         "y": {
          "bdata": "1REej5zDhD9yq9Highv7P52jlm7EqO4/N5QlhC12+T8jPFR5ShSuP8kc1jpP7Ng/xrCpo0l50z8=",
          "dtype": "f8"
         },
         "yaxis": "y"
        },
        {
         "alignmentgroup": "True",
         "hovertemplate": "scenario=Tonlè Sap only<br>Countries=%{x}<br>Trade loss (million USD)=%{y}<extra></extra>",
         "legendgroup": "Tonlè Sap only",
         "marker": {
          "color": "#19d3f3",
          "pattern": {
           "shape": ""
          }
         },
         "name": "Tonlè Sap only",
         "offsetgroup": "Tonlè Sap only",
         "orientation": "v",
         "showlegend": true,
         "textposition": "auto",
         "type": "bar",
         "x": [
          "AFR",
          "AME",
          "ASI",
          "EUR",
          "OCE",
          "THA",
          "VNM"
         ],
         "xaxis": "x",
         "y": {
          "bdata": "Y4I1ZWPoVT/Gyxq07ry+P3m+VBnXTL8/FBn+qZSF0D8qNts4WlZ0PyDS4tmRJsU/Zcu90G5fvT8=",
          "dtype": "f8"
         },
         "yaxis": "y"
        }
       ],
       "layout": {
        "barmode": "group",
        "font": {
         "size": 18
        },
        "height": 400,
        "legend": {
         "orientation": "v",
         "title": {
          "text": ""
         },
         "tracegroupgap": 0,
         "x": 1.02,
         "xanchor": "left",
         "y": 1,
         "yanchor": "top"
        },
        "margin": {
         "t": 60
        },
        "template": {
         "data": {
          "bar": [
           {
            "error_x": {
             "color": "#2a3f5f"
            },
            "error_y": {
             "color": "#2a3f5f"
            },
            "marker": {
             "line": {
              "color": "#E5ECF6",
              "width": 0.5
             },
             "pattern": {
              "fillmode": "overlay",
              "size": 10,
              "solidity": 0.2
             }
            },
            "type": "bar"
           }
          ],
          "barpolar": [
           {
            "marker": {
             "line": {
              "color": "#E5ECF6",
              "width": 0.5
             },
             "pattern": {
              "fillmode": "overlay",
              "size": 10,
              "solidity": 0.2
             }
            },
            "type": "barpolar"
           }
          ],
          "carpet": [
           {
            "aaxis": {
             "endlinecolor": "#2a3f5f",
             "gridcolor": "white",
             "linecolor": "white",
             "minorgridcolor": "white",
             "startlinecolor": "#2a3f5f"
            },
            "baxis": {
             "endlinecolor": "#2a3f5f",
             "gridcolor": "white",
             "linecolor": "white",
             "minorgridcolor": "white",
             "startlinecolor": "#2a3f5f"
            },
            "type": "carpet"
           }
          ],
          "choropleth": [
           {
            "colorbar": {
             "outlinewidth": 0,
             "ticks": ""
            },
            "type": "choropleth"
           }
          ],
          "contour": [
           {
            "colorbar": {
             "outlinewidth": 0,
             "ticks": ""
            },
            "colorscale": [
             [
              0,
              "#0d0887"
             ],
             [
              0.1111111111111111,
              "#46039f"
             ],
             [
              0.2222222222222222,
              "#7201a8"
             ],
             [
              0.3333333333333333,
              "#9c179e"
             ],
             [
              0.4444444444444444,
              "#bd3786"
             ],
             [
              0.5555555555555556,
              "#d8576b"
             ],
             [
              0.6666666666666666,
              "#ed7953"
             ],
             [
              0.7777777777777778,
              "#fb9f3a"
             ],
             [
              0.8888888888888888,
              "#fdca26"
             ],
             [
              1,
              "#f0f921"
             ]
            ],
            "type": "contour"
           }
          ],
          "contourcarpet": [
           {
            "colorbar": {
             "outlinewidth": 0,
             "ticks": ""
            },
            "type": "contourcarpet"
           }
          ],
          "heatmap": [
           {
            "colorbar": {
             "outlinewidth": 0,
             "ticks": ""
            },
            "colorscale": [
             [
              0,
              "#0d0887"
             ],
             [
              0.1111111111111111,
              "#46039f"
             ],
             [
              0.2222222222222222,
              "#7201a8"
             ],
             [
              0.3333333333333333,
              "#9c179e"
             ],
             [
              0.4444444444444444,
              "#bd3786"
             ],
             [
              0.5555555555555556,
              "#d8576b"
             ],
             [
              0.6666666666666666,
              "#ed7953"
             ],
             [
              0.7777777777777778,
              "#fb9f3a"
             ],
             [
              0.8888888888888888,
              "#fdca26"
             ],
             [
              1,
              "#f0f921"
             ]
            ],
            "type": "heatmap"
           }
          ],
          "histogram": [
           {
            "marker": {
             "pattern": {
              "fillmode": "overlay",
              "size": 10,
              "solidity": 0.2
             }
            },
            "type": "histogram"
           }
          ],
          "histogram2d": [
           {
            "colorbar": {
             "outlinewidth": 0,
             "ticks": ""
            },
            "colorscale": [
             [
              0,
              "#0d0887"
             ],
             [
              0.1111111111111111,
              "#46039f"
             ],
             [
              0.2222222222222222,
              "#7201a8"
             ],
             [
              0.3333333333333333,
              "#9c179e"
             ],
             [
              0.4444444444444444,
              "#bd3786"
             ],
             [
              0.5555555555555556,
              "#d8576b"
             ],
             [
              0.6666666666666666,
              "#ed7953"
             ],
             [
              0.7777777777777778,
              "#fb9f3a"
             ],
             [
              0.8888888888888888,
              "#fdca26"
             ],
             [
              1,
              "#f0f921"
             ]
            ],
            "type": "histogram2d"
           }
          ],
          "histogram2dcontour": [
           {
            "colorbar": {
             "outlinewidth": 0,
             "ticks": ""
            },
            "colorscale": [
             [
              0,
              "#0d0887"
             ],
             [
              0.1111111111111111,
              "#46039f"
             ],
             [
              0.2222222222222222,
              "#7201a8"
             ],
             [
              0.3333333333333333,
              "#9c179e"
             ],
             [
              0.4444444444444444,
              "#bd3786"
             ],
             [
              0.5555555555555556,
              "#d8576b"
             ],
             [
              0.6666666666666666,
              "#ed7953"
             ],
             [
              0.7777777777777778,
              "#fb9f3a"
             ],
             [
              0.8888888888888888,
              "#fdca26"
             ],
             [
              1,
              "#f0f921"
             ]
            ],
            "type": "histogram2dcontour"
           }
          ],
          "mesh3d": [
           {
            "colorbar": {
             "outlinewidth": 0,
             "ticks": ""
            },
            "type": "mesh3d"
           }
          ],
          "parcoords": [
           {
            "line": {
             "colorbar": {
              "outlinewidth": 0,
              "ticks": ""
             }
            },
            "type": "parcoords"
           }
          ],
          "pie": [
           {
            "automargin": true,
            "type": "pie"
           }
          ],
          "scatter": [
           {
            "fillpattern": {
             "fillmode": "overlay",
             "size": 10,
             "solidity": 0.2
            },
            "type": "scatter"
           }
          ],
          "scatter3d": [
           {
            "line": {
             "colorbar": {
              "outlinewidth": 0,
              "ticks": ""
             }
            },
            "marker": {
             "colorbar": {
              "outlinewidth": 0,
              "ticks": ""
             }
            },
            "type": "scatter3d"
           }
          ],
          "scattercarpet": [
           {
            "marker": {
             "colorbar": {
              "outlinewidth": 0,
              "ticks": ""
             }
            },
            "type": "scattercarpet"
           }
          ],
          "scattergeo": [
           {
            "marker": {
             "colorbar": {
              "outlinewidth": 0,
              "ticks": ""
             }
            },
            "type": "scattergeo"
           }
          ],
          "scattergl": [
           {
            "marker": {
             "colorbar": {
              "outlinewidth": 0,
              "ticks": ""
             }
            },
            "type": "scattergl"
           }
          ],
          "scattermap": [
           {
            "marker": {
             "colorbar": {
              "outlinewidth": 0,
              "ticks": ""
             }
            },
            "type": "scattermap"
           }
          ],
          "scattermapbox": [
           {
            "marker": {
             "colorbar": {
              "outlinewidth": 0,
              "ticks": ""
             }
            },
            "type": "scattermapbox"
           }
          ],
          "scatterpolar": [
           {
            "marker": {
             "colorbar": {
              "outlinewidth": 0,
              "ticks": ""
             }
            },
            "type": "scatterpolar"
           }
          ],
          "scatterpolargl": [
           {
            "marker": {
             "colorbar": {
              "outlinewidth": 0,
              "ticks": ""
             }
            },
            "type": "scatterpolargl"
           }
          ],
          "scatterternary": [
           {
            "marker": {
             "colorbar": {
              "outlinewidth": 0,
              "ticks": ""
             }
            },
            "type": "scatterternary"
           }
          ],
          "surface": [
           {
            "colorbar": {
             "outlinewidth": 0,
             "ticks": ""
            },
            "colorscale": [
             [
              0,
              "#0d0887"
             ],
             [
              0.1111111111111111,
              "#46039f"
             ],
             [
              0.2222222222222222,
              "#7201a8"
             ],
             [
              0.3333333333333333,
              "#9c179e"
             ],
             [
              0.4444444444444444,
              "#bd3786"
             ],
             [
              0.5555555555555556,
              "#d8576b"
             ],
             [
              0.6666666666666666,
              "#ed7953"
             ],
             [
              0.7777777777777778,
              "#fb9f3a"
             ],
             [
              0.8888888888888888,
              "#fdca26"
             ],
             [
              1,
              "#f0f921"
             ]
            ],
            "type": "surface"
           }
          ],
          "table": [
           {
            "cells": {
             "fill": {
              "color": "#EBF0F8"
             },
             "line": {
              "color": "white"
             }
            },
            "header": {
             "fill": {
              "color": "#C8D4E3"
             },
             "line": {
              "color": "white"
             }
            },
            "type": "table"
           }
          ]
         },
         "layout": {
          "annotationdefaults": {
           "arrowcolor": "#2a3f5f",
           "arrowhead": 0,
           "arrowwidth": 1
          },
          "autotypenumbers": "strict",
          "coloraxis": {
           "colorbar": {
            "outlinewidth": 0,
            "ticks": ""
           }
          },
          "colorscale": {
           "diverging": [
            [
             0,
             "#8e0152"
            ],
            [
             0.1,
             "#c51b7d"
            ],
            [
             0.2,
             "#de77ae"
            ],
            [
             0.3,
             "#f1b6da"
            ],
            [
             0.4,
             "#fde0ef"
            ],
            [
             0.5,
             "#f7f7f7"
            ],
            [
             0.6,
             "#e6f5d0"
            ],
            [
             0.7,
             "#b8e186"
            ],
            [
             0.8,
             "#7fbc41"
            ],
            [
             0.9,
             "#4d9221"
            ],
            [
             1,
             "#276419"
            ]
           ],
           "sequential": [
            [
             0,
             "#0d0887"
            ],
            [
             0.1111111111111111,
             "#46039f"
            ],
            [
             0.2222222222222222,
             "#7201a8"
            ],
            [
             0.3333333333333333,
             "#9c179e"
            ],
            [
             0.4444444444444444,
             "#bd3786"
            ],
            [
             0.5555555555555556,
             "#d8576b"
            ],
            [
             0.6666666666666666,
             "#ed7953"
            ],
            [
             0.7777777777777778,
             "#fb9f3a"
            ],
            [
             0.8888888888888888,
             "#fdca26"
            ],
            [
             1,
             "#f0f921"
            ]
           ],
           "sequentialminus": [
            [
             0,
             "#0d0887"
            ],
            [
             0.1111111111111111,
             "#46039f"
            ],
            [
             0.2222222222222222,
             "#7201a8"
            ],
            [
             0.3333333333333333,
             "#9c179e"
            ],
            [
             0.4444444444444444,
             "#bd3786"
            ],
            [
             0.5555555555555556,
             "#d8576b"
            ],
            [
             0.6666666666666666,
             "#ed7953"
            ],
            [
             0.7777777777777778,
             "#fb9f3a"
            ],
            [
             0.8888888888888888,
             "#fdca26"
            ],
            [
             1,
             "#f0f921"
            ]
           ]
          },
          "colorway": [
           "#636efa",
           "#EF553B",
           "#00cc96",
           "#ab63fa",
           "#FFA15A",
           "#19d3f3",
           "#FF6692",
           "#B6E880",
           "#FF97FF",
           "#FECB52"
          ],
          "font": {
           "color": "#2a3f5f"
          },
          "geo": {
           "bgcolor": "white",
           "lakecolor": "white",
           "landcolor": "#E5ECF6",
           "showlakes": true,
           "showland": true,
           "subunitcolor": "white"
          },
          "hoverlabel": {
           "align": "left"
          },
          "hovermode": "closest",
          "mapbox": {
           "style": "light"
          },
          "paper_bgcolor": "white",
          "plot_bgcolor": "#E5ECF6",
          "polar": {
           "angularaxis": {
            "gridcolor": "white",
            "linecolor": "white",
            "ticks": ""
           },
           "bgcolor": "#E5ECF6",
           "radialaxis": {
            "gridcolor": "white",
            "linecolor": "white",
            "ticks": ""
           }
          },
          "scene": {
           "xaxis": {
            "backgroundcolor": "#E5ECF6",
            "gridcolor": "white",
            "gridwidth": 2,
            "linecolor": "white",
            "showbackground": true,
            "ticks": "",
            "zerolinecolor": "white"
           },
           "yaxis": {
            "backgroundcolor": "#E5ECF6",
            "gridcolor": "white",
            "gridwidth": 2,
            "linecolor": "white",
            "showbackground": true,
            "ticks": "",
            "zerolinecolor": "white"
           },
           "zaxis": {
            "backgroundcolor": "#E5ECF6",
            "gridcolor": "white",
            "gridwidth": 2,
            "linecolor": "white",
            "showbackground": true,
            "ticks": "",
            "zerolinecolor": "white"
           }
          },
          "shapedefaults": {
           "line": {
            "color": "#2a3f5f"
           }
          },
          "ternary": {
           "aaxis": {
            "gridcolor": "white",
            "linecolor": "white",
            "ticks": ""
           },
           "baxis": {
            "gridcolor": "white",
            "linecolor": "white",
            "ticks": ""
           },
           "bgcolor": "#E5ECF6",
           "caxis": {
            "gridcolor": "white",
            "linecolor": "white",
            "ticks": ""
           }
          },
          "title": {
           "x": 0.05
          },
          "xaxis": {
           "automargin": true,
           "gridcolor": "white",
           "linecolor": "white",
           "ticks": "",
           "title": {
            "standoff": 15
           },
           "zerolinecolor": "white",
           "zerolinewidth": 2
          },
          "yaxis": {
           "automargin": true,
           "gridcolor": "white",
           "linecolor": "white",
           "ticks": "",
           "title": {
            "standoff": 15
           },
           "zerolinecolor": "white",
           "zerolinewidth": 2
          }
         }
        },
        "width": 1000,
        "xaxis": {
         "anchor": "y",
         "domain": [
          0,
          1
         ],
         "tickangle": -45,
         "title": {
          "text": "Countries"
         }
        },
        "yaxis": {
         "anchor": "x",
         "domain": [
          0,
          1
         ],
         "title": {
          "text": "Trade loss (million USD)"
         }
        }
       }
      }
     },
     "metadata": {},
     "output_type": "display_data"
    }
   ],
   "source": [
    "if 'ts_df' in locals():\n",
    "    country_totals = ts_df.groupby(['scenario', 'country'])['loss'].sum().reset_index()\n",
    "    \n",
    "    fig3 = px.bar(\n",
    "        country_totals,\n",
    "        x='country',\n",
    "        y='loss',\n",
    "        labels={'country': 'Countries', 'loss': 'Trade loss (million USD)'},\n",
    "        color='scenario', \n",
    "        barmode='group',\n",
    "        height=400,\n",
    "    )   \n",
    "    \n",
    "    fig3.update_layout(\n",
    "        xaxis_tickangle=-45,\n",
    "        height=400,\n",
    "        width=1000,\n",
    "        font=dict(size=18))\n",
    "    \n",
    "    fig3.update_layout(\n",
    "    legend=dict(\n",
    "        title=\"\",\n",
    "        orientation=\"v\", \n",
    "        yanchor=\"top\", \n",
    "        y=1, \n",
    "        xanchor=\"left\", \n",
    "        x=1.02\n",
    "    )\n",
    ")\n",
    "    fig3.show()"
   ]
  },
  {
   "cell_type": "code",
   "execution_count": 76,
   "id": "639c9284",
   "metadata": {},
   "outputs": [
    {
     "data": {
      "application/vnd.plotly.v1+json": {
       "config": {
        "plotlyServerURL": "https://plot.ly"
       },
       "data": [
        {
         "hovertemplate": "country=AFR<br>scenario=Simultaneous<br>Weeks=%{x}<br>Country loss (million USD)=%{y}<extra></extra>",
         "legendgroup": "AFR",
         "line": {
          "color": "#636efa",
          "dash": "solid"
         },
         "marker": {
          "symbol": "circle"
         },
         "mode": "lines+markers",
         "name": "AFR",
         "orientation": "v",
         "showlegend": true,
         "type": "scatter",
         "x": {
          "bdata": "AAECAwQFBgc=",
          "dtype": "i1"
         },
         "xaxis": "x5",
         "y": {
          "bdata": "AAAAAAAAAAAAAAAAAAAAAJKXNElZAoE/wCASD6PbWD/Np7N6f6ExP2isM3rUkgU/fnjTN5dO1T5mG1oNGsiwPg==",
          "dtype": "f8"
         },
         "yaxis": "y5"
        },
        {
         "hovertemplate": "country=AFR<br>scenario=Saigon only<br>Weeks=%{x}<br>Country loss (million USD)=%{y}<extra></extra>",
         "legendgroup": "AFR",
         "line": {
          "color": "#636efa",
          "dash": "solid"
         },
         "marker": {
          "symbol": "circle"
         },
         "mode": "lines+markers",
         "name": "AFR",
         "orientation": "v",
         "showlegend": false,
         "type": "scatter",
         "x": {
          "bdata": "AAECAwQF",
          "dtype": "i1"
         },
         "xaxis": "x6",
         "y": {
          "bdata": "AAAAAAAAAAALniMmSk+5PhvAB+5Dw1w/Vq6rI6HO0T4/xSfNeVdXPh++PICzlXA9",
          "dtype": "f8"
         },
         "yaxis": "y6"
        },
        {
         "hovertemplate": "country=AFR<br>scenario=Mekong only<br>Weeks=%{x}<br>Country loss (million USD)=%{y}<extra></extra>",
         "legendgroup": "AFR",
         "line": {
          "color": "#636efa",
          "dash": "solid"
         },
         "marker": {
          "symbol": "circle"
         },
         "mode": "lines+markers",
         "name": "AFR",
         "orientation": "v",
         "showlegend": false,
         "type": "scatter",
         "x": {
          "bdata": "AAECAwQFBgcICQ==",
          "dtype": "i1"
         },
         "xaxis": "x3",
         "y": {
          "bdata": "AAAAAAAAAADtxq3J9+6PP3j/aUbwK4A/sDoI3smoWj9Z5U9iXE8/PyZrrUdHtDI/tPPXHpqECj9zyXShClD2PkwsFqGTPdA+ry8XaCR/tj4=",
          "dtype": "f8"
         },
         "yaxis": "y3"
        },
        {
         "hovertemplate": "country=AFR<br>scenario=Tonlè Sap only<br>Weeks=%{x}<br>Country loss (million USD)=%{y}<extra></extra>",
         "legendgroup": "AFR",
         "line": {
          "color": "#636efa",
          "dash": "solid"
         },
         "marker": {
          "symbol": "circle"
         },
         "mode": "lines+markers",
         "name": "AFR",
         "orientation": "v",
         "showlegend": false,
         "type": "scatter",
         "x": {
          "bdata": "AAECAwQFBgcI",
          "dtype": "i1"
         },
         "xaxis": "x4",
         "y": {
          "bdata": "AAAAAAAAAAD9nSbbFssbPxjCLIBiH0s/8YqYp0FRMj9Q659lolcTP0S9fFXwogI/vGuFoJN45T6gKBbofi/MPq2/aC73VrA+",
          "dtype": "f8"
         },
         "yaxis": "y4"
        },
        {
         "hovertemplate": "country=AFR<br>scenario=Cascading<br>Weeks=%{x}<br>Country loss (million USD)=%{y}<extra></extra>",
         "legendgroup": "AFR",
         "line": {
          "color": "#636efa",
          "dash": "solid"
         },
         "marker": {
          "symbol": "circle"
         },
         "mode": "lines+markers",
         "name": "AFR",
         "orientation": "v",
         "showlegend": false,
         "type": "scatter",
         "x": {
          "bdata": "AAECAwQFBgcICQo=",
          "dtype": "i1"
         },
         "xaxis": "x",
         "y": {
          "bdata": "AAAAAAAAAAAAAAAAAAAAAKynAVW/lGk/4YtPDZLejD9nEPkUdyR0P+7afV4m/mw/KMGFRRokUj+q6T64vaI5P5v/b3hiaQU/O4uC3uvY+T6d091TtozSPg==",
          "dtype": "f8"
         },
         "yaxis": "y"
        },
        {
         "hovertemplate": "country=AFR<br>scenario=Mixed<br>Weeks=%{x}<br>Country loss (million USD)=%{y}<extra></extra>",
         "legendgroup": "AFR",
         "line": {
          "color": "#636efa",
          "dash": "solid"
         },
         "marker": {
          "symbol": "circle"
         },
         "mode": "lines+markers",
         "name": "AFR",
         "orientation": "v",
         "showlegend": false,
         "type": "scatter",
         "x": {
          "bdata": "AAECAwQFBgcICQo=",
          "dtype": "i1"
         },
         "xaxis": "x2",
         "y": {
          "bdata": "AAAAAAAAAAAAAAAAAAAAAB6MvCgCM3A/0ERwMRHGez+GYVPLUZxZPwGLDR+LcmM/jFApBqcgQj8IBFYwF5wvP9BEWOyR+RI/AjOS8H7PAj+BbnFfc6zhPg==",
          "dtype": "f8"
         },
         "yaxis": "y2"
        },
        {
         "hovertemplate": "country=AME<br>scenario=Simultaneous<br>Weeks=%{x}<br>Country loss (million USD)=%{y}<extra></extra>",
         "legendgroup": "AME",
         "line": {
          "color": "#EF553B",
          "dash": "solid"
         },
         "marker": {
          "symbol": "circle"
         },
         "mode": "lines+markers",
         "name": "AME",
         "orientation": "v",
         "showlegend": true,
         "type": "scatter",
         "x": {
          "bdata": "AAECAwQFBgc=",
          "dtype": "i1"
         },
         "xaxis": "x5",
         "y": {
          "bdata": "AAAAAAAAAADl2TO3NsByPwfW9jSp6/Y/z4/vj6LPyj/02b0eZ7qiP198wQLcGoM/XB9Di8SiWj8OoEHbweAcPw==",
          "dtype": "f8"
         },
         "yaxis": "y5"
        },
        {
         "hovertemplate": "country=AME<br>scenario=Saigon only<br>Weeks=%{x}<br>Country loss (million USD)=%{y}<extra></extra>",
         "legendgroup": "AME",
         "line": {
          "color": "#EF553B",
          "dash": "solid"
         },
         "marker": {
          "symbol": "circle"
         },
         "mode": "lines+markers",
         "name": "AME",
         "orientation": "v",
         "showlegend": false,
         "type": "scatter",
         "x": {
          "bdata": "AAECAwQF",
          "dtype": "i1"
         },
         "xaxis": "x6",
         "y": {
          "bdata": "AAAAAAAAAAAAAAAAAAAAAG+wJC88y9k/01SqmnHCdT8g4VKZNlh9Pr8mjpCvEYQ+",
          "dtype": "f8"
         },
         "yaxis": "y6"
        },
        {
         "hovertemplate": "country=AME<br>scenario=Mekong only<br>Weeks=%{x}<br>Country loss (million USD)=%{y}<extra></extra>",
         "legendgroup": "AME",
         "line": {
          "color": "#EF553B",
          "dash": "solid"
         },
         "marker": {
          "symbol": "circle"
         },
         "mode": "lines+markers",
         "name": "AME",
         "orientation": "v",
         "showlegend": false,
         "type": "scatter",
         "x": {
          "bdata": "AAECAwQFBgcICQ==",
          "dtype": "i1"
         },
         "xaxis": "x3",
         "y": {
          "bdata": "AAAAAAAAAABb3DRWfifyP0PuQCjsguo/gbBxQxKwyD/Du/od9MCuP15eQE68V54/bHVlD5oIdD8RquEMfz1gP88g+bnU8jk/j+pg6TS9JD8=",
          "dtype": "f8"
         },
         "yaxis": "y3"
        },
        {
         "hovertemplate": "country=AME<br>scenario=Tonlè Sap only<br>Weeks=%{x}<br>Country loss (million USD)=%{y}<extra></extra>",
         "legendgroup": "AME",
         "line": {
          "color": "#EF553B",
          "dash": "solid"
         },
         "marker": {
          "symbol": "circle"
         },
         "mode": "lines+markers",
         "name": "AME",
         "orientation": "v",
         "showlegend": false,
         "type": "scatter",
         "x": {
          "bdata": "AAECAwQFBgcI",
          "dtype": "i1"
         },
         "xaxis": "x4",
         "y": {
          "bdata": "AAAAAAAAAACFVeyYGU6DP1EsfOG76rE//FSEmBfvnD/7IXO7B3R+PxgZpoDqhWw/IUG0XuGWUD9mRTBYIqM3P0ZKbUIH7Rw/",
          "dtype": "f8"
         },
         "yaxis": "y4"
        },
        {
         "hovertemplate": "country=AME<br>scenario=Cascading<br>Weeks=%{x}<br>Country loss (million USD)=%{y}<extra></extra>",
         "legendgroup": "AME",
         "line": {
          "color": "#EF553B",
          "dash": "solid"
         },
         "marker": {
          "symbol": "circle"
         },
         "mode": "lines+markers",
         "name": "AME",
         "orientation": "v",
         "showlegend": false,
         "type": "scatter",
         "x": {
          "bdata": "AAECAwQFBgcICQo=",
          "dtype": "i1"
         },
         "xaxis": "x",
         "y": {
          "bdata": "AAAAAAAAAACgfeT/OhIgPycFXX3b49w/zjAOeEMz9z8/cof1oWbhP1dDAPmZf9g/bkX886T9wj/y7eJEf5qkP5gmURKd3Wo/3F2gs9jzZj/vomavfIM4Pw==",
          "dtype": "f8"
         },
         "yaxis": "y"
        },
        {
         "hovertemplate": "country=AME<br>scenario=Mixed<br>Weeks=%{x}<br>Country loss (million USD)=%{y}<extra></extra>",
         "legendgroup": "AME",
         "line": {
          "color": "#EF553B",
          "dash": "solid"
         },
         "marker": {
          "symbol": "circle"
         },
         "mode": "lines+markers",
         "name": "AME",
         "orientation": "v",
         "showlegend": false,
         "type": "scatter",
         "x": {
          "bdata": "AAECAwQFBgcICQo=",
          "dtype": "i1"
         },
         "xaxis": "x2",
         "y": {
          "bdata": "AAAAAAAAAADdPSu9esEdP3ZV4+nlLuI/YxE7SiU08z++kdzGYlTJP5SAtlQlt84/+IR2QuJbsT/zz6HUHNSbPzMIUijNFH0/eVVIhxfMbj+bsdEnuk1OPw==",
          "dtype": "f8"
         },
         "yaxis": "y2"
        },
        {
         "hovertemplate": "country=ASI<br>scenario=Simultaneous<br>Weeks=%{x}<br>Country loss (million USD)=%{y}<extra></extra>",
         "legendgroup": "ASI",
         "line": {
          "color": "#00cc96",
          "dash": "solid"
         },
         "marker": {
          "symbol": "circle"
         },
         "mode": "lines+markers",
         "name": "ASI",
         "orientation": "v",
         "showlegend": true,
         "type": "scatter",
         "x": {
          "bdata": "AAECAwQFBgc=",
          "dtype": "i1"
         },
         "xaxis": "x5",
         "y": {
          "bdata": "AAAAAAAAAAAAAAAAAAAAALhsv+Memeo/pNyuF4QJuj9S5NHBzhmUP9Yb4tRwCHM/X/6PSjwMTT8RuP2YRagEPw==",
          "dtype": "f8"
         },
         "yaxis": "y5"
        },
        {
         "hovertemplate": "country=ASI<br>scenario=Saigon only<br>Weeks=%{x}<br>Country loss (million USD)=%{y}<extra></extra>",
         "legendgroup": "ASI",
         "line": {
          "color": "#00cc96",
          "dash": "solid"
         },
         "marker": {
          "symbol": "circle"
         },
         "mode": "lines+markers",
         "name": "ASI",
         "orientation": "v",
         "showlegend": false,
         "type": "scatter",
         "x": {
          "bdata": "AAECAwQF",
          "dtype": "i1"
         },
         "xaxis": "x6",
         "y": {
          "bdata": "AAAAAAAAAAAAAAAAAAAAAIMOobAShcA/dK087CVneD9jmiX5aB07P7R0d1rxdOg+",
          "dtype": "f8"
         },
         "yaxis": "y6"
        },
        {
         "hovertemplate": "country=ASI<br>scenario=Mekong only<br>Weeks=%{x}<br>Country loss (million USD)=%{y}<extra></extra>",
         "legendgroup": "ASI",
         "line": {
          "color": "#00cc96",
          "dash": "solid"
         },
         "marker": {
          "symbol": "circle"
         },
         "mode": "lines+markers",
         "name": "ASI",
         "orientation": "v",
         "showlegend": false,
         "type": "scatter",
         "x": {
          "bdata": "AAECAwQFBgcICQ==",
          "dtype": "i1"
         },
         "xaxis": "x3",
         "y": {
          "bdata": "AAAAAAAAAADCv42IhrD0P6KL4B59S98/NhLNxXKMtT9LO58svHKgP/xW3o/Dm44/xzEs2mtdZz9lJncgyrVIPxDkdIc+yiw/bDaOQ3GpET8=",
          "dtype": "f8"
         },
         "yaxis": "y3"
        },
        {
         "hovertemplate": "country=ASI<br>scenario=Tonlè Sap only<br>Weeks=%{x}<br>Country loss (million USD)=%{y}<extra></extra>",
         "legendgroup": "ASI",
         "line": {
          "color": "#00cc96",
          "dash": "solid"
         },
         "marker": {
          "symbol": "circle"
         },
         "mode": "lines+markers",
         "name": "ASI",
         "orientation": "v",
         "showlegend": false,
         "type": "scatter",
         "x": {
          "bdata": "AAECAwQFBgcI",
          "dtype": "i1"
         },
         "xaxis": "x4",
         "y": {
          "bdata": "AAAAAAAAAABwPkpbvxmkPzifo5x2Gq4/1bT/ESLzkT81Qf874zBwPz650MFr6l0/OtiLpfbTRD+e29QX4DQrP1vHSv3Fyg8/",
          "dtype": "f8"
         },
         "yaxis": "y4"
        },
        {
         "hovertemplate": "country=ASI<br>scenario=Cascading<br>Weeks=%{x}<br>Country loss (million USD)=%{y}<extra></extra>",
         "legendgroup": "ASI",
         "line": {
          "color": "#00cc96",
          "dash": "solid"
         },
         "marker": {
          "symbol": "circle"
         },
         "mode": "lines+markers",
         "name": "ASI",
         "orientation": "v",
         "showlegend": false,
         "type": "scatter",
         "x": {
          "bdata": "AAECAwQFBgcICQo=",
          "dtype": "i1"
         },
         "xaxis": "x",
         "y": {
          "bdata": "AAAAAAAAAAAAAAAAAAAAAINU3jPI2to/c/VVPo9a8D8oZjrQANnLP2z9HBIXP8g/A5T4zyeKsT9M8TgIVvSTP1SDd9d7PmI/xXtNomE5WD/TqWC+FTorPw==",
          "dtype": "f8"
         },
         "yaxis": "y"
        },
        {
         "hovertemplate": "country=ASI<br>scenario=Mixed<br>Weeks=%{x}<br>Country loss (million USD)=%{y}<extra></extra>",
         "legendgroup": "ASI",
         "line": {
          "color": "#00cc96",
          "dash": "solid"
         },
         "marker": {
          "symbol": "circle"
         },
         "mode": "lines+markers",
         "name": "ASI",
         "orientation": "v",
         "showlegend": false,
         "type": "scatter",
         "x": {
          "bdata": "AAECAwQFBgcICQo=",
          "dtype": "i1"
         },
         "xaxis": "x2",
         "y": {
          "bdata": "AAAAAAAAAABgJIId+HNDP+hcvqUcVNY/b1ogvVd54z8aZwX5Mp27PzKscJ5UHb8/y5C13uXynD/EN0XLow2KPwtA9SqVlXA/ahOiQcEaXz9slUuV1jQ9Pw==",
          "dtype": "f8"
         },
         "yaxis": "y2"
        },
        {
         "hovertemplate": "country=EUR<br>scenario=Simultaneous<br>Weeks=%{x}<br>Country loss (million USD)=%{y}<extra></extra>",
         "legendgroup": "EUR",
         "line": {
          "color": "#ab63fa",
          "dash": "solid"
         },
         "marker": {
          "symbol": "circle"
         },
         "mode": "lines+markers",
         "name": "EUR",
         "orientation": "v",
         "showlegend": true,
         "type": "scatter",
         "x": {
          "bdata": "AAECAwQFBgc=",
          "dtype": "i1"
         },
         "xaxis": "x5",
         "y": {
          "bdata": "AAAAAAAAAADDf2qL9B50P/Kk1q9tZvQ/jeAJXLBfzz/m1jBl+c+qP7YKeUS6U4g/wp+NbBqgXz/p2o+VvnEjPw==",
          "dtype": "f8"
         },
         "yaxis": "y5"
        },
        {
         "hovertemplate": "country=EUR<br>scenario=Saigon only<br>Weeks=%{x}<br>Country loss (million USD)=%{y}<extra></extra>",
         "legendgroup": "EUR",
         "line": {
          "color": "#ab63fa",
          "dash": "solid"
         },
         "marker": {
          "symbol": "circle"
         },
         "mode": "lines+markers",
         "name": "EUR",
         "orientation": "v",
         "showlegend": false,
         "type": "scatter",
         "x": {
          "bdata": "AAECAwQF",
          "dtype": "i1"
         },
         "xaxis": "x6",
         "y": {
          "bdata": "AAAAAAAAAAAAAAAAAAAAANISIoKcNtA/K63xwyu9VD/cxqv3IvYJPxjXEbMEQZ8+",
          "dtype": "f8"
         },
         "yaxis": "y6"
        },
        {
         "hovertemplate": "country=EUR<br>scenario=Mekong only<br>Weeks=%{x}<br>Country loss (million USD)=%{y}<extra></extra>",
         "legendgroup": "EUR",
         "line": {
          "color": "#ab63fa",
          "dash": "solid"
         },
         "marker": {
          "symbol": "circle"
         },
         "mode": "lines+markers",
         "name": "EUR",
         "orientation": "v",
         "showlegend": false,
         "type": "scatter",
         "x": {
          "bdata": "AAECAwQFBgcICQ==",
          "dtype": "i1"
         },
         "xaxis": "x3",
         "y": {
          "bdata": "AAAAAAAAAAD9MfwTDRH8P6d0ckTsRfA/buLxWMGwzT9ahd4FSZ6yPyLszqTzTqI/nJn+xj7HfT/77uVL319iP4BFomsyjUA/UNVHVD4bKD8=",
          "dtype": "f8"
         },
         "yaxis": "y3"
        },
        {
         "hovertemplate": "country=EUR<br>scenario=Tonlè Sap only<br>Weeks=%{x}<br>Country loss (million USD)=%{y}<extra></extra>",
         "legendgroup": "EUR",
         "line": {
          "color": "#ab63fa",
          "dash": "solid"
         },
         "marker": {
          "symbol": "circle"
         },
         "mode": "lines+markers",
         "name": "EUR",
         "orientation": "v",
         "showlegend": false,
         "type": "scatter",
         "x": {
          "bdata": "AAECAwQFBgcI",
          "dtype": "i1"
         },
         "xaxis": "x4",
         "y": {
          "bdata": "AAAAAAAAAAAnOf91LaKqPxgtu6eC/MM/XkLXl7TDoT8cwEC/qxODP90EKqhtMXE/DWQN2yLGUz8yUZyJixQ8P5NRhGzQRSM/",
          "dtype": "f8"
         },
         "yaxis": "y4"
        },
        {
         "hovertemplate": "country=EUR<br>scenario=Cascading<br>Weeks=%{x}<br>Country loss (million USD)=%{y}<extra></extra>",
         "legendgroup": "EUR",
         "line": {
          "color": "#ab63fa",
          "dash": "solid"
         },
         "marker": {
          "symbol": "circle"
         },
         "mode": "lines+markers",
         "name": "EUR",
         "orientation": "v",
         "showlegend": false,
         "type": "scatter",
         "x": {
          "bdata": "AAECAwQFBgcICQo=",
          "dtype": "i1"
         },
         "xaxis": "x",
         "y": {
          "bdata": "AAAAAAAAAABx0Ox2sNcnP8x6Jk3kQOA/qMRkoMbEAUCFDGMrjrjoP+/2orIyvOA/7asC9ZSPxT81ArcZ7uarP+eY/CbRKHc/Z7w5VHZ/bD+K5DtF6SA/Pw==",
          "dtype": "f8"
         },
         "yaxis": "y"
        },
        {
         "hovertemplate": "country=EUR<br>scenario=Mixed<br>Weeks=%{x}<br>Country loss (million USD)=%{y}<extra></extra>",
         "legendgroup": "EUR",
         "line": {
          "color": "#ab63fa",
          "dash": "solid"
         },
         "marker": {
          "symbol": "circle"
         },
         "mode": "lines+markers",
         "name": "EUR",
         "orientation": "v",
         "showlegend": false,
         "type": "scatter",
         "x": {
          "bdata": "AAECAwQFBgcICQo=",
          "dtype": "i1"
         },
         "xaxis": "x2",
         "y": {
          "bdata": "AAAAAAAAAAAAAAAAAAAAADErMi3M4+A/WCL6F4WV9D97UdSRcRHKPxYws8AbMNE/HR1gtGlnsj8l1wXgAGCgP5Hgd7/IG4M/bieU+R88cz8JXAGEIppTPw==",
          "dtype": "f8"
         },
         "yaxis": "y2"
        },
        {
         "hovertemplate": "country=OCE<br>scenario=Simultaneous<br>Weeks=%{x}<br>Country loss (million USD)=%{y}<extra></extra>",
         "legendgroup": "OCE",
         "line": {
          "color": "#FFA15A",
          "dash": "solid"
         },
         "marker": {
          "symbol": "circle"
         },
         "mode": "lines+markers",
         "name": "OCE",
         "orientation": "v",
         "showlegend": true,
         "type": "scatter",
         "x": {
          "bdata": "AAECAwQFBgc=",
          "dtype": "i1"
         },
         "xaxis": "x5",
         "y": {
          "bdata": "AAAAAAAAAAAAAAAAAAAAAEvfTZ8ydak/AeAJOuQmfz8WdUWp1/pRP2I0w2zbzzE/AqO9V6tDCT/lgdff8vzMPg==",
          "dtype": "f8"
         },
         "yaxis": "y5"
        },
        {
         "hovertemplate": "country=OCE<br>scenario=Saigon only<br>Weeks=%{x}<br>Country loss (million USD)=%{y}<extra></extra>",
         "legendgroup": "OCE",
         "line": {
          "color": "#FFA15A",
          "dash": "solid"
         },
         "marker": {
          "symbol": "circle"
         },
         "mode": "lines+markers",
         "name": "OCE",
         "orientation": "v",
         "showlegend": false,
         "type": "scatter",
         "x": {
          "bdata": "AAECAwQF",
          "dtype": "i1"
         },
         "xaxis": "x6",
         "y": {
          "bdata": "AAAAAAAAAAC1icT1ipfbPi+8fE8rP4I/TL/UmThcKT8D5ZUmuIuPPsI9x4OzH2E+",
          "dtype": "f8"
         },
         "yaxis": "y6"
        },
        {
         "hovertemplate": "country=OCE<br>scenario=Mekong only<br>Weeks=%{x}<br>Country loss (million USD)=%{y}<extra></extra>",
         "legendgroup": "OCE",
         "line": {
          "color": "#FFA15A",
          "dash": "solid"
         },
         "marker": {
          "symbol": "circle"
         },
         "mode": "lines+markers",
         "name": "OCE",
         "orientation": "v",
         "showlegend": false,
         "type": "scatter",
         "x": {
          "bdata": "AAECAwQFBgcICQ==",
          "dtype": "i1"
         },
         "xaxis": "x3",
         "y": {
          "bdata": "AAAAAAAAAAD0ooMgvGeuP4jeX6+Pe5g/eZCsfwQkdT/kxVAmec9bPxCaTlovQVA/kqP/NKzNJj9q9G5hOFwQP/+LafWUlOk+7qQLvIhO0z4=",
          "dtype": "f8"
         },
         "yaxis": "y3"
        },
        {
         "hovertemplate": "country=OCE<br>scenario=Tonlè Sap only<br>Weeks=%{x}<br>Country loss (million USD)=%{y}<extra></extra>",
         "legendgroup": "OCE",
         "line": {
          "color": "#FFA15A",
          "dash": "solid"
         },
         "marker": {
          "symbol": "circle"
         },
         "mode": "lines+markers",
         "name": "OCE",
         "orientation": "v",
         "showlegend": false,
         "type": "scatter",
         "x": {
          "bdata": "AAECAwQFBgcI",
          "dtype": "i1"
         },
         "xaxis": "x4",
         "y": {
          "bdata": "AAAAAAAAAAA+U0KMx7RFP/MdwSxJMmY/5A1NYtgiUz8lnHpmkJAwP87AYJJbJiA/Y0g1LBoKAj9ZQSfFVVboPrGqWkuxWss+",
          "dtype": "f8"
         },
         "yaxis": "y4"
        },
        {
         "hovertemplate": "country=OCE<br>scenario=Cascading<br>Weeks=%{x}<br>Country loss (million USD)=%{y}<extra></extra>",
         "legendgroup": "OCE",
         "line": {
          "color": "#FFA15A",
          "dash": "solid"
         },
         "marker": {
          "symbol": "circle"
         },
         "mode": "lines+markers",
         "name": "OCE",
         "orientation": "v",
         "showlegend": false,
         "type": "scatter",
         "x": {
          "bdata": "AAECAwQFBgcICQo=",
          "dtype": "i1"
         },
         "xaxis": "x",
         "y": {
          "bdata": "AAAAAAAAAAAAAAAAAAAAALpf0ifCfY4/m+9Vr9F+pT+pXdclQi2SP3tE8YjF6ok/diGBc2K7cD/Gyt9IbHpXPyaCojYssiQ/bmSoTGimFz/3BdJxtyPiPg==",
          "dtype": "f8"
         },
         "yaxis": "y"
        },
        {
         "hovertemplate": "country=OCE<br>scenario=Mixed<br>Weeks=%{x}<br>Country loss (million USD)=%{y}<extra></extra>",
         "legendgroup": "OCE",
         "line": {
          "color": "#FFA15A",
          "dash": "solid"
         },
         "marker": {
          "symbol": "circle"
         },
         "mode": "lines+markers",
         "name": "OCE",
         "orientation": "v",
         "showlegend": false,
         "type": "scatter",
         "x": {
          "bdata": "AAECAwQFBgcICQo=",
          "dtype": "i1"
         },
         "xaxis": "x2",
         "y": {
          "bdata": "AAAAAAAAAAAAAAAAAAAAAGkZSo4sDJA/J2C4CLLEoT9nsrY8oZN4P6HCvU4jp3w/5W/atUjXYT9YZLAk6f5MP8eu2Rb+pC0/thLyLvxEGz+FSdawVyr/Pg==",
          "dtype": "f8"
         },
         "yaxis": "y2"
        },
        {
         "hovertemplate": "country=THA<br>scenario=Simultaneous<br>Weeks=%{x}<br>Country loss (million USD)=%{y}<extra></extra>",
         "legendgroup": "THA",
         "line": {
          "color": "#19d3f3",
          "dash": "solid"
         },
         "marker": {
          "symbol": "circle"
         },
         "mode": "lines+markers",
         "name": "THA",
         "orientation": "v",
         "showlegend": true,
         "type": "scatter",
         "x": {
          "bdata": "AAECAwQFBgc=",
          "dtype": "i1"
         },
         "xaxis": "x5",
         "y": {
          "bdata": "AAAAAAAAAAC1KyBUse7QP9x8n0ORQbk/mu8O1WQYlz8ikE1HrcZqP+HnZbhJ9jU/AkGft33XAj+3T0+xkp/RPg==",
          "dtype": "f8"
         },
         "yaxis": "y5"
        },
        {
         "hovertemplate": "country=THA<br>scenario=Saigon only<br>Weeks=%{x}<br>Country loss (million USD)=%{y}<extra></extra>",
         "legendgroup": "THA",
         "line": {
          "color": "#19d3f3",
          "dash": "solid"
         },
         "marker": {
          "symbol": "circle"
         },
         "mode": "lines+markers",
         "name": "THA",
         "orientation": "v",
         "showlegend": false,
         "type": "scatter",
         "x": {
          "bdata": "AAECAwQF",
          "dtype": "i1"
         },
         "xaxis": "x6",
         "y": {
          "bdata": "AAAAAAAAAAB0jZLRyx11PwDpmWloiZs/t/aXcDn3SD8K+styDKjePj5RofrYbto+",
          "dtype": "f8"
         },
         "yaxis": "y6"
        },
        {
         "hovertemplate": "country=THA<br>scenario=Mekong only<br>Weeks=%{x}<br>Country loss (million USD)=%{y}<extra></extra>",
         "legendgroup": "THA",
         "line": {
          "color": "#19d3f3",
          "dash": "solid"
         },
         "marker": {
          "symbol": "circle"
         },
         "mode": "lines+markers",
         "name": "THA",
         "orientation": "v",
         "showlegend": false,
         "type": "scatter",
         "x": {
          "bdata": "AAECAwQFBgcICQ==",
          "dtype": "i1"
         },
         "xaxis": "x3",
         "y": {
          "bdata": "AAAAAAAAAADeD77F6mqdP2xg1B4O3rg/pmUZ6mqXiz+o4jyYrTNgP89JSU2/ekE/U7BrCw2LFT8I3CE4GWb9PucnfEAilNY+LYf2Ck++wD4=",
          "dtype": "f8"
         },
         "yaxis": "y3"
        },
        {
         "hovertemplate": "country=THA<br>scenario=Tonlè Sap only<br>Weeks=%{x}<br>Country loss (million USD)=%{y}<extra></extra>",
         "legendgroup": "THA",
         "line": {
          "color": "#19d3f3",
          "dash": "solid"
         },
         "marker": {
          "symbol": "circle"
         },
         "mode": "lines+markers",
         "name": "THA",
         "orientation": "v",
         "showlegend": false,
         "type": "scatter",
         "x": {
          "bdata": "AAECAwQFBgcI",
          "dtype": "i1"
         },
         "xaxis": "x4",
         "y": {
          "bdata": "AAAAAAAAAACQkwNx4ri/P5Q4axCUTKI/WhHOL6vodD8bHl2IMd03P5xoH6y3dxc/Al4z/Iq58z60U5wt1mnXPunEsLQTKLg+",
          "dtype": "f8"
         },
         "yaxis": "y4"
        },
        {
         "hovertemplate": "country=THA<br>scenario=Cascading<br>Weeks=%{x}<br>Country loss (million USD)=%{y}<extra></extra>",
         "legendgroup": "THA",
         "line": {
          "color": "#19d3f3",
          "dash": "solid"
         },
         "marker": {
          "symbol": "circle"
         },
         "mode": "lines+markers",
         "name": "THA",
         "orientation": "v",
         "showlegend": false,
         "type": "scatter",
         "x": {
          "bdata": "AAECAwQFBgcICQo=",
          "dtype": "i1"
         },
         "xaxis": "x",
         "y": {
          "bdata": "AAAAAAAAAAAv3w+P+1CLP70gDaEHEK0/VNlo3Gxt0D8+/NABY7vBPys0DSN6FZk/CRLd4kCJYz/s3u2GE3BDP6Wwls3hMgo/ZEagskXBBT9fbuxXDJzTPg==",
          "dtype": "f8"
         },
         "yaxis": "y"
        },
        {
         "hovertemplate": "country=THA<br>scenario=Mixed<br>Weeks=%{x}<br>Country loss (million USD)=%{y}<extra></extra>",
         "legendgroup": "THA",
         "line": {
          "color": "#19d3f3",
          "dash": "solid"
         },
         "marker": {
          "symbol": "circle"
         },
         "mode": "lines+markers",
         "name": "THA",
         "orientation": "v",
         "showlegend": false,
         "type": "scatter",
         "x": {
          "bdata": "AAECAwQFBgcICQo=",
          "dtype": "i1"
         },
         "xaxis": "x2",
         "y": {
          "bdata": "AAAAAAAAAADOi1O65sxYPy5DsSdrF7c/OPHbWGjIuT/GlujQt7KKP+GfO8TV/XY/hej3+3OgUT8DcQNof041PzXgn+lH6xU/IOuiPzCtCT/oVfT/vobmPg==",
          "dtype": "f8"
         },
         "yaxis": "y2"
        },
        {
         "hovertemplate": "country=VNM<br>scenario=Simultaneous<br>Weeks=%{x}<br>Country loss (million USD)=%{y}<extra></extra>",
         "legendgroup": "VNM",
         "line": {
          "color": "#FF6692",
          "dash": "solid"
         },
         "marker": {
          "symbol": "circle"
         },
         "mode": "lines+markers",
         "name": "VNM",
         "orientation": "v",
         "showlegend": true,
         "type": "scatter",
         "x": {
          "bdata": "AAECAwQFBgc=",
          "dtype": "i1"
         },
         "xaxis": "x5",
         "y": {
          "bdata": "AAAAAAAAAAAaMv9KkPIGP+1pYxkVadE/xFIzBNE/nD8iAnSS9RdxPzA5f6Df/zg/K7n7p7iTCD/rKP6JiXnbPg==",
          "dtype": "f8"
         },
         "yaxis": "y5"
        },
        {
         "hovertemplate": "country=VNM<br>scenario=Saigon only<br>Weeks=%{x}<br>Country loss (million USD)=%{y}<extra></extra>",
         "legendgroup": "VNM",
         "line": {
          "color": "#FF6692",
          "dash": "solid"
         },
         "marker": {
          "symbol": "circle"
         },
         "mode": "lines+markers",
         "name": "VNM",
         "orientation": "v",
         "showlegend": false,
         "type": "scatter",
         "x": {
          "bdata": "AAECAwQF",
          "dtype": "i1"
         },
         "xaxis": "x6",
         "y": {
          "bdata": "AAAAAAAAAABoCTTpHWX3PiqKNwNJ2J4/5e+5cXu7Uz9O4iDYwaspPwRbQ/KZvN4+",
          "dtype": "f8"
         },
         "yaxis": "y6"
        },
        {
         "hovertemplate": "country=VNM<br>scenario=Mekong only<br>Weeks=%{x}<br>Country loss (million USD)=%{y}<extra></extra>",
         "legendgroup": "VNM",
         "line": {
          "color": "#FF6692",
          "dash": "solid"
         },
         "marker": {
          "symbol": "circle"
         },
         "mode": "lines+markers",
         "name": "VNM",
         "orientation": "v",
         "showlegend": false,
         "type": "scatter",
         "x": {
          "bdata": "AAECAwQFBgcICQ==",
          "dtype": "i1"
         },
         "xaxis": "x3",
         "y": {
          "bdata": "AAAAAAAAAADxPKVwec/APzw2Hgq1zbk/+KMPz11VjD82F7jmh6pwP5fWW/KtTUM/HOsq86shDz/9b26CqGsAP9mA3hc/d8c+t7g5Q3PItj4=",
          "dtype": "f8"
         },
         "yaxis": "y3"
        },
        {
         "hovertemplate": "country=VNM<br>scenario=Tonlè Sap only<br>Weeks=%{x}<br>Country loss (million USD)=%{y}<extra></extra>",
         "legendgroup": "VNM",
         "line": {
          "color": "#FF6692",
          "dash": "solid"
         },
         "marker": {
          "symbol": "circle"
         },
         "mode": "lines+markers",
         "name": "VNM",
         "orientation": "v",
         "showlegend": false,
         "type": "scatter",
         "x": {
          "bdata": "AAECAwQFBgcI",
          "dtype": "i1"
         },
         "xaxis": "x4",
         "y": {
          "bdata": "AAAAAAAAAADfxnMmpkahP064ExszprM/NN+F031HbD/Q215fKARFPzCNSSJNXSA/t9ITmpxd7j4HVJ85cbTZPvZuE2fa/bs+",
          "dtype": "f8"
         },
         "yaxis": "y4"
        },
        {
         "hovertemplate": "country=VNM<br>scenario=Cascading<br>Weeks=%{x}<br>Country loss (million USD)=%{y}<extra></extra>",
         "legendgroup": "VNM",
         "line": {
          "color": "#FF6692",
          "dash": "solid"
         },
         "marker": {
          "symbol": "circle"
         },
         "mode": "lines+markers",
         "name": "VNM",
         "orientation": "v",
         "showlegend": false,
         "type": "scatter",
         "x": {
          "bdata": "AAECAwQFBgcICQo=",
          "dtype": "i1"
         },
         "xaxis": "x",
         "y": {
          "bdata": "AAAAAAAAAABpC6pNguJRP3+GfEdeDMY/bQkYU19xzj+F6SRAOg6vPwVrBJcoNIA/UlzSVRgkcj82nLLJcmBFP5PJukoDBxE/GY6YkbnR6z6SGpMx1yvRPg==",
          "dtype": "f8"
         },
         "yaxis": "y"
        },
        {
         "hovertemplate": "country=VNM<br>scenario=Mixed<br>Weeks=%{x}<br>Country loss (million USD)=%{y}<extra></extra>",
         "legendgroup": "VNM",
         "line": {
          "color": "#FF6692",
          "dash": "solid"
         },
         "marker": {
          "symbol": "circle"
         },
         "mode": "lines+markers",
         "name": "VNM",
         "orientation": "v",
         "showlegend": false,
         "type": "scatter",
         "x": {
          "bdata": "AAECAwQFBgcICQo=",
          "dtype": "i1"
         },
         "xaxis": "x2",
         "y": {
          "bdata": "AAAAAAAAAAD6m/vAYjrCPsfqpBC7WNE/pxmlH9JK0j8wKB8pz3iRP9FSclxzFnE/e3DwEThVUT9Z222WvctCP7OIiH/d6hg/Dii1hplb+T5ZpgIVHyLbPg==",
          "dtype": "f8"
         },
         "yaxis": "y2"
        }
       ],
       "layout": {
        "annotations": [
         {
          "font": {},
          "showarrow": false,
          "text": "scenario=Cascading",
          "x": 0.245,
          "xanchor": "center",
          "xref": "paper",
          "y": 0.2866666666666666,
          "yanchor": "bottom",
          "yref": "paper"
         },
         {
          "font": {},
          "showarrow": false,
          "text": "scenario=Mixed",
          "x": 0.755,
          "xanchor": "center",
          "xref": "paper",
          "y": 0.2866666666666666,
          "yanchor": "bottom",
          "yref": "paper"
         },
         {
          "font": {},
          "showarrow": false,
          "text": "scenario=Mekong only",
          "x": 0.245,
          "xanchor": "center",
          "xref": "paper",
          "y": 0.6433333333333333,
          "yanchor": "bottom",
          "yref": "paper"
         },
         {
          "font": {},
          "showarrow": false,
          "text": "scenario=Tonlè Sap only",
          "x": 0.755,
          "xanchor": "center",
          "xref": "paper",
          "y": 0.6433333333333333,
          "yanchor": "bottom",
          "yref": "paper"
         },
         {
          "font": {},
          "showarrow": false,
          "text": "scenario=Simultaneous",
          "x": 0.245,
          "xanchor": "center",
          "xref": "paper",
          "y": 0.9999999999999999,
          "yanchor": "bottom",
          "yref": "paper"
         },
         {
          "font": {},
          "showarrow": false,
          "text": "scenario=Saigon only",
          "x": 0.755,
          "xanchor": "center",
          "xref": "paper",
          "y": 0.9999999999999999,
          "yanchor": "bottom",
          "yref": "paper"
         }
        ],
        "font": {
         "size": 10
        },
        "height": 800,
        "legend": {
         "title": {
          "text": "country"
         },
         "tracegroupgap": 0
        },
        "margin": {
         "t": 60
        },
        "template": {
         "data": {
          "bar": [
           {
            "error_x": {
             "color": "#2a3f5f"
            },
            "error_y": {
             "color": "#2a3f5f"
            },
            "marker": {
             "line": {
              "color": "#E5ECF6",
              "width": 0.5
             },
             "pattern": {
              "fillmode": "overlay",
              "size": 10,
              "solidity": 0.2
             }
            },
            "type": "bar"
           }
          ],
          "barpolar": [
           {
            "marker": {
             "line": {
              "color": "#E5ECF6",
              "width": 0.5
             },
             "pattern": {
              "fillmode": "overlay",
              "size": 10,
              "solidity": 0.2
             }
            },
            "type": "barpolar"
           }
          ],
          "carpet": [
           {
            "aaxis": {
             "endlinecolor": "#2a3f5f",
             "gridcolor": "white",
             "linecolor": "white",
             "minorgridcolor": "white",
             "startlinecolor": "#2a3f5f"
            },
            "baxis": {
             "endlinecolor": "#2a3f5f",
             "gridcolor": "white",
             "linecolor": "white",
             "minorgridcolor": "white",
             "startlinecolor": "#2a3f5f"
            },
            "type": "carpet"
           }
          ],
          "choropleth": [
           {
            "colorbar": {
             "outlinewidth": 0,
             "ticks": ""
            },
            "type": "choropleth"
           }
          ],
          "contour": [
           {
            "colorbar": {
             "outlinewidth": 0,
             "ticks": ""
            },
            "colorscale": [
             [
              0,
              "#0d0887"
             ],
             [
              0.1111111111111111,
              "#46039f"
             ],
             [
              0.2222222222222222,
              "#7201a8"
             ],
             [
              0.3333333333333333,
              "#9c179e"
             ],
             [
              0.4444444444444444,
              "#bd3786"
             ],
             [
              0.5555555555555556,
              "#d8576b"
             ],
             [
              0.6666666666666666,
              "#ed7953"
             ],
             [
              0.7777777777777778,
              "#fb9f3a"
             ],
             [
              0.8888888888888888,
              "#fdca26"
             ],
             [
              1,
              "#f0f921"
             ]
            ],
            "type": "contour"
           }
          ],
          "contourcarpet": [
           {
            "colorbar": {
             "outlinewidth": 0,
             "ticks": ""
            },
            "type": "contourcarpet"
           }
          ],
          "heatmap": [
           {
            "colorbar": {
             "outlinewidth": 0,
             "ticks": ""
            },
            "colorscale": [
             [
              0,
              "#0d0887"
             ],
             [
              0.1111111111111111,
              "#46039f"
             ],
             [
              0.2222222222222222,
              "#7201a8"
             ],
             [
              0.3333333333333333,
              "#9c179e"
             ],
             [
              0.4444444444444444,
              "#bd3786"
             ],
             [
              0.5555555555555556,
              "#d8576b"
             ],
             [
              0.6666666666666666,
              "#ed7953"
             ],
             [
              0.7777777777777778,
              "#fb9f3a"
             ],
             [
              0.8888888888888888,
              "#fdca26"
             ],
             [
              1,
              "#f0f921"
             ]
            ],
            "type": "heatmap"
           }
          ],
          "histogram": [
           {
            "marker": {
             "pattern": {
              "fillmode": "overlay",
              "size": 10,
              "solidity": 0.2
             }
            },
            "type": "histogram"
           }
          ],
          "histogram2d": [
           {
            "colorbar": {
             "outlinewidth": 0,
             "ticks": ""
            },
            "colorscale": [
             [
              0,
              "#0d0887"
             ],
             [
              0.1111111111111111,
              "#46039f"
             ],
             [
              0.2222222222222222,
              "#7201a8"
             ],
             [
              0.3333333333333333,
              "#9c179e"
             ],
             [
              0.4444444444444444,
              "#bd3786"
             ],
             [
              0.5555555555555556,
              "#d8576b"
             ],
             [
              0.6666666666666666,
              "#ed7953"
             ],
             [
              0.7777777777777778,
              "#fb9f3a"
             ],
             [
              0.8888888888888888,
              "#fdca26"
             ],
             [
              1,
              "#f0f921"
             ]
            ],
            "type": "histogram2d"
           }
          ],
          "histogram2dcontour": [
           {
            "colorbar": {
             "outlinewidth": 0,
             "ticks": ""
            },
            "colorscale": [
             [
              0,
              "#0d0887"
             ],
             [
              0.1111111111111111,
              "#46039f"
             ],
             [
              0.2222222222222222,
              "#7201a8"
             ],
             [
              0.3333333333333333,
              "#9c179e"
             ],
             [
              0.4444444444444444,
              "#bd3786"
             ],
             [
              0.5555555555555556,
              "#d8576b"
             ],
             [
              0.6666666666666666,
              "#ed7953"
             ],
             [
              0.7777777777777778,
              "#fb9f3a"
             ],
             [
              0.8888888888888888,
              "#fdca26"
             ],
             [
              1,
              "#f0f921"
             ]
            ],
            "type": "histogram2dcontour"
           }
          ],
          "mesh3d": [
           {
            "colorbar": {
             "outlinewidth": 0,
             "ticks": ""
            },
            "type": "mesh3d"
           }
          ],
          "parcoords": [
           {
            "line": {
             "colorbar": {
              "outlinewidth": 0,
              "ticks": ""
             }
            },
            "type": "parcoords"
           }
          ],
          "pie": [
           {
            "automargin": true,
            "type": "pie"
           }
          ],
          "scatter": [
           {
            "fillpattern": {
             "fillmode": "overlay",
             "size": 10,
             "solidity": 0.2
            },
            "type": "scatter"
           }
          ],
          "scatter3d": [
           {
            "line": {
             "colorbar": {
              "outlinewidth": 0,
              "ticks": ""
             }
            },
            "marker": {
             "colorbar": {
              "outlinewidth": 0,
              "ticks": ""
             }
            },
            "type": "scatter3d"
           }
          ],
          "scattercarpet": [
           {
            "marker": {
             "colorbar": {
              "outlinewidth": 0,
              "ticks": ""
             }
            },
            "type": "scattercarpet"
           }
          ],
          "scattergeo": [
           {
            "marker": {
             "colorbar": {
              "outlinewidth": 0,
              "ticks": ""
             }
            },
            "type": "scattergeo"
           }
          ],
          "scattergl": [
           {
            "marker": {
             "colorbar": {
              "outlinewidth": 0,
              "ticks": ""
             }
            },
            "type": "scattergl"
           }
          ],
          "scattermap": [
           {
            "marker": {
             "colorbar": {
              "outlinewidth": 0,
              "ticks": ""
             }
            },
            "type": "scattermap"
           }
          ],
          "scattermapbox": [
           {
            "marker": {
             "colorbar": {
              "outlinewidth": 0,
              "ticks": ""
             }
            },
            "type": "scattermapbox"
           }
          ],
          "scatterpolar": [
           {
            "marker": {
             "colorbar": {
              "outlinewidth": 0,
              "ticks": ""
             }
            },
            "type": "scatterpolar"
           }
          ],
          "scatterpolargl": [
           {
            "marker": {
             "colorbar": {
              "outlinewidth": 0,
              "ticks": ""
             }
            },
            "type": "scatterpolargl"
           }
          ],
          "scatterternary": [
           {
            "marker": {
             "colorbar": {
              "outlinewidth": 0,
              "ticks": ""
             }
            },
            "type": "scatterternary"
           }
          ],
          "surface": [
           {
            "colorbar": {
             "outlinewidth": 0,
             "ticks": ""
            },
            "colorscale": [
             [
              0,
              "#0d0887"
             ],
             [
              0.1111111111111111,
              "#46039f"
             ],
             [
              0.2222222222222222,
              "#7201a8"
             ],
             [
              0.3333333333333333,
              "#9c179e"
             ],
             [
              0.4444444444444444,
              "#bd3786"
             ],
             [
              0.5555555555555556,
              "#d8576b"
             ],
             [
              0.6666666666666666,
              "#ed7953"
             ],
             [
              0.7777777777777778,
              "#fb9f3a"
             ],
             [
              0.8888888888888888,
              "#fdca26"
             ],
             [
              1,
              "#f0f921"
             ]
            ],
            "type": "surface"
           }
          ],
          "table": [
           {
            "cells": {
             "fill": {
              "color": "#EBF0F8"
             },
             "line": {
              "color": "white"
             }
            },
            "header": {
             "fill": {
              "color": "#C8D4E3"
             },
             "line": {
              "color": "white"
             }
            },
            "type": "table"
           }
          ]
         },
         "layout": {
          "annotationdefaults": {
           "arrowcolor": "#2a3f5f",
           "arrowhead": 0,
           "arrowwidth": 1
          },
          "autotypenumbers": "strict",
          "coloraxis": {
           "colorbar": {
            "outlinewidth": 0,
            "ticks": ""
           }
          },
          "colorscale": {
           "diverging": [
            [
             0,
             "#8e0152"
            ],
            [
             0.1,
             "#c51b7d"
            ],
            [
             0.2,
             "#de77ae"
            ],
            [
             0.3,
             "#f1b6da"
            ],
            [
             0.4,
             "#fde0ef"
            ],
            [
             0.5,
             "#f7f7f7"
            ],
            [
             0.6,
             "#e6f5d0"
            ],
            [
             0.7,
             "#b8e186"
            ],
            [
             0.8,
             "#7fbc41"
            ],
            [
             0.9,
             "#4d9221"
            ],
            [
             1,
             "#276419"
            ]
           ],
           "sequential": [
            [
             0,
             "#0d0887"
            ],
            [
             0.1111111111111111,
             "#46039f"
            ],
            [
             0.2222222222222222,
             "#7201a8"
            ],
            [
             0.3333333333333333,
             "#9c179e"
            ],
            [
             0.4444444444444444,
             "#bd3786"
            ],
            [
             0.5555555555555556,
             "#d8576b"
            ],
            [
             0.6666666666666666,
             "#ed7953"
            ],
            [
             0.7777777777777778,
             "#fb9f3a"
            ],
            [
             0.8888888888888888,
             "#fdca26"
            ],
            [
             1,
             "#f0f921"
            ]
           ],
           "sequentialminus": [
            [
             0,
             "#0d0887"
            ],
            [
             0.1111111111111111,
             "#46039f"
            ],
            [
             0.2222222222222222,
             "#7201a8"
            ],
            [
             0.3333333333333333,
             "#9c179e"
            ],
            [
             0.4444444444444444,
             "#bd3786"
            ],
            [
             0.5555555555555556,
             "#d8576b"
            ],
            [
             0.6666666666666666,
             "#ed7953"
            ],
            [
             0.7777777777777778,
             "#fb9f3a"
            ],
            [
             0.8888888888888888,
             "#fdca26"
            ],
            [
             1,
             "#f0f921"
            ]
           ]
          },
          "colorway": [
           "#636efa",
           "#EF553B",
           "#00cc96",
           "#ab63fa",
           "#FFA15A",
           "#19d3f3",
           "#FF6692",
           "#B6E880",
           "#FF97FF",
           "#FECB52"
          ],
          "font": {
           "color": "#2a3f5f"
          },
          "geo": {
           "bgcolor": "white",
           "lakecolor": "white",
           "landcolor": "#E5ECF6",
           "showlakes": true,
           "showland": true,
           "subunitcolor": "white"
          },
          "hoverlabel": {
           "align": "left"
          },
          "hovermode": "closest",
          "mapbox": {
           "style": "light"
          },
          "paper_bgcolor": "white",
          "plot_bgcolor": "#E5ECF6",
          "polar": {
           "angularaxis": {
            "gridcolor": "white",
            "linecolor": "white",
            "ticks": ""
           },
           "bgcolor": "#E5ECF6",
           "radialaxis": {
            "gridcolor": "white",
            "linecolor": "white",
            "ticks": ""
           }
          },
          "scene": {
           "xaxis": {
            "backgroundcolor": "#E5ECF6",
            "gridcolor": "white",
            "gridwidth": 2,
            "linecolor": "white",
            "showbackground": true,
            "ticks": "",
            "zerolinecolor": "white"
           },
           "yaxis": {
            "backgroundcolor": "#E5ECF6",
            "gridcolor": "white",
            "gridwidth": 2,
            "linecolor": "white",
            "showbackground": true,
            "ticks": "",
            "zerolinecolor": "white"
           },
           "zaxis": {
            "backgroundcolor": "#E5ECF6",
            "gridcolor": "white",
            "gridwidth": 2,
            "linecolor": "white",
            "showbackground": true,
            "ticks": "",
            "zerolinecolor": "white"
           }
          },
          "shapedefaults": {
           "line": {
            "color": "#2a3f5f"
           }
          },
          "ternary": {
           "aaxis": {
            "gridcolor": "white",
            "linecolor": "white",
            "ticks": ""
           },
           "baxis": {
            "gridcolor": "white",
            "linecolor": "white",
            "ticks": ""
           },
           "bgcolor": "#E5ECF6",
           "caxis": {
            "gridcolor": "white",
            "linecolor": "white",
            "ticks": ""
           }
          },
          "title": {
           "x": 0.05
          },
          "xaxis": {
           "automargin": true,
           "gridcolor": "white",
           "linecolor": "white",
           "ticks": "",
           "title": {
            "standoff": 15
           },
           "zerolinecolor": "white",
           "zerolinewidth": 2
          },
          "yaxis": {
           "automargin": true,
           "gridcolor": "white",
           "linecolor": "white",
           "ticks": "",
           "title": {
            "standoff": 15
           },
           "zerolinecolor": "white",
           "zerolinewidth": 2
          }
         }
        },
        "xaxis": {
         "anchor": "y",
         "domain": [
          0,
          0.49
         ],
         "title": {
          "text": "Weeks"
         }
        },
        "xaxis2": {
         "anchor": "y2",
         "domain": [
          0.51,
          1
         ],
         "matches": "x",
         "title": {
          "text": "Weeks"
         }
        },
        "xaxis3": {
         "anchor": "y3",
         "domain": [
          0,
          0.49
         ],
         "matches": "x",
         "showticklabels": false
        },
        "xaxis4": {
         "anchor": "y4",
         "domain": [
          0.51,
          1
         ],
         "matches": "x",
         "showticklabels": false
        },
        "xaxis5": {
         "anchor": "y5",
         "domain": [
          0,
          0.49
         ],
         "matches": "x",
         "showticklabels": false
        },
        "xaxis6": {
         "anchor": "y6",
         "domain": [
          0.51,
          1
         ],
         "matches": "x",
         "showticklabels": false
        },
        "yaxis": {
         "anchor": "x",
         "domain": [
          0,
          0.2866666666666666
         ],
         "title": {
          "text": "Country loss (million USD)"
         }
        },
        "yaxis2": {
         "anchor": "x2",
         "domain": [
          0,
          0.2866666666666666
         ],
         "matches": "y",
         "showticklabels": false
        },
        "yaxis3": {
         "anchor": "x3",
         "domain": [
          0.35666666666666663,
          0.6433333333333333
         ],
         "matches": "y",
         "title": {
          "text": "Country loss (million USD)"
         }
        },
        "yaxis4": {
         "anchor": "x4",
         "domain": [
          0.35666666666666663,
          0.6433333333333333
         ],
         "matches": "y",
         "showticklabels": false
        },
        "yaxis5": {
         "anchor": "x5",
         "domain": [
          0.7133333333333333,
          0.9999999999999999
         ],
         "matches": "y",
         "title": {
          "text": "Country loss (million USD)"
         }
        },
        "yaxis6": {
         "anchor": "x6",
         "domain": [
          0.7133333333333333,
          0.9999999999999999
         ],
         "matches": "y",
         "showticklabels": false
        }
       }
      }
     },
     "metadata": {},
     "output_type": "display_data"
    }
   ],
   "source": [
    "if 'ts_df' in locals():\n",
    "    fig4 = px.line(\n",
    "        ts_df,\n",
    "        x='time_step',\n",
    "        y='loss',\n",
    "        color='country',\n",
    "        facet_col='scenario',\n",
    "        facet_col_wrap=2,\n",
    "        height=800,\n",
    "        markers=True,\n",
    "        labels={'time_step': 'Weeks', 'loss': 'Country loss (million USD)'}\n",
    "    )\n",
    "    \n",
    "    fig4.update_layout(font=dict(size=10))\n",
    "    fig4.show()"
   ]
  },
  {
   "cell_type": "code",
   "execution_count": 77,
   "id": "5fcfa02e",
   "metadata": {},
   "outputs": [
    {
     "name": "stdout",
     "output_type": "stream",
     "text": [
      "Total scenarios: 6\n",
      " 5. Cascading                        41.6 mUSD\n",
      " 6. Mixed                            36.3 mUSD\n",
      " 1. Simultaneous                     34.7 mUSD\n",
      " 3. Mekong only                      30.3 mUSD\n",
      " 2. Saigon only                       5.7 mUSD\n",
      " 4. Tonlè Sap only                    4.4 mUSD\n"
     ]
    }
   ],
   "source": [
    "ranked = summary_df.sort_values('total_loss', ascending=False)\n",
    "\n",
    "print(f\"Total scenarios: {len(ranked)}\")\n",
    "for i, row in ranked.iterrows():\n",
    "    print(f\"{row.name+1:2d}. {row['scenario']:30s} {row['total_loss']:6.1f} mUSD\")"
   ]
  },
  {
   "cell_type": "code",
   "execution_count": 78,
   "id": "9c4074d2",
   "metadata": {},
   "outputs": [
    {
     "name": "stdout",
     "output_type": "stream",
     "text": [
      "\n",
      "Loaded regional sector data: 3120425 records\n",
      "Scenarios: ['Simultaneous' 'Saigon only' 'Mekong only' 'Tonlè Sap only' 'Cascading'\n",
      " 'Mixed']\n",
      "Regions: [ 10201  10202  10203 ... 240202 240203 240204]\n",
      "Sectors: 35 unique sectors\n",
      "Time steps: 0 to 10\n"
     ]
    }
   ],
   "source": [
    "sector_info_dict = {\n",
    "    'CRO': {'name': 'Crops', 'type': 'agriculture'},\n",
    "    'LIV': {'name': 'Livestock and Poultry', 'type': 'agriculture'},\n",
    "    'FOR': {'name': 'Forestry and logging', 'type': 'primary'},\n",
    "    'FIS': {'name': 'Fishing and aquaculture', 'type': 'primary'},\n",
    "    'MIN': {'name': 'Mining and quarrying', 'type': 'primary'},\n",
    "    'MFO': {'name': 'Manufacture of food products', 'type': 'manufacturing'},\n",
    "    'MBE': {'name': 'Manufacture of beverages', 'type': 'manufacturing'},\n",
    "    'MTO': {'name': 'Manufacture of tobacco products', 'type': 'manufacturing'},\n",
    "    'MTE': {'name': 'Manufacture of textiles, leather, wearing apparel and footwear', 'type': 'manufacturing'},\n",
    "    'MWO': {'name': 'Manufacture of wood and of products of wood and cork, except furniture; manufacture of articles of straw and plaiting materials', 'type': 'manufacturing'},\n",
    "    'MPA': {'name': 'Manufacture of paper and paper products; Printing and reproduction of recorded media', 'type': 'manufacturing'},\n",
    "    'MCO': {'name': 'Manufacture of coke and refined petroleum products', 'type': 'manufacturing'},\n",
    "    'MCH': {'name': 'Manufacture of chemicals and chemical products', 'type': 'manufacturing'},\n",
    "    'MPH': {'name': 'Manufacture of pharmaceuticals, medicinal chemical and botanical products', 'type': 'manufacturing'},\n",
    "    'MRU': {'name': 'Manufacture of rubber and plastic products', 'type': 'manufacturing'},\n",
    "    'MNM': {'name': 'Manufacture of other non-metallic mineral products', 'type': 'manufacturing'},\n",
    "    'MBA': {'name': 'Manufacture of basic metals', 'type': 'manufacturing'},\n",
    "    'MFA': {'name': 'Manufacture of fabricated metal products, except machinery and equipment', 'type': 'manufacturing'},\n",
    "    'MEL': {'name': 'Manufacture of electrical equipment, of computer, electronic and optical products', 'type': 'manufacturing'},\n",
    "    'MMA': {'name': 'Manufacture of machinery and equipment n.e.c.; Repair and installation of machinery and equipement; Manufacture of motor vehicles, trailers and semi-trailers', 'type': 'manufacturing'},\n",
    "    'MTR': {'name': 'Manufacture of other transport equipment', 'type': 'manufacturing'},\n",
    "    'MFU': {'name': 'Manufacture of furniture', 'type': 'manufacturing'},\n",
    "    'MAO': {'name': 'Other manufacturing', 'type': 'manufacturing'},\n",
    "    'ELE': {'name': 'Electricity, gas, steam and air conditioning supply; Water collection, treatment and supply; Sewerage', 'type': 'utility'},\n",
    "    'WAS': {'name': 'Waste collection, treatment and disposal activities; materials recovery; Remediation activities and other waste management services', 'type': 'utility'},\n",
    "    'CON': {'name': 'Construction of buildings; Civil engineering; Specialized construction activities', 'type': 'construction'},\n",
    "    'TRW': {'name': 'Wholesale trade, except of motor vehicles and motorcycles', 'type': 'trade'},\n",
    "    'TRR': {'name': 'Retail trade, except of motor vehicles and motorcycles', 'type': 'trade'},\n",
    "    'TRL': {'name': 'Land transport and transport via pipelines; Water transport; Air transport; Warehousing and support activities for transportation', 'type': 'transport'},\n",
    "    'POS': {'name': 'Postal and courier activities', 'type': 'services'},\n",
    "    'ACF': {'name': 'Accommodation; Food and beverage service activities', 'type': 'services'},\n",
    "    'PUB': {'name': 'Publishing activities', 'type': 'services'},\n",
    "    'VID': {'name': 'Motion picture, video and television program production, sound recording and  music publishing activities', 'type': 'services'},\n",
    "    'TEL': {'name': 'Programming and broadcasting activities; Telecommunications; Computer programming, consultancy and related activities', 'type': 'services'},\n",
    "    'INF': {'name': 'Information service activities', 'type': 'services'},\n",
    "    'FIN': {'name': 'Financial service activities, except insurance and pension funding', 'type': 'services'},\n",
    "    'INS': {'name': 'Insurance, reinsurance and pension funding, except compulsory social security; Activities auxiliary to financial service and insurance activities', 'type': 'services'},\n",
    "    'REA': {'name': 'Real estate activities', 'type': 'services'},\n",
    "    'ACC': {'name': 'Legal and accounting activities', 'type': 'services'},\n",
    "    'CST': {'name': 'Activities of head offices; management consultancy activities', 'type': 'services'},\n",
    "    'ARC': {'name': 'Architectural and engineering activities; technical testing and analysis; Scientific research and development; Advertising and market research; Other professional, scientific and technical activities', 'type': 'services'},\n",
    "    'VET': {'name': 'Veterinary activities', 'type': 'services'},\n",
    "    'REN': {'name': 'Rental and leasing activities', 'type': 'services'},\n",
    "    'EMP': {'name': 'Employment activities', 'type': 'services'},\n",
    "    'TRA': {'name': 'Travel agency, tour operator, reservation service and related activities', 'type': 'services'},\n",
    "    'SEC': {'name': 'Security and investigation activities', 'type': 'services'},\n",
    "    'BUI': {'name': 'Services to buildings and landscape activities', 'type': 'services'},\n",
    "    'OFS': {'name': 'Office administrative, office support and other business support activities', 'type': 'services'},\n",
    "    'ADM': {'name': 'Public administration and defense; compulsory social security', 'type': 'services'},\n",
    "    'EDU': {'name': 'Education', 'type': 'services'},\n",
    "    'HEA': {'name': 'Human health activities', 'type': 'services'},\n",
    "    'RES': {'name': 'Residential care activities', 'type': 'services'},\n",
    "    'SOC': {'name': 'Social work activities without accommodation', 'type': 'services'},\n",
    "    'CRE': {'name': 'Creative, arts and entertainment activities', 'type': 'services'},\n",
    "    'LIB': {'name': 'Libraries, archives, museums and other cultural activities', 'type': 'services'},\n",
    "    'BET': {'name': 'Gambling and betting activities', 'type': 'services'},\n",
    "    'SPO': {'name': 'Sports activities and amusement and recreation activities', 'type': 'services'},\n",
    "    'AMO': {'name': 'Activities of membership organizations', 'type': 'services'},\n",
    "    'REP': {'name': 'Repair of computers and personal and household goods', 'type': 'services'},\n",
    "    'OPS': {'name': 'Other personal service activities', 'type': 'services'},\n",
    "    'IMP': {'name': 'Imports', 'type': 'imports'}\n",
    "}\n",
    "\n",
    "sector_groups = {\n",
    "    'Agriculture': ['CRO', 'LIV', 'FOR', 'FIS'],\n",
    "    'Mining and quarrying': ['MIN'],\n",
    "    'Manufacturing': ['MFO', 'MBE', 'MTO', 'MTE', 'MWO', 'MPA', 'MCO', 'MCH', 'MPH', 'MRU', 'MNM', 'MBA', 'MFA', 'MEL', 'MMA', 'MTR', 'MFU', 'MAO'],\n",
    "    'Construction': ['CON'],\n",
    "    'Other sectors': ['ELE', 'WAS', 'TRW', 'TRR', 'TRL', 'POS', 'ACF', 'PUB', 'VID', 'TEL', 'INF', 'FIN', 'INS', 'REA', 'ACC', 'CST', 'ARC', 'VET', 'REN', 'EMP', 'TRA', 'SEC', 'BUI', 'OFS', 'ADM', 'EDU', 'HEA', 'RES', 'SOC', 'CRE', 'LIB', 'BET', 'SPO', 'AMO', 'REP', 'OPS']\n",
    "}\n",
    "\n",
    "sector_grouping = {}\n",
    "for group, sectors in sector_groups.items():\n",
    "    for sector in sectors:\n",
    "        sector_grouping[sector] = group\n",
    "\n",
    "regional_sector_data = []\n",
    "\n",
    "for scenario in scenarios:\n",
    "    folder_path = os.path.join(results_folder, scenario[\"folder\"])\n",
    "    sector_file = os.path.join(folder_path, \"loss_per_region_sector_time.csv\")  # Adjust filename as needed\n",
    "    \n",
    "    if os.path.exists(sector_file):\n",
    "        df = pd.read_csv(sector_file)\n",
    "        df[\"scenario\"] = scenario[\"name\"]\n",
    "        df[\"folder\"] = scenario[\"folder\"]\n",
    "        \n",
    "        df['sector_group'] = df['sector'].map(sector_grouping)\n",
    "        \n",
    "        regional_sector_data.append(df)\n",
    "\n",
    "# Concatenate all data\n",
    "if regional_sector_data:\n",
    "    rs_df = pd.concat(regional_sector_data, ignore_index=True)\n",
    "    print(f\"\\nLoaded regional sector data: {len(rs_df)} records\")\n",
    "    print(f\"Scenarios: {rs_df['scenario'].unique()}\")\n",
    "    print(f\"Regions: {rs_df['region'].unique()}\")\n",
    "    print(f\"Sectors: {len(rs_df['sector'].unique())} unique sectors\")\n",
    "    print(f\"Time steps: {rs_df['time_step'].min()} to {rs_df['time_step'].max()}\")\n",
    "else:\n",
    "    print(\"No regional sector data found. Please check file paths and names.\")\n",
    "    rs_df = pd.DataFrame()"
   ]
  },
  {
   "cell_type": "code",
   "execution_count": 79,
   "id": "4a1d7f9c",
   "metadata": {},
   "outputs": [
    {
     "data": {
      "application/vnd.plotly.v1+json": {
       "config": {
        "plotlyServerURL": "https://plot.ly"
       },
       "data": [
        {
         "name": "Agriculture",
         "text": {
          "bdata": "ZmZmZmZmKUDNzMzMzMwAQJqZmZmZmSNAZmZmZmZm9j/NzMzMzMwqQM3MzMzMzChA",
          "dtype": "f8"
         },
         "textfont": {
          "size": 16
         },
         "textposition": "inside",
         "type": "bar",
         "x": [
          "Simultaneous",
          "Saigon only",
          "Mekong only",
          "Tonlè Sap only",
          "Cascading",
          "Mixed"
         ],
         "y": {
          "bdata": "faJyNa5OKUBQfFlQ4n0AQInAEAAPoCNA09aEGwg19j+V1wHlXNkqQFzG8Szl2ShA",
          "dtype": "f8"
         }
        },
        {
         "name": "Mining and quarrying",
         "text": {
          "bdata": "mpmZmZmZ2T+amZmZmZm5P5qZmZmZmck/mpmZmZmZuT+amZmZmZnZPzMzMzMzM9M/",
          "dtype": "f8"
         },
         "textfont": {
          "size": 16
         },
         "textposition": "inside",
         "type": "bar",
         "x": [
          "Simultaneous",
          "Saigon only",
          "Mekong only",
          "Tonlè Sap only",
          "Cascading",
          "Mixed"
         ],
         "y": {
          "bdata": "j2QGgvqG1j9dU1ISBeyyP4Kcxl1l5Mw/8+QZFTVtqj+YlFOA/3zWP3dQG7TuE9U/",
          "dtype": "f8"
         }
        },
        {
         "name": "Manufacturing",
         "text": {
          "bdata": "ZmZmZmZmJECamZmZmZn5P83MzMzMzB5AzczMzMzM9D/NzMzMzMwlQM3MzMzMzCRA",
          "dtype": "f8"
         },
         "textfont": {
          "size": 16
         },
         "textposition": "inside",
         "type": "bar",
         "x": [
          "Simultaneous",
          "Saigon only",
          "Mekong only",
          "Tonlè Sap only",
          "Cascading",
          "Mixed"
         ],
         "y": {
          "bdata": "0A1ZUZRRJEDo6ArsXY75PxrSlbrnyB5AZiXvg0pT9D/b1tQXudYlQIa57tPytSRA",
          "dtype": "f8"
         }
        },
        {
         "name": "Construction",
         "text": {
          "bdata": "zczMzMzM9D+amZmZmZnJP83MzMzMzOw/mpmZmZmZyT9mZmZmZmb2P2ZmZmZmZvY/",
          "dtype": "f8"
         },
         "textfont": {
          "size": 16
         },
         "textposition": "inside",
         "type": "bar",
         "x": [
          "Simultaneous",
          "Saigon only",
          "Mekong only",
          "Tonlè Sap only",
          "Cascading",
          "Mixed"
         ],
         "y": {
          "bdata": "4qabJspL9D8yngjBZIDNP4wSJqXrSe0/Wa/5ATLRzD/qZMV+kbb2Pxyrb+c27/U/",
          "dtype": "f8"
         }
        },
        {
         "name": "Other sectors",
         "text": {
          "bdata": "MzMzMzMz0z8AAAAAAAAAADMzMzMzM9M/mpmZmZmZyT+amZmZmZnZP5qZmZmZmdk/",
          "dtype": "f8"
         },
         "textfont": {
          "size": 16
         },
         "textposition": "inside",
         "type": "bar",
         "x": [
          "Simultaneous",
          "Saigon only",
          "Mekong only",
          "Tonlè Sap only",
          "Cascading",
          "Mixed"
         ],
         "y": {
          "bdata": "0uW+IfhT0T96nJsT72yQP5gmL6UN2dU/AXool59rxz8Uo2Az+DXbP4OgARwg7dk/",
          "dtype": "f8"
         }
        }
       ],
       "layout": {
        "barmode": "stack",
        "font": {
         "size": 18
        },
        "height": 600,
        "legend": {
         "orientation": "v",
         "x": 1.02,
         "xanchor": "left",
         "y": 1,
         "yanchor": "top"
        },
        "showlegend": true,
        "template": {
         "data": {
          "bar": [
           {
            "error_x": {
             "color": "#2a3f5f"
            },
            "error_y": {
             "color": "#2a3f5f"
            },
            "marker": {
             "line": {
              "color": "#E5ECF6",
              "width": 0.5
             },
             "pattern": {
              "fillmode": "overlay",
              "size": 10,
              "solidity": 0.2
             }
            },
            "type": "bar"
           }
          ],
          "barpolar": [
           {
            "marker": {
             "line": {
              "color": "#E5ECF6",
              "width": 0.5
             },
             "pattern": {
              "fillmode": "overlay",
              "size": 10,
              "solidity": 0.2
             }
            },
            "type": "barpolar"
           }
          ],
          "carpet": [
           {
            "aaxis": {
             "endlinecolor": "#2a3f5f",
             "gridcolor": "white",
             "linecolor": "white",
             "minorgridcolor": "white",
             "startlinecolor": "#2a3f5f"
            },
            "baxis": {
             "endlinecolor": "#2a3f5f",
             "gridcolor": "white",
             "linecolor": "white",
             "minorgridcolor": "white",
             "startlinecolor": "#2a3f5f"
            },
            "type": "carpet"
           }
          ],
          "choropleth": [
           {
            "colorbar": {
             "outlinewidth": 0,
             "ticks": ""
            },
            "type": "choropleth"
           }
          ],
          "contour": [
           {
            "colorbar": {
             "outlinewidth": 0,
             "ticks": ""
            },
            "colorscale": [
             [
              0,
              "#0d0887"
             ],
             [
              0.1111111111111111,
              "#46039f"
             ],
             [
              0.2222222222222222,
              "#7201a8"
             ],
             [
              0.3333333333333333,
              "#9c179e"
             ],
             [
              0.4444444444444444,
              "#bd3786"
             ],
             [
              0.5555555555555556,
              "#d8576b"
             ],
             [
              0.6666666666666666,
              "#ed7953"
             ],
             [
              0.7777777777777778,
              "#fb9f3a"
             ],
             [
              0.8888888888888888,
              "#fdca26"
             ],
             [
              1,
              "#f0f921"
             ]
            ],
            "type": "contour"
           }
          ],
          "contourcarpet": [
           {
            "colorbar": {
             "outlinewidth": 0,
             "ticks": ""
            },
            "type": "contourcarpet"
           }
          ],
          "heatmap": [
           {
            "colorbar": {
             "outlinewidth": 0,
             "ticks": ""
            },
            "colorscale": [
             [
              0,
              "#0d0887"
             ],
             [
              0.1111111111111111,
              "#46039f"
             ],
             [
              0.2222222222222222,
              "#7201a8"
             ],
             [
              0.3333333333333333,
              "#9c179e"
             ],
             [
              0.4444444444444444,
              "#bd3786"
             ],
             [
              0.5555555555555556,
              "#d8576b"
             ],
             [
              0.6666666666666666,
              "#ed7953"
             ],
             [
              0.7777777777777778,
              "#fb9f3a"
             ],
             [
              0.8888888888888888,
              "#fdca26"
             ],
             [
              1,
              "#f0f921"
             ]
            ],
            "type": "heatmap"
           }
          ],
          "histogram": [
           {
            "marker": {
             "pattern": {
              "fillmode": "overlay",
              "size": 10,
              "solidity": 0.2
             }
            },
            "type": "histogram"
           }
          ],
          "histogram2d": [
           {
            "colorbar": {
             "outlinewidth": 0,
             "ticks": ""
            },
            "colorscale": [
             [
              0,
              "#0d0887"
             ],
             [
              0.1111111111111111,
              "#46039f"
             ],
             [
              0.2222222222222222,
              "#7201a8"
             ],
             [
              0.3333333333333333,
              "#9c179e"
             ],
             [
              0.4444444444444444,
              "#bd3786"
             ],
             [
              0.5555555555555556,
              "#d8576b"
             ],
             [
              0.6666666666666666,
              "#ed7953"
             ],
             [
              0.7777777777777778,
              "#fb9f3a"
             ],
             [
              0.8888888888888888,
              "#fdca26"
             ],
             [
              1,
              "#f0f921"
             ]
            ],
            "type": "histogram2d"
           }
          ],
          "histogram2dcontour": [
           {
            "colorbar": {
             "outlinewidth": 0,
             "ticks": ""
            },
            "colorscale": [
             [
              0,
              "#0d0887"
             ],
             [
              0.1111111111111111,
              "#46039f"
             ],
             [
              0.2222222222222222,
              "#7201a8"
             ],
             [
              0.3333333333333333,
              "#9c179e"
             ],
             [
              0.4444444444444444,
              "#bd3786"
             ],
             [
              0.5555555555555556,
              "#d8576b"
             ],
             [
              0.6666666666666666,
              "#ed7953"
             ],
             [
              0.7777777777777778,
              "#fb9f3a"
             ],
             [
              0.8888888888888888,
              "#fdca26"
             ],
             [
              1,
              "#f0f921"
             ]
            ],
            "type": "histogram2dcontour"
           }
          ],
          "mesh3d": [
           {
            "colorbar": {
             "outlinewidth": 0,
             "ticks": ""
            },
            "type": "mesh3d"
           }
          ],
          "parcoords": [
           {
            "line": {
             "colorbar": {
              "outlinewidth": 0,
              "ticks": ""
             }
            },
            "type": "parcoords"
           }
          ],
          "pie": [
           {
            "automargin": true,
            "type": "pie"
           }
          ],
          "scatter": [
           {
            "fillpattern": {
             "fillmode": "overlay",
             "size": 10,
             "solidity": 0.2
            },
            "type": "scatter"
           }
          ],
          "scatter3d": [
           {
            "line": {
             "colorbar": {
              "outlinewidth": 0,
              "ticks": ""
             }
            },
            "marker": {
             "colorbar": {
              "outlinewidth": 0,
              "ticks": ""
             }
            },
            "type": "scatter3d"
           }
          ],
          "scattercarpet": [
           {
            "marker": {
             "colorbar": {
              "outlinewidth": 0,
              "ticks": ""
             }
            },
            "type": "scattercarpet"
           }
          ],
          "scattergeo": [
           {
            "marker": {
             "colorbar": {
              "outlinewidth": 0,
              "ticks": ""
             }
            },
            "type": "scattergeo"
           }
          ],
          "scattergl": [
           {
            "marker": {
             "colorbar": {
              "outlinewidth": 0,
              "ticks": ""
             }
            },
            "type": "scattergl"
           }
          ],
          "scattermap": [
           {
            "marker": {
             "colorbar": {
              "outlinewidth": 0,
              "ticks": ""
             }
            },
            "type": "scattermap"
           }
          ],
          "scattermapbox": [
           {
            "marker": {
             "colorbar": {
              "outlinewidth": 0,
              "ticks": ""
             }
            },
            "type": "scattermapbox"
           }
          ],
          "scatterpolar": [
           {
            "marker": {
             "colorbar": {
              "outlinewidth": 0,
              "ticks": ""
             }
            },
            "type": "scatterpolar"
           }
          ],
          "scatterpolargl": [
           {
            "marker": {
             "colorbar": {
              "outlinewidth": 0,
              "ticks": ""
             }
            },
            "type": "scatterpolargl"
           }
          ],
          "scatterternary": [
           {
            "marker": {
             "colorbar": {
              "outlinewidth": 0,
              "ticks": ""
             }
            },
            "type": "scatterternary"
           }
          ],
          "surface": [
           {
            "colorbar": {
             "outlinewidth": 0,
             "ticks": ""
            },
            "colorscale": [
             [
              0,
              "#0d0887"
             ],
             [
              0.1111111111111111,
              "#46039f"
             ],
             [
              0.2222222222222222,
              "#7201a8"
             ],
             [
              0.3333333333333333,
              "#9c179e"
             ],
             [
              0.4444444444444444,
              "#bd3786"
             ],
             [
              0.5555555555555556,
              "#d8576b"
             ],
             [
              0.6666666666666666,
              "#ed7953"
             ],
             [
              0.7777777777777778,
              "#fb9f3a"
             ],
             [
              0.8888888888888888,
              "#fdca26"
             ],
             [
              1,
              "#f0f921"
             ]
            ],
            "type": "surface"
           }
          ],
          "table": [
           {
            "cells": {
             "fill": {
              "color": "#EBF0F8"
             },
             "line": {
              "color": "white"
             }
            },
            "header": {
             "fill": {
              "color": "#C8D4E3"
             },
             "line": {
              "color": "white"
             }
            },
            "type": "table"
           }
          ]
         },
         "layout": {
          "annotationdefaults": {
           "arrowcolor": "#2a3f5f",
           "arrowhead": 0,
           "arrowwidth": 1
          },
          "autotypenumbers": "strict",
          "coloraxis": {
           "colorbar": {
            "outlinewidth": 0,
            "ticks": ""
           }
          },
          "colorscale": {
           "diverging": [
            [
             0,
             "#8e0152"
            ],
            [
             0.1,
             "#c51b7d"
            ],
            [
             0.2,
             "#de77ae"
            ],
            [
             0.3,
             "#f1b6da"
            ],
            [
             0.4,
             "#fde0ef"
            ],
            [
             0.5,
             "#f7f7f7"
            ],
            [
             0.6,
             "#e6f5d0"
            ],
            [
             0.7,
             "#b8e186"
            ],
            [
             0.8,
             "#7fbc41"
            ],
            [
             0.9,
             "#4d9221"
            ],
            [
             1,
             "#276419"
            ]
           ],
           "sequential": [
            [
             0,
             "#0d0887"
            ],
            [
             0.1111111111111111,
             "#46039f"
            ],
            [
             0.2222222222222222,
             "#7201a8"
            ],
            [
             0.3333333333333333,
             "#9c179e"
            ],
            [
             0.4444444444444444,
             "#bd3786"
            ],
            [
             0.5555555555555556,
             "#d8576b"
            ],
            [
             0.6666666666666666,
             "#ed7953"
            ],
            [
             0.7777777777777778,
             "#fb9f3a"
            ],
            [
             0.8888888888888888,
             "#fdca26"
            ],
            [
             1,
             "#f0f921"
            ]
           ],
           "sequentialminus": [
            [
             0,
             "#0d0887"
            ],
            [
             0.1111111111111111,
             "#46039f"
            ],
            [
             0.2222222222222222,
             "#7201a8"
            ],
            [
             0.3333333333333333,
             "#9c179e"
            ],
            [
             0.4444444444444444,
             "#bd3786"
            ],
            [
             0.5555555555555556,
             "#d8576b"
            ],
            [
             0.6666666666666666,
             "#ed7953"
            ],
            [
             0.7777777777777778,
             "#fb9f3a"
            ],
            [
             0.8888888888888888,
             "#fdca26"
            ],
            [
             1,
             "#f0f921"
            ]
           ]
          },
          "colorway": [
           "#636efa",
           "#EF553B",
           "#00cc96",
           "#ab63fa",
           "#FFA15A",
           "#19d3f3",
           "#FF6692",
           "#B6E880",
           "#FF97FF",
           "#FECB52"
          ],
          "font": {
           "color": "#2a3f5f"
          },
          "geo": {
           "bgcolor": "white",
           "lakecolor": "white",
           "landcolor": "#E5ECF6",
           "showlakes": true,
           "showland": true,
           "subunitcolor": "white"
          },
          "hoverlabel": {
           "align": "left"
          },
          "hovermode": "closest",
          "mapbox": {
           "style": "light"
          },
          "paper_bgcolor": "white",
          "plot_bgcolor": "#E5ECF6",
          "polar": {
           "angularaxis": {
            "gridcolor": "white",
            "linecolor": "white",
            "ticks": ""
           },
           "bgcolor": "#E5ECF6",
           "radialaxis": {
            "gridcolor": "white",
            "linecolor": "white",
            "ticks": ""
           }
          },
          "scene": {
           "xaxis": {
            "backgroundcolor": "#E5ECF6",
            "gridcolor": "white",
            "gridwidth": 2,
            "linecolor": "white",
            "showbackground": true,
            "ticks": "",
            "zerolinecolor": "white"
           },
           "yaxis": {
            "backgroundcolor": "#E5ECF6",
            "gridcolor": "white",
            "gridwidth": 2,
            "linecolor": "white",
            "showbackground": true,
            "ticks": "",
            "zerolinecolor": "white"
           },
           "zaxis": {
            "backgroundcolor": "#E5ECF6",
            "gridcolor": "white",
            "gridwidth": 2,
            "linecolor": "white",
            "showbackground": true,
            "ticks": "",
            "zerolinecolor": "white"
           }
          },
          "shapedefaults": {
           "line": {
            "color": "#2a3f5f"
           }
          },
          "ternary": {
           "aaxis": {
            "gridcolor": "white",
            "linecolor": "white",
            "ticks": ""
           },
           "baxis": {
            "gridcolor": "white",
            "linecolor": "white",
            "ticks": ""
           },
           "bgcolor": "#E5ECF6",
           "caxis": {
            "gridcolor": "white",
            "linecolor": "white",
            "ticks": ""
           }
          },
          "title": {
           "x": 0.05
          },
          "xaxis": {
           "automargin": true,
           "gridcolor": "white",
           "linecolor": "white",
           "ticks": "",
           "title": {
            "standoff": 15
           },
           "zerolinecolor": "white",
           "zerolinewidth": 2
          },
          "yaxis": {
           "automargin": true,
           "gridcolor": "white",
           "linecolor": "white",
           "ticks": "",
           "title": {
            "standoff": 15
           },
           "zerolinecolor": "white",
           "zerolinewidth": 2
          }
         }
        },
        "width": 1000,
        "xaxis": {
         "tickangle": -45,
         "title": {
          "text": "Scenario"
         }
        },
        "yaxis": {
         "title": {
          "text": "Household loss (million USD)"
         }
        }
       }
      }
     },
     "metadata": {},
     "output_type": "display_data"
    }
   ],
   "source": [
    "if not rs_df.empty:\n",
    "    # Calculate total losses by scenario and simplified group (summing across regions and time)\n",
    "    sector_group_totals = rs_df.groupby(['scenario', 'sector_group'])['loss'].sum().reset_index()\n",
    "    \n",
    "    # Use the scenario order from the original summary_df (if available) or maintain input order\n",
    "    try:\n",
    "        scenario_order = summary_df['scenario'].tolist()\n",
    "    except:\n",
    "        scenario_order = [s['name'] for s in scenarios]\n",
    "    \n",
    "    # Reorder the dataframe to match scenario order\n",
    "    sector_group_totals['scenario'] = pd.Categorical(sector_group_totals['scenario'], categories=scenario_order, ordered=True)\n",
    "    sector_group_totals = sector_group_totals.sort_values('scenario')\n",
    "    \n",
    "    fig5 = go.Figure()\n",
    "    \n",
    "    for group in ['Agriculture', 'Mining and quarrying', 'Manufacturing', 'Construction', 'Other sectors']:\n",
    "        group_data = sector_group_totals[sector_group_totals['sector_group'] == group]\n",
    "        if not group_data.empty:\n",
    "            fig5.add_trace(go.Bar(\n",
    "                name=group,\n",
    "                x=group_data['scenario'],\n",
    "                y=group_data['loss'],\n",
    "                text=group_data['loss'].round(1),\n",
    "                textposition='inside',\n",
    "                textfont=dict(size=16)\n",
    "            ))\n",
    "    \n",
    "    fig5.update_layout(\n",
    "        xaxis_title='Scenario',\n",
    "        yaxis_title='Household loss (million USD)',\n",
    "        barmode='stack',\n",
    "        height=600,\n",
    "        width=1000,\n",
    "        xaxis_tickangle=-45,\n",
    "        showlegend=True,\n",
    "        legend=dict(\n",
    "            orientation=\"v\",\n",
    "            yanchor=\"top\",\n",
    "            y=1,\n",
    "            xanchor=\"left\",\n",
    "            x=1.02,\n",
    "        ),\n",
    "        font=dict(size=18)\n",
    "    )\n",
    "    \n",
    "    fig5.show()"
   ]
  },
  {
   "cell_type": "code",
   "execution_count": null,
   "id": "f333d0cb",
   "metadata": {},
   "outputs": [],
   "source": []
  },
  {
   "cell_type": "code",
   "execution_count": 80,
   "id": "34fef650",
   "metadata": {},
   "outputs": [
    {
     "data": {
      "application/vnd.plotly.v1+json": {
       "config": {
        "plotlyServerURL": "https://plot.ly"
       },
       "data": [
        {
         "hovertemplate": "Sectors=Agriculture<br>scenario=Cascading<br>Weeks=%{x}<br>Household loss (million USD)=%{y}<extra></extra>",
         "legendgroup": "Agriculture",
         "line": {
          "color": "#636efa",
          "dash": "solid"
         },
         "marker": {
          "symbol": "circle"
         },
         "mode": "lines+markers",
         "name": "Agriculture",
         "orientation": "v",
         "showlegend": true,
         "type": "scatter",
         "x": {
          "bdata": "AAECAwQFBgcICQo=",
          "dtype": "i1"
         },
         "xaxis": "x5",
         "y": {
          "bdata": "AAAAAAAAAADFH+N8OJoBQH2xLz1xoSJAlUSMMvEx+D9yGrqCFAzXPwOpJWlEO6E/JOGBSUaiZT+Wq7FgXzIvP+VJlir53xA/wU5NimnW6T7UavBXuKGlPg==",
          "dtype": "f8"
         },
         "yaxis": "y5"
        },
        {
         "hovertemplate": "Sectors=Agriculture<br>scenario=Mekong only<br>Weeks=%{x}<br>Household loss (million USD)=%{y}<extra></extra>",
         "legendgroup": "Agriculture",
         "line": {
          "color": "#636efa",
          "dash": "solid"
         },
         "marker": {
          "symbol": "circle"
         },
         "mode": "lines+markers",
         "name": "Agriculture",
         "orientation": "v",
         "showlegend": false,
         "type": "scatter",
         "x": {
          "bdata": "AAECAwQFBgcICQ==",
          "dtype": "i1"
         },
         "xaxis": "x6",
         "y": {
          "bdata": "AAAAAAAAAAC0lKSGvPUiQMB7E+UnetM/zQrQsdFFmj+MynY269NjP9tnOFBK9y0/9O7YN+GG9T4ByYxUMqTKPgAAAAAAAAAAAAAAAAAAAAA=",
          "dtype": "f8"
         },
         "yaxis": "y6"
        },
        {
         "hovertemplate": "Sectors=Agriculture<br>scenario=Mixed<br>Weeks=%{x}<br>Household loss (million USD)=%{y}<extra></extra>",
         "legendgroup": "Agriculture",
         "line": {
          "color": "#636efa",
          "dash": "solid"
         },
         "marker": {
          "symbol": "circle"
         },
         "mode": "lines+markers",
         "name": "Agriculture",
         "orientation": "v",
         "showlegend": false,
         "type": "scatter",
         "x": {
          "bdata": "AAECAwQFBgcICQo=",
          "dtype": "i1"
         },
         "xaxis": "x3",
         "y": {
          "bdata": "AAAAAAAAAACyQ5gMeNH8P8kvhoRBPyRAJhW9m5Un3T8o8yQtIBmlP8w+DgpCkW4/zR2xQLbpNj9IIa29ZSALP29zLkRkV+E+VsyEi6qwpD4AAAAAAAAAAA==",
          "dtype": "f8"
         },
         "yaxis": "y3"
        },
        {
         "hovertemplate": "Sectors=Agriculture<br>scenario=Saigon only<br>Weeks=%{x}<br>Household loss (million USD)=%{y}<extra></extra>",
         "legendgroup": "Agriculture",
         "line": {
          "color": "#636efa",
          "dash": "solid"
         },
         "marker": {
          "symbol": "circle"
         },
         "mode": "lines+markers",
         "name": "Agriculture",
         "orientation": "v",
         "showlegend": false,
         "type": "scatter",
         "x": {
          "bdata": "AAECAwQF",
          "dtype": "i1"
         },
         "xaxis": "x4",
         "y": {
          "bdata": "AAAAAAAAAACHr3bGI8b/P98SuGfDXbE/TVDTQuvqfT81Ieda3wc8P39PKEaIOvk+",
          "dtype": "f8"
         },
         "yaxis": "y4"
        },
        {
         "hovertemplate": "Sectors=Agriculture<br>scenario=Simultaneous<br>Weeks=%{x}<br>Household loss (million USD)=%{y}<extra></extra>",
         "legendgroup": "Agriculture",
         "line": {
          "color": "#636efa",
          "dash": "solid"
         },
         "marker": {
          "symbol": "circle"
         },
         "mode": "lines+markers",
         "name": "Agriculture",
         "orientation": "v",
         "showlegend": false,
         "type": "scatter",
         "x": {
          "bdata": "AAECAwQFBgc=",
          "dtype": "i1"
         },
         "xaxis": "x",
         "y": {
          "bdata": "AAAAAAAAAADoImKIvuQnQGtvI000VeQ/G4mc8KDgsD/jPzguYdx1P5uTAEdmli0/ZvKBSRQc7z5XEMTqvA+iPg==",
          "dtype": "f8"
         },
         "yaxis": "y"
        },
        {
         "hovertemplate": "Sectors=Agriculture<br>scenario=Tonlè Sap only<br>Weeks=%{x}<br>Household loss (million USD)=%{y}<extra></extra>",
         "legendgroup": "Agriculture",
         "line": {
          "color": "#636efa",
          "dash": "solid"
         },
         "marker": {
          "symbol": "circle"
         },
         "mode": "lines+markers",
         "name": "Agriculture",
         "orientation": "v",
         "showlegend": false,
         "type": "scatter",
         "x": {
          "bdata": "AAECAwQFBgcI",
          "dtype": "i1"
         },
         "xaxis": "x2",
         "y": {
          "bdata": "AAAAAAAAAADqQp3fATfyP/4hQtt9Ac4/kdP029jMjD+9AQTH81xOPwt0GNesQRk/anR1rGsX5j6QeVwuVd6xPgAAAAAAAAAA",
          "dtype": "f8"
         },
         "yaxis": "y2"
        },
        {
         "hovertemplate": "Sectors=Construction<br>scenario=Cascading<br>Weeks=%{x}<br>Household loss (million USD)=%{y}<extra></extra>",
         "legendgroup": "Construction",
         "line": {
          "color": "#EF553B",
          "dash": "solid"
         },
         "marker": {
          "symbol": "circle"
         },
         "mode": "lines+markers",
         "name": "Construction",
         "orientation": "v",
         "showlegend": true,
         "type": "scatter",
         "x": {
          "bdata": "AAECAwQFBgcICQo=",
          "dtype": "i1"
         },
         "xaxis": "x5",
         "y": {
          "bdata": "AAAAAAAAAADEGJzbwX3NP6xCDfc+3+4/VUN3Gku5zD9OIRFYfGTwPgAAAAAAAAAAAAAAAAAAAAAAAAAAAAAAAAAAAAAAAAAAAAAAAAAAAAAAAAAAAAAAAA==",
          "dtype": "f8"
         },
         "yaxis": "y5"
        },
        {
         "hovertemplate": "Sectors=Construction<br>scenario=Mekong only<br>Weeks=%{x}<br>Household loss (million USD)=%{y}<extra></extra>",
         "legendgroup": "Construction",
         "line": {
          "color": "#EF553B",
          "dash": "solid"
         },
         "marker": {
          "symbol": "circle"
         },
         "mode": "lines+markers",
         "name": "Construction",
         "orientation": "v",
         "showlegend": false,
         "type": "scatter",
         "x": {
          "bdata": "AAECAwQFBgcICQ==",
          "dtype": "i1"
         },
         "xaxis": "x6",
         "y": {
          "bdata": "AAAAAAAAAADJ4EXXjl/sP0N3H10qa5o/+iTwVxloZT+JLYqtgEAnP3QO9V2XbPI+YI25ii0DtD4AAAAAAAAAAAAAAAAAAAAAAAAAAAAAAAA=",
          "dtype": "f8"
         },
         "yaxis": "y6"
        },
        {
         "hovertemplate": "Sectors=Construction<br>scenario=Mixed<br>Weeks=%{x}<br>Household loss (million USD)=%{y}<extra></extra>",
         "legendgroup": "Construction",
         "line": {
          "color": "#EF553B",
          "dash": "solid"
         },
         "marker": {
          "symbol": "circle"
         },
         "mode": "lines+markers",
         "name": "Construction",
         "orientation": "v",
         "showlegend": false,
         "type": "scatter",
         "x": {
          "bdata": "AAECAwQFBgcICQo=",
          "dtype": "i1"
         },
         "xaxis": "x3",
         "y": {
          "bdata": "AAAAAAAAAABUVOSn5lnNP6xj6Rt4+/E/1Mx/BDDjkD+Um75K+NxRP2zGK1yOXx0/6dLGirG/3j6URmdV50epPgAAAAAAAAAAAAAAAAAAAAAAAAAAAAAAAA==",
          "dtype": "f8"
         },
         "yaxis": "y3"
        },
        {
         "hovertemplate": "Sectors=Construction<br>scenario=Saigon only<br>Weeks=%{x}<br>Household loss (million USD)=%{y}<extra></extra>",
         "legendgroup": "Construction",
         "line": {
          "color": "#EF553B",
          "dash": "solid"
         },
         "marker": {
          "symbol": "circle"
         },
         "mode": "lines+markers",
         "name": "Construction",
         "orientation": "v",
         "showlegend": false,
         "type": "scatter",
         "x": {
          "bdata": "AAECAwQF",
          "dtype": "i1"
         },
         "xaxis": "x4",
         "y": {
          "bdata": "AAAAAAAAAAAyngjBZIDNPwAAAAAAAAAAAAAAAAAAAAAAAAAAAAAAAAAAAAAAAAAA",
          "dtype": "f8"
         },
         "yaxis": "y4"
        },
        {
         "hovertemplate": "Sectors=Construction<br>scenario=Simultaneous<br>Weeks=%{x}<br>Household loss (million USD)=%{y}<extra></extra>",
         "legendgroup": "Construction",
         "line": {
          "color": "#EF553B",
          "dash": "solid"
         },
         "marker": {
          "symbol": "circle"
         },
         "mode": "lines+markers",
         "name": "Construction",
         "orientation": "v",
         "showlegend": false,
         "type": "scatter",
         "x": {
          "bdata": "AAECAwQFBgc=",
          "dtype": "i1"
         },
         "xaxis": "x",
         "y": {
          "bdata": "AAAAAAAAAAAn/qCx5iL0P9jzHaM3lYE/pzgJddHKVT+jUF+cLkQOP6o533mOweI+/ZTDNa0Mmj4AAAAAAAAAAA==",
          "dtype": "f8"
         },
         "yaxis": "y"
        },
        {
         "hovertemplate": "Sectors=Construction<br>scenario=Tonlè Sap only<br>Weeks=%{x}<br>Household loss (million USD)=%{y}<extra></extra>",
         "legendgroup": "Construction",
         "line": {
          "color": "#EF553B",
          "dash": "solid"
         },
         "marker": {
          "symbol": "circle"
         },
         "mode": "lines+markers",
         "name": "Construction",
         "orientation": "v",
         "showlegend": false,
         "type": "scatter",
         "x": {
          "bdata": "AAECAwQFBgcI",
          "dtype": "i1"
         },
         "xaxis": "x2",
         "y": {
          "bdata": "AAAAAAAAAABZr/kBMtHMPwAAAAAAAAAAAAAAAAAAAAAAAAAAAAAAAAAAAAAAAAAAAAAAAAAAAAAAAAAAAAAAAAAAAAAAAAAA",
          "dtype": "f8"
         },
         "yaxis": "y2"
        },
        {
         "hovertemplate": "Sectors=Manufacturing<br>scenario=Cascading<br>Weeks=%{x}<br>Household loss (million USD)=%{y}<extra></extra>",
         "legendgroup": "Manufacturing",
         "line": {
          "color": "#00cc96",
          "dash": "solid"
         },
         "marker": {
          "symbol": "circle"
         },
         "mode": "lines+markers",
         "name": "Manufacturing",
         "orientation": "v",
         "showlegend": true,
         "type": "scatter",
         "x": {
          "bdata": "AAECAwQFBgcICQo=",
          "dtype": "i1"
         },
         "xaxis": "x5",
         "y": {
          "bdata": "AAAAAAAAAAB29Ra0ELn3P6iV1G5r5htA02QXxkT0/T9k4zLrxSLePzj6wCxTgrY/FMgt+WQ5lz+0GBBwfGR4P6nhjurGrVg/xXNwdQrmPT+B5W7PGl8jPw==",
          "dtype": "f8"
         },
         "yaxis": "y5"
        },
        {
         "hovertemplate": "Sectors=Manufacturing<br>scenario=Mekong only<br>Weeks=%{x}<br>Household loss (million USD)=%{y}<extra></extra>",
         "legendgroup": "Manufacturing",
         "line": {
          "color": "#00cc96",
          "dash": "solid"
         },
         "marker": {
          "symbol": "circle"
         },
         "mode": "lines+markers",
         "name": "Manufacturing",
         "orientation": "v",
         "showlegend": false,
         "type": "scatter",
         "x": {
          "bdata": "AAECAwQFBgcICQ==",
          "dtype": "i1"
         },
         "xaxis": "x6",
         "y": {
          "bdata": "AAAAAAAAAAD0WWLToFobQJpoByyjz+Y/9KYjvfpVvD/Mekv/IN+aPwLTOucAv3k/GSkmeXiIUj+xL8YAK3s4PxnQl4A1lRo/r4bOMG+w+j4=",
          "dtype": "f8"
         },
         "yaxis": "y6"
        },
        {
         "hovertemplate": "Sectors=Manufacturing<br>scenario=Mixed<br>Weeks=%{x}<br>Household loss (million USD)=%{y}<extra></extra>",
         "legendgroup": "Manufacturing",
         "line": {
          "color": "#00cc96",
          "dash": "solid"
         },
         "marker": {
          "symbol": "circle"
         },
         "mode": "lines+markers",
         "name": "Manufacturing",
         "orientation": "v",
         "showlegend": false,
         "type": "scatter",
         "x": {
          "bdata": "AAECAwQFBgcICQo=",
          "dtype": "i1"
         },
         "xaxis": "x3",
         "y": {
          "bdata": "AAAAAAAAAADR970NwRj4P5IGAA+Zmx5ADVBZ638w7j9ZqlZ2gKDHP4C498FTQqg/Mpj9X+IWkD9IGLP8zt5wP0lnUqMpKlg/TaYNe9qzQD99/+Zzn2omPw==",
          "dtype": "f8"
         },
         "yaxis": "y3"
        },
        {
         "hovertemplate": "Sectors=Manufacturing<br>scenario=Saigon only<br>Weeks=%{x}<br>Household loss (million USD)=%{y}<extra></extra>",
         "legendgroup": "Manufacturing",
         "line": {
          "color": "#00cc96",
          "dash": "solid"
         },
         "marker": {
          "symbol": "circle"
         },
         "mode": "lines+markers",
         "name": "Manufacturing",
         "orientation": "v",
         "showlegend": false,
         "type": "scatter",
         "x": {
          "bdata": "AAECAwQF",
          "dtype": "i1"
         },
         "xaxis": "x4",
         "y": {
          "bdata": "AAAAAAAAAAABNFPb5qH3P8pMIHmdy7o/49MeTcJFiz8RP3I0NHBhP3PdVE6cZh4/",
          "dtype": "f8"
         },
         "yaxis": "y4"
        },
        {
         "hovertemplate": "Sectors=Manufacturing<br>scenario=Simultaneous<br>Weeks=%{x}<br>Household loss (million USD)=%{y}<extra></extra>",
         "legendgroup": "Manufacturing",
         "line": {
          "color": "#00cc96",
          "dash": "solid"
         },
         "marker": {
          "symbol": "circle"
         },
         "mode": "lines+markers",
         "name": "Manufacturing",
         "orientation": "v",
         "showlegend": false,
         "type": "scatter",
         "x": {
          "bdata": "AAECAwQFBgc=",
          "dtype": "i1"
         },
         "xaxis": "x",
         "y": {
          "bdata": "AAAAAAAAAADL2hH35kYiQPTj+t4Hkeo/ctp7T3BQwz8YJz4+ClOhPzlTjySV23Q/SGzpqxYCSD+NT0oruCsZPw==",
          "dtype": "f8"
         },
         "yaxis": "y"
        },
        {
         "hovertemplate": "Sectors=Manufacturing<br>scenario=Tonlè Sap only<br>Weeks=%{x}<br>Household loss (million USD)=%{y}<extra></extra>",
         "legendgroup": "Manufacturing",
         "line": {
          "color": "#00cc96",
          "dash": "solid"
         },
         "marker": {
          "symbol": "circle"
         },
         "mode": "lines+markers",
         "name": "Manufacturing",
         "orientation": "v",
         "showlegend": false,
         "type": "scatter",
         "x": {
          "bdata": "AAECAwQFBgcI",
          "dtype": "i1"
         },
         "xaxis": "x2",
         "y": {
          "bdata": "AAAAAAAAAADsxl8UFtPvP6iQXduQd80/DD8/qVshoz/GL7SXqeh7PzsGQGTd01E/6vh2JCLrLz8X7qevXtMTPwNyWe+MOfY+",
          "dtype": "f8"
         },
         "yaxis": "y2"
        },
        {
         "hovertemplate": "Sectors=Mining and quarrying<br>scenario=Cascading<br>Weeks=%{x}<br>Household loss (million USD)=%{y}<extra></extra>",
         "legendgroup": "Mining and quarrying",
         "line": {
          "color": "#ab63fa",
          "dash": "solid"
         },
         "marker": {
          "symbol": "circle"
         },
         "mode": "lines+markers",
         "name": "Mining and quarrying",
         "orientation": "v",
         "showlegend": true,
         "type": "scatter",
         "x": {
          "bdata": "AAECAwQFBgcICQo=",
          "dtype": "i1"
         },
         "xaxis": "x5",
         "y": {
          "bdata": "AAAAAAAAAABmp6wFb9+yP9poVubE5cw/rVxq/xpyqj9gKsnlprIoP94nLpHA1vI+snTOT9uD+j6zNN5k6LznPsZNOR+XlaU+AAAAAAAAAAAAAAAAAAAAAA==",
          "dtype": "f8"
         },
         "yaxis": "y5"
        },
        {
         "hovertemplate": "Sectors=Mining and quarrying<br>scenario=Mekong only<br>Weeks=%{x}<br>Household loss (million USD)=%{y}<extra></extra>",
         "legendgroup": "Mining and quarrying",
         "line": {
          "color": "#ab63fa",
          "dash": "solid"
         },
         "marker": {
          "symbol": "circle"
         },
         "mode": "lines+markers",
         "name": "Mining and quarrying",
         "orientation": "v",
         "showlegend": false,
         "type": "scatter",
         "x": {
          "bdata": "AAECAwQFBgcICQ==",
          "dtype": "i1"
         },
         "xaxis": "x6",
         "y": {
          "bdata": "AAAAAAAAAADVcz3eVMnMP0X9TSwPGkM/AAAAAAAAAAAt/hiARVgoP/SszDDt1Ag/cpLg2+SQ4T7vfy1TExi2PqgYyujKCIw+AAAAAAAAAAA=",
          "dtype": "f8"
         },
         "yaxis": "y6"
        },
        {
         "hovertemplate": "Sectors=Mining and quarrying<br>scenario=Mixed<br>Weeks=%{x}<br>Household loss (million USD)=%{y}<extra></extra>",
         "legendgroup": "Mining and quarrying",
         "line": {
          "color": "#ab63fa",
          "dash": "solid"
         },
         "marker": {
          "symbol": "circle"
         },
         "mode": "lines+markers",
         "name": "Mining and quarrying",
         "orientation": "v",
         "showlegend": false,
         "type": "scatter",
         "x": {
          "bdata": "AAECAwQFBgcICQo=",
          "dtype": "i1"
         },
         "xaxis": "x3",
         "y": {
          "bdata": "AAAAAAAAAABmp6wFb9+yP6JGwduyWtA/AAAAAAAAAAAAAAAAAAAAAPRTe92RKQE/VcgZ8TPzCD8HJyZwIYvHPuEL95l9Was+AAAAAAAAAAAAAAAAAAAAAA==",
          "dtype": "f8"
         },
         "yaxis": "y3"
        },
        {
         "hovertemplate": "Sectors=Mining and quarrying<br>scenario=Saigon only<br>Weeks=%{x}<br>Household loss (million USD)=%{y}<extra></extra>",
         "legendgroup": "Mining and quarrying",
         "line": {
          "color": "#ab63fa",
          "dash": "solid"
         },
         "marker": {
          "symbol": "circle"
         },
         "mode": "lines+markers",
         "name": "Mining and quarrying",
         "orientation": "v",
         "showlegend": false,
         "type": "scatter",
         "x": {
          "bdata": "AAECAwQF",
          "dtype": "i1"
         },
         "xaxis": "x4",
         "y": {
          "bdata": "AAAAAAAAAABdU1ISBeyyPwAAAAAAAAAAAAAAAAAAAAAAAAAAAAAAAAAAAAAAAAAA",
          "dtype": "f8"
         },
         "yaxis": "y4"
        },
        {
         "hovertemplate": "Sectors=Mining and quarrying<br>scenario=Simultaneous<br>Weeks=%{x}<br>Household loss (million USD)=%{y}<extra></extra>",
         "legendgroup": "Mining and quarrying",
         "line": {
          "color": "#ab63fa",
          "dash": "solid"
         },
         "marker": {
          "symbol": "circle"
         },
         "mode": "lines+markers",
         "name": "Mining and quarrying",
         "orientation": "v",
         "showlegend": false,
         "type": "scatter",
         "x": {
          "bdata": "AAECAwQFBgc=",
          "dtype": "i1"
         },
         "xaxis": "x",
         "y": {
          "bdata": "AAAAAAAAAAAct8fApIHWP5hy8eis5yk/AAAAAAAAAAAzZtSy62oUPz2AHVApFAc/YR0iC8XE1j5feYKvtralPg==",
          "dtype": "f8"
         },
         "yaxis": "y"
        },
        {
         "hovertemplate": "Sectors=Mining and quarrying<br>scenario=Tonlè Sap only<br>Weeks=%{x}<br>Household loss (million USD)=%{y}<extra></extra>",
         "legendgroup": "Mining and quarrying",
         "line": {
          "color": "#ab63fa",
          "dash": "solid"
         },
         "marker": {
          "symbol": "circle"
         },
         "mode": "lines+markers",
         "name": "Mining and quarrying",
         "orientation": "v",
         "showlegend": false,
         "type": "scatter",
         "x": {
          "bdata": "AAECAwQFBgcI",
          "dtype": "i1"
         },
         "xaxis": "x2",
         "y": {
          "bdata": "AAAAAAAAAADr05DLjWyqPwAAAAAAAAAAAAAAAAAAAABfeFMBk8S0Ph8NiMHJ9r0+vpGpdNtgwD7W46EqbthDPgAAAAAAAAAA",
          "dtype": "f8"
         },
         "yaxis": "y2"
        },
        {
         "hovertemplate": "Sectors=Other sectors<br>scenario=Cascading<br>Weeks=%{x}<br>Household loss (million USD)=%{y}<extra></extra>",
         "legendgroup": "Other sectors",
         "line": {
          "color": "#FFA15A",
          "dash": "solid"
         },
         "marker": {
          "symbol": "circle"
         },
         "mode": "lines+markers",
         "name": "Other sectors",
         "orientation": "v",
         "showlegend": true,
         "type": "scatter",
         "x": {
          "bdata": "AAECAwQFBgcICQo=",
          "dtype": "i1"
         },
         "xaxis": "x5",
         "y": {
          "bdata": "AAAAAAAAAAAAAAAAAAAAAHEWTxXUxqI/ehzNlY8Syj/CaJHD+GjEP6340STkipY/aTaG5OXyZz+bJnOVU4c3PydtxtCOwAk/a1AanUce1D5TaJIZ3eSXPg==",
          "dtype": "f8"
         },
         "yaxis": "y5"
        },
        {
         "hovertemplate": "Sectors=Other sectors<br>scenario=Mekong only<br>Weeks=%{x}<br>Household loss (million USD)=%{y}<extra></extra>",
         "legendgroup": "Other sectors",
         "line": {
          "color": "#FFA15A",
          "dash": "solid"
         },
         "marker": {
          "symbol": "circle"
         },
         "mode": "lines+markers",
         "name": "Other sectors",
         "orientation": "v",
         "showlegend": false,
         "type": "scatter",
         "x": {
          "bdata": "AAECAwQFBgcICQ==",
          "dtype": "i1"
         },
         "xaxis": "x6",
         "y": {
          "bdata": "AAAAAAAAAAAAAAAAAAAAABJVtHMC0tA/KIqkF5V0sD8i97cAU2SIP8uAxvsOV2A/qhqtUAq4ND+51C8nWrYJP2CHfP0ugNk+AAAAAAAAAAA=",
          "dtype": "f8"
         },
         "yaxis": "y6"
        },
        {
         "hovertemplate": "Sectors=Other sectors<br>scenario=Mixed<br>Weeks=%{x}<br>Household loss (million USD)=%{y}<extra></extra>",
         "legendgroup": "Other sectors",
         "line": {
          "color": "#FFA15A",
          "dash": "solid"
         },
         "marker": {
          "symbol": "circle"
         },
         "mode": "lines+markers",
         "name": "Other sectors",
         "orientation": "v",
         "showlegend": false,
         "type": "scatter",
         "x": {
          "bdata": "AAECAwQFBgcICQo=",
          "dtype": "i1"
         },
         "xaxis": "x3",
         "y": {
          "bdata": "AAAAAAAAAAAAAAAAAAAAAM7GwRSHaK4/rMDW0/hL0j8YBEJIIUepPwkm1pb+boI/XY4EZ96NVD96jp8QmuMlP2+cysdXX/s+STT17FvGoz4AAAAAAAAAAA==",
          "dtype": "f8"
         },
         "yaxis": "y3"
        },
        {
         "hovertemplate": "Sectors=Other sectors<br>scenario=Saigon only<br>Weeks=%{x}<br>Household loss (million USD)=%{y}<extra></extra>",
         "legendgroup": "Other sectors",
         "line": {
          "color": "#FFA15A",
          "dash": "solid"
         },
         "marker": {
          "symbol": "circle"
         },
         "mode": "lines+markers",
         "name": "Other sectors",
         "orientation": "v",
         "showlegend": false,
         "type": "scatter",
         "x": {
          "bdata": "AAECAwQF",
          "dtype": "i1"
         },
         "xaxis": "x4",
         "y": {
          "bdata": "AAAAAAAAAAAAAAAAAAAAAJfIQw71N48/DRL02mdhRz/yErEPL38HP4IpfjRsUwQ/",
          "dtype": "f8"
         },
         "yaxis": "y4"
        },
        {
         "hovertemplate": "Sectors=Other sectors<br>scenario=Simultaneous<br>Weeks=%{x}<br>Household loss (million USD)=%{y}<extra></extra>",
         "legendgroup": "Other sectors",
         "line": {
          "color": "#FFA15A",
          "dash": "solid"
         },
         "marker": {
          "symbol": "circle"
         },
         "mode": "lines+markers",
         "name": "Other sectors",
         "orientation": "v",
         "showlegend": false,
         "type": "scatter",
         "x": {
          "bdata": "AAECAwQFBgc=",
          "dtype": "i1"
         },
         "xaxis": "x",
         "y": {
          "bdata": "AAAAAAAAAAAAAAAAAAAAAMpRiSDxqcs/rSYPbiV9pT/o/MvvcKCGP6xfBPqGx1Y/BRxlBJa8KD8RO8vZnxD+Pg==",
          "dtype": "f8"
         },
         "yaxis": "y"
        },
        {
         "hovertemplate": "Sectors=Other sectors<br>scenario=Tonlè Sap only<br>Weeks=%{x}<br>Household loss (million USD)=%{y}<extra></extra>",
         "legendgroup": "Other sectors",
         "line": {
          "color": "#FFA15A",
          "dash": "solid"
         },
         "marker": {
          "symbol": "circle"
         },
         "mode": "lines+markers",
         "name": "Other sectors",
         "orientation": "v",
         "showlegend": false,
         "type": "scatter",
         "x": {
          "bdata": "AAECAwQFBgcI",
          "dtype": "i1"
         },
         "xaxis": "x2",
         "y": {
          "bdata": "AAAAAAAAAAAAAAAAAAAAABSMPgnTTcU/H6A21V8SjD8CyEmpBglkP82K5eKTKjY/m7V46qGGBT9XbnpC4cHEPgAAAAAAAAAA",
          "dtype": "f8"
         },
         "yaxis": "y2"
        }
       ],
       "layout": {
        "annotations": [
         {
          "font": {},
          "showarrow": false,
          "text": "scenario=Simultaneous",
          "x": 0.245,
          "xanchor": "center",
          "xref": "paper",
          "y": 0.2866666666666666,
          "yanchor": "bottom",
          "yref": "paper"
         },
         {
          "font": {},
          "showarrow": false,
          "text": "scenario=Tonlè Sap only",
          "x": 0.755,
          "xanchor": "center",
          "xref": "paper",
          "y": 0.2866666666666666,
          "yanchor": "bottom",
          "yref": "paper"
         },
         {
          "font": {},
          "showarrow": false,
          "text": "scenario=Mixed",
          "x": 0.245,
          "xanchor": "center",
          "xref": "paper",
          "y": 0.6433333333333333,
          "yanchor": "bottom",
          "yref": "paper"
         },
         {
          "font": {},
          "showarrow": false,
          "text": "scenario=Saigon only",
          "x": 0.755,
          "xanchor": "center",
          "xref": "paper",
          "y": 0.6433333333333333,
          "yanchor": "bottom",
          "yref": "paper"
         },
         {
          "font": {},
          "showarrow": false,
          "text": "scenario=Cascading",
          "x": 0.245,
          "xanchor": "center",
          "xref": "paper",
          "y": 0.9999999999999999,
          "yanchor": "bottom",
          "yref": "paper"
         },
         {
          "font": {},
          "showarrow": false,
          "text": "scenario=Mekong only",
          "x": 0.755,
          "xanchor": "center",
          "xref": "paper",
          "y": 0.9999999999999999,
          "yanchor": "bottom",
          "yref": "paper"
         }
        ],
        "height": 900,
        "legend": {
         "title": {
          "text": "Sectors"
         },
         "tracegroupgap": 0
        },
        "margin": {
         "t": 60
        },
        "template": {
         "data": {
          "bar": [
           {
            "error_x": {
             "color": "#2a3f5f"
            },
            "error_y": {
             "color": "#2a3f5f"
            },
            "marker": {
             "line": {
              "color": "#E5ECF6",
              "width": 0.5
             },
             "pattern": {
              "fillmode": "overlay",
              "size": 10,
              "solidity": 0.2
             }
            },
            "type": "bar"
           }
          ],
          "barpolar": [
           {
            "marker": {
             "line": {
              "color": "#E5ECF6",
              "width": 0.5
             },
             "pattern": {
              "fillmode": "overlay",
              "size": 10,
              "solidity": 0.2
             }
            },
            "type": "barpolar"
           }
          ],
          "carpet": [
           {
            "aaxis": {
             "endlinecolor": "#2a3f5f",
             "gridcolor": "white",
             "linecolor": "white",
             "minorgridcolor": "white",
             "startlinecolor": "#2a3f5f"
            },
            "baxis": {
             "endlinecolor": "#2a3f5f",
             "gridcolor": "white",
             "linecolor": "white",
             "minorgridcolor": "white",
             "startlinecolor": "#2a3f5f"
            },
            "type": "carpet"
           }
          ],
          "choropleth": [
           {
            "colorbar": {
             "outlinewidth": 0,
             "ticks": ""
            },
            "type": "choropleth"
           }
          ],
          "contour": [
           {
            "colorbar": {
             "outlinewidth": 0,
             "ticks": ""
            },
            "colorscale": [
             [
              0,
              "#0d0887"
             ],
             [
              0.1111111111111111,
              "#46039f"
             ],
             [
              0.2222222222222222,
              "#7201a8"
             ],
             [
              0.3333333333333333,
              "#9c179e"
             ],
             [
              0.4444444444444444,
              "#bd3786"
             ],
             [
              0.5555555555555556,
              "#d8576b"
             ],
             [
              0.6666666666666666,
              "#ed7953"
             ],
             [
              0.7777777777777778,
              "#fb9f3a"
             ],
             [
              0.8888888888888888,
              "#fdca26"
             ],
             [
              1,
              "#f0f921"
             ]
            ],
            "type": "contour"
           }
          ],
          "contourcarpet": [
           {
            "colorbar": {
             "outlinewidth": 0,
             "ticks": ""
            },
            "type": "contourcarpet"
           }
          ],
          "heatmap": [
           {
            "colorbar": {
             "outlinewidth": 0,
             "ticks": ""
            },
            "colorscale": [
             [
              0,
              "#0d0887"
             ],
             [
              0.1111111111111111,
              "#46039f"
             ],
             [
              0.2222222222222222,
              "#7201a8"
             ],
             [
              0.3333333333333333,
              "#9c179e"
             ],
             [
              0.4444444444444444,
              "#bd3786"
             ],
             [
              0.5555555555555556,
              "#d8576b"
             ],
             [
              0.6666666666666666,
              "#ed7953"
             ],
             [
              0.7777777777777778,
              "#fb9f3a"
             ],
             [
              0.8888888888888888,
              "#fdca26"
             ],
             [
              1,
              "#f0f921"
             ]
            ],
            "type": "heatmap"
           }
          ],
          "histogram": [
           {
            "marker": {
             "pattern": {
              "fillmode": "overlay",
              "size": 10,
              "solidity": 0.2
             }
            },
            "type": "histogram"
           }
          ],
          "histogram2d": [
           {
            "colorbar": {
             "outlinewidth": 0,
             "ticks": ""
            },
            "colorscale": [
             [
              0,
              "#0d0887"
             ],
             [
              0.1111111111111111,
              "#46039f"
             ],
             [
              0.2222222222222222,
              "#7201a8"
             ],
             [
              0.3333333333333333,
              "#9c179e"
             ],
             [
              0.4444444444444444,
              "#bd3786"
             ],
             [
              0.5555555555555556,
              "#d8576b"
             ],
             [
              0.6666666666666666,
              "#ed7953"
             ],
             [
              0.7777777777777778,
              "#fb9f3a"
             ],
             [
              0.8888888888888888,
              "#fdca26"
             ],
             [
              1,
              "#f0f921"
             ]
            ],
            "type": "histogram2d"
           }
          ],
          "histogram2dcontour": [
           {
            "colorbar": {
             "outlinewidth": 0,
             "ticks": ""
            },
            "colorscale": [
             [
              0,
              "#0d0887"
             ],
             [
              0.1111111111111111,
              "#46039f"
             ],
             [
              0.2222222222222222,
              "#7201a8"
             ],
             [
              0.3333333333333333,
              "#9c179e"
             ],
             [
              0.4444444444444444,
              "#bd3786"
             ],
             [
              0.5555555555555556,
              "#d8576b"
             ],
             [
              0.6666666666666666,
              "#ed7953"
             ],
             [
              0.7777777777777778,
              "#fb9f3a"
             ],
             [
              0.8888888888888888,
              "#fdca26"
             ],
             [
              1,
              "#f0f921"
             ]
            ],
            "type": "histogram2dcontour"
           }
          ],
          "mesh3d": [
           {
            "colorbar": {
             "outlinewidth": 0,
             "ticks": ""
            },
            "type": "mesh3d"
           }
          ],
          "parcoords": [
           {
            "line": {
             "colorbar": {
              "outlinewidth": 0,
              "ticks": ""
             }
            },
            "type": "parcoords"
           }
          ],
          "pie": [
           {
            "automargin": true,
            "type": "pie"
           }
          ],
          "scatter": [
           {
            "fillpattern": {
             "fillmode": "overlay",
             "size": 10,
             "solidity": 0.2
            },
            "type": "scatter"
           }
          ],
          "scatter3d": [
           {
            "line": {
             "colorbar": {
              "outlinewidth": 0,
              "ticks": ""
             }
            },
            "marker": {
             "colorbar": {
              "outlinewidth": 0,
              "ticks": ""
             }
            },
            "type": "scatter3d"
           }
          ],
          "scattercarpet": [
           {
            "marker": {
             "colorbar": {
              "outlinewidth": 0,
              "ticks": ""
             }
            },
            "type": "scattercarpet"
           }
          ],
          "scattergeo": [
           {
            "marker": {
             "colorbar": {
              "outlinewidth": 0,
              "ticks": ""
             }
            },
            "type": "scattergeo"
           }
          ],
          "scattergl": [
           {
            "marker": {
             "colorbar": {
              "outlinewidth": 0,
              "ticks": ""
             }
            },
            "type": "scattergl"
           }
          ],
          "scattermap": [
           {
            "marker": {
             "colorbar": {
              "outlinewidth": 0,
              "ticks": ""
             }
            },
            "type": "scattermap"
           }
          ],
          "scattermapbox": [
           {
            "marker": {
             "colorbar": {
              "outlinewidth": 0,
              "ticks": ""
             }
            },
            "type": "scattermapbox"
           }
          ],
          "scatterpolar": [
           {
            "marker": {
             "colorbar": {
              "outlinewidth": 0,
              "ticks": ""
             }
            },
            "type": "scatterpolar"
           }
          ],
          "scatterpolargl": [
           {
            "marker": {
             "colorbar": {
              "outlinewidth": 0,
              "ticks": ""
             }
            },
            "type": "scatterpolargl"
           }
          ],
          "scatterternary": [
           {
            "marker": {
             "colorbar": {
              "outlinewidth": 0,
              "ticks": ""
             }
            },
            "type": "scatterternary"
           }
          ],
          "surface": [
           {
            "colorbar": {
             "outlinewidth": 0,
             "ticks": ""
            },
            "colorscale": [
             [
              0,
              "#0d0887"
             ],
             [
              0.1111111111111111,
              "#46039f"
             ],
             [
              0.2222222222222222,
              "#7201a8"
             ],
             [
              0.3333333333333333,
              "#9c179e"
             ],
             [
              0.4444444444444444,
              "#bd3786"
             ],
             [
              0.5555555555555556,
              "#d8576b"
             ],
             [
              0.6666666666666666,
              "#ed7953"
             ],
             [
              0.7777777777777778,
              "#fb9f3a"
             ],
             [
              0.8888888888888888,
              "#fdca26"
             ],
             [
              1,
              "#f0f921"
             ]
            ],
            "type": "surface"
           }
          ],
          "table": [
           {
            "cells": {
             "fill": {
              "color": "#EBF0F8"
             },
             "line": {
              "color": "white"
             }
            },
            "header": {
             "fill": {
              "color": "#C8D4E3"
             },
             "line": {
              "color": "white"
             }
            },
            "type": "table"
           }
          ]
         },
         "layout": {
          "annotationdefaults": {
           "arrowcolor": "#2a3f5f",
           "arrowhead": 0,
           "arrowwidth": 1
          },
          "autotypenumbers": "strict",
          "coloraxis": {
           "colorbar": {
            "outlinewidth": 0,
            "ticks": ""
           }
          },
          "colorscale": {
           "diverging": [
            [
             0,
             "#8e0152"
            ],
            [
             0.1,
             "#c51b7d"
            ],
            [
             0.2,
             "#de77ae"
            ],
            [
             0.3,
             "#f1b6da"
            ],
            [
             0.4,
             "#fde0ef"
            ],
            [
             0.5,
             "#f7f7f7"
            ],
            [
             0.6,
             "#e6f5d0"
            ],
            [
             0.7,
             "#b8e186"
            ],
            [
             0.8,
             "#7fbc41"
            ],
            [
             0.9,
             "#4d9221"
            ],
            [
             1,
             "#276419"
            ]
           ],
           "sequential": [
            [
             0,
             "#0d0887"
            ],
            [
             0.1111111111111111,
             "#46039f"
            ],
            [
             0.2222222222222222,
             "#7201a8"
            ],
            [
             0.3333333333333333,
             "#9c179e"
            ],
            [
             0.4444444444444444,
             "#bd3786"
            ],
            [
             0.5555555555555556,
             "#d8576b"
            ],
            [
             0.6666666666666666,
             "#ed7953"
            ],
            [
             0.7777777777777778,
             "#fb9f3a"
            ],
            [
             0.8888888888888888,
             "#fdca26"
            ],
            [
             1,
             "#f0f921"
            ]
           ],
           "sequentialminus": [
            [
             0,
             "#0d0887"
            ],
            [
             0.1111111111111111,
             "#46039f"
            ],
            [
             0.2222222222222222,
             "#7201a8"
            ],
            [
             0.3333333333333333,
             "#9c179e"
            ],
            [
             0.4444444444444444,
             "#bd3786"
            ],
            [
             0.5555555555555556,
             "#d8576b"
            ],
            [
             0.6666666666666666,
             "#ed7953"
            ],
            [
             0.7777777777777778,
             "#fb9f3a"
            ],
            [
             0.8888888888888888,
             "#fdca26"
            ],
            [
             1,
             "#f0f921"
            ]
           ]
          },
          "colorway": [
           "#636efa",
           "#EF553B",
           "#00cc96",
           "#ab63fa",
           "#FFA15A",
           "#19d3f3",
           "#FF6692",
           "#B6E880",
           "#FF97FF",
           "#FECB52"
          ],
          "font": {
           "color": "#2a3f5f"
          },
          "geo": {
           "bgcolor": "white",
           "lakecolor": "white",
           "landcolor": "#E5ECF6",
           "showlakes": true,
           "showland": true,
           "subunitcolor": "white"
          },
          "hoverlabel": {
           "align": "left"
          },
          "hovermode": "closest",
          "mapbox": {
           "style": "light"
          },
          "paper_bgcolor": "white",
          "plot_bgcolor": "#E5ECF6",
          "polar": {
           "angularaxis": {
            "gridcolor": "white",
            "linecolor": "white",
            "ticks": ""
           },
           "bgcolor": "#E5ECF6",
           "radialaxis": {
            "gridcolor": "white",
            "linecolor": "white",
            "ticks": ""
           }
          },
          "scene": {
           "xaxis": {
            "backgroundcolor": "#E5ECF6",
            "gridcolor": "white",
            "gridwidth": 2,
            "linecolor": "white",
            "showbackground": true,
            "ticks": "",
            "zerolinecolor": "white"
           },
           "yaxis": {
            "backgroundcolor": "#E5ECF6",
            "gridcolor": "white",
            "gridwidth": 2,
            "linecolor": "white",
            "showbackground": true,
            "ticks": "",
            "zerolinecolor": "white"
           },
           "zaxis": {
            "backgroundcolor": "#E5ECF6",
            "gridcolor": "white",
            "gridwidth": 2,
            "linecolor": "white",
            "showbackground": true,
            "ticks": "",
            "zerolinecolor": "white"
           }
          },
          "shapedefaults": {
           "line": {
            "color": "#2a3f5f"
           }
          },
          "ternary": {
           "aaxis": {
            "gridcolor": "white",
            "linecolor": "white",
            "ticks": ""
           },
           "baxis": {
            "gridcolor": "white",
            "linecolor": "white",
            "ticks": ""
           },
           "bgcolor": "#E5ECF6",
           "caxis": {
            "gridcolor": "white",
            "linecolor": "white",
            "ticks": ""
           }
          },
          "title": {
           "x": 0.05
          },
          "xaxis": {
           "automargin": true,
           "gridcolor": "white",
           "linecolor": "white",
           "ticks": "",
           "title": {
            "standoff": 15
           },
           "zerolinecolor": "white",
           "zerolinewidth": 2
          },
          "yaxis": {
           "automargin": true,
           "gridcolor": "white",
           "linecolor": "white",
           "ticks": "",
           "title": {
            "standoff": 15
           },
           "zerolinecolor": "white",
           "zerolinewidth": 2
          }
         }
        },
        "width": 1200,
        "xaxis": {
         "anchor": "y",
         "domain": [
          0,
          0.49
         ],
         "title": {
          "text": "Weeks"
         }
        },
        "xaxis2": {
         "anchor": "y2",
         "domain": [
          0.51,
          1
         ],
         "matches": "x",
         "title": {
          "text": "Weeks"
         }
        },
        "xaxis3": {
         "anchor": "y3",
         "domain": [
          0,
          0.49
         ],
         "matches": "x",
         "showticklabels": false
        },
        "xaxis4": {
         "anchor": "y4",
         "domain": [
          0.51,
          1
         ],
         "matches": "x",
         "showticklabels": false
        },
        "xaxis5": {
         "anchor": "y5",
         "domain": [
          0,
          0.49
         ],
         "matches": "x",
         "showticklabels": false
        },
        "xaxis6": {
         "anchor": "y6",
         "domain": [
          0.51,
          1
         ],
         "matches": "x",
         "showticklabels": false
        },
        "yaxis": {
         "anchor": "x",
         "domain": [
          0,
          0.2866666666666666
         ],
         "title": {
          "text": "Household loss (million USD)"
         }
        },
        "yaxis2": {
         "anchor": "x2",
         "domain": [
          0,
          0.2866666666666666
         ],
         "matches": "y",
         "showticklabels": false
        },
        "yaxis3": {
         "anchor": "x3",
         "domain": [
          0.35666666666666663,
          0.6433333333333333
         ],
         "matches": "y",
         "title": {
          "text": "Household loss (million USD)"
         }
        },
        "yaxis4": {
         "anchor": "x4",
         "domain": [
          0.35666666666666663,
          0.6433333333333333
         ],
         "matches": "y",
         "showticklabels": false
        },
        "yaxis5": {
         "anchor": "x5",
         "domain": [
          0.7133333333333333,
          0.9999999999999999
         ],
         "matches": "y",
         "title": {
          "text": "Household loss (million USD)"
         }
        },
        "yaxis6": {
         "anchor": "x6",
         "domain": [
          0.7133333333333333,
          0.9999999999999999
         ],
         "matches": "y",
         "showticklabels": false
        }
       }
      }
     },
     "metadata": {},
     "output_type": "display_data"
    }
   ],
   "source": [
    "if not rs_df.empty:\n",
    "    sector_group_time_series = rs_df.groupby(['scenario', 'sector_group', 'time_step'])['loss'].sum().reset_index()\n",
    "    \n",
    "    fig6 = px.line(\n",
    "        sector_group_time_series,\n",
    "        x='time_step',\n",
    "        y='loss',\n",
    "        color='sector_group',\n",
    "        facet_col='scenario',\n",
    "        facet_col_wrap=2,\n",
    "        height=900,\n",
    "        width=1200,\n",
    "        markers=True,\n",
    "        labels={\n",
    "            'time_step': 'Weeks', \n",
    "            'loss': 'Household loss (million USD)',\n",
    "            'sector_group': 'Sectors'\n",
    "        }\n",
    "    )\n",
    "    \n",
    "    fig6.show()"
   ]
  }
 ],
 "metadata": {
  "kernelspec": {
   "display_name": "Python 3 (ipykernel)",
   "language": "python",
   "name": "python3"
  },
  "language_info": {
   "codemirror_mode": {
    "name": "ipython",
    "version": 3
   },
   "file_extension": ".py",
   "mimetype": "text/x-python",
   "name": "python",
   "nbconvert_exporter": "python",
   "pygments_lexer": "ipython3",
   "version": "3.11.6"
  }
 },
 "nbformat": 4,
 "nbformat_minor": 5
}
