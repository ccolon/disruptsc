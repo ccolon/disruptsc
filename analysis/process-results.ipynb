{
 "cells": [
  {
   "cell_type": "code",
   "execution_count": null,
   "id": "2487c4df",
   "metadata": {},
   "outputs": [],
   "source": [
    "import pandas as pd\n",
    "import glob\n",
    "import os\n",
    "import re\n",
    "from pathlib import Path"
   ]
  },
  {
   "cell_type": "code",
   "execution_count": null,
   "id": "4ce85f96",
   "metadata": {},
   "outputs": [],
   "source": [
    "disruption_csv_folder = '/projects/disruptsc/disrupt-sc_cambodia_v2/output/Cambodia/'\n",
    "pattern = 'disruption_*.csv'"
   ]
  },
  {
   "cell_type": "code",
   "execution_count": null,
   "id": "095e1797",
   "metadata": {},
   "outputs": [],
   "source": [
    "csv_files = glob.glob(os.path.join(disruption_csv_folder, pattern))\n",
    "print(f\"Found {len(csv_files)} disruption CSV files:\")\n",
    "for file in csv_files:\n",
    "    print(f\"  - {os.path.basename(file)}\")"
   ]
  },
  {
   "cell_type": "code",
   "execution_count": null,
   "id": "63740232",
   "metadata": {},
   "outputs": [],
   "source": [
    "all_data = []\n",
    "\n",
    "for file in csv_files:\n",
    "        df = pd.read_csv(file)\n",
    "        df['filename'] = os.path.basename(file)    \n",
    "        all_data.append(df)\n",
    "\n",
    "merged_df = pd.concat(all_data, ignore_index=True)\n",
    "print(f\"\\nMerged: {len(merged_df)} total rows\")\n",
    "print(f\"Columns: {list(merged_df.columns)}\")\n",
    "    \n",
    "print(merged_df['simulation_name'].unique())\n",
    "print(f\"Durations: {merged_df['duration'].unique()}\")\n",
    "\n",
    "merged_df = merged_df.sort_values(by=['simulation_name', 'duration', 'mc_repetition'])"
   ]
  },
  {
   "cell_type": "code",
   "execution_count": null,
   "id": "dc18cd8a",
   "metadata": {},
   "outputs": [],
   "source": [
    "merged_df"
   ]
  },
  {
   "cell_type": "code",
   "execution_count": null,
   "id": "78f0dc67",
   "metadata": {},
   "outputs": [],
   "source": [
    "def extract_time_lag(sim_name):\n",
    "    if sim_name.startswith(\"cascading_hazards_\"):\n",
    "        match = re.search(r'cascading_hazards_(\\d+)d', sim_name)\n",
    "        if match:\n",
    "            return int(match.group(1))\n",
    "    return 0\n",
    "\n",
    "merged_df['time_lag'] = merged_df['simulation_name'].apply(extract_time_lag)"
   ]
  },
  {
   "cell_type": "code",
   "execution_count": null,
   "id": "8c13ef30",
   "metadata": {},
   "outputs": [],
   "source": [
    "cols = list(merged_df.columns)\n",
    "if 'time_lag' in cols:\n",
    "    cols.remove('time_lag')\n",
    "    sim_index = cols.index('simulation_name')\n",
    "    cols.insert(sim_index + 1, 'time_lag')\n",
    "    merged_df = merged_df[cols]"
   ]
  },
  {
   "cell_type": "code",
   "execution_count": null,
   "id": "494a011c",
   "metadata": {},
   "outputs": [],
   "source": [
    "merged_df.to_csv(\"cambodia_simulations_results.csv\")"
   ]
  },
  {
   "cell_type": "markdown",
   "id": "b6e4c183",
   "metadata": {},
   "source": []
  },
  {
   "cell_type": "code",
   "execution_count": null,
   "id": "5e0af5a7",
   "metadata": {},
   "outputs": [],
   "source": []
  }
 ],
 "metadata": {
  "kernelspec": {
   "display_name": "dsc",
   "language": "python",
   "name": "python3"
  },
  "language_info": {
   "codemirror_mode": {
    "name": "ipython",
    "version": 3
   },
   "file_extension": ".py",
   "mimetype": "text/x-python",
   "name": "python",
   "nbconvert_exporter": "python",
   "pygments_lexer": "ipython3",
   "version": "3.10.16"
  }
 },
 "nbformat": 4,
 "nbformat_minor": 5
}
